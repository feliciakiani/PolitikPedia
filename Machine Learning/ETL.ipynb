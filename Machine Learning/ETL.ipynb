{
  "nbformat": 4,
  "nbformat_minor": 0,
  "metadata": {
    "colab": {
      "provenance": [],
      "authorship_tag": "ABX9TyM7EMGntlFhOvB8foHZkEhE",
      "include_colab_link": true
    },
    "kernelspec": {
      "name": "python3",
      "display_name": "Python 3"
    },
    "language_info": {
      "name": "python"
    }
  },
  "cells": [
    {
      "cell_type": "markdown",
      "metadata": {
        "id": "view-in-github",
        "colab_type": "text"
      },
      "source": [
        "<a href=\"https://colab.research.google.com/github/feliciakiani/PolitikPedia/blob/main/Machine%20Learning/ETL.ipynb\" target=\"_parent\"><img src=\"https://colab.research.google.com/assets/colab-badge.svg\" alt=\"Open In Colab\"/></a>"
      ]
    },
    {
      "cell_type": "code",
      "execution_count": null,
      "metadata": {
        "id": "heQqdoJX7pWK"
      },
      "outputs": [],
      "source": [
        "import mysql.connector\n",
        "from textblob import TextBlob\n",
        "from keras.preprocessing.sequence import pad_sequences\n",
        "\n",
        "# Koneksi ke database Cloud SQL\n",
        "conn = mysql.connector.connect(\n",
        "    host='your-cloud-sql-host',\n",
        "    user='your-username',\n",
        "    password='your-password',\n",
        "    database='your-database'\n",
        ")\n",
        "\n",
        "# Buat kursor\n",
        "cursor = conn.cursor()\n",
        "\n",
        "# Query data komentar\n",
        "query = \"SELECT id, comment_text FROM comments\"\n",
        "cursor.execute(query)\n",
        "comments = cursor.fetchall()\n",
        "\n",
        "# Loop through each comment\n",
        "for comment_id, comment_text in comments:\n",
        "    # Tokenize and pad the new text\n",
        "    new_sequence = tokenizer.texts_to_sequences([comment_text])\n",
        "    new_padded_sequence = pad_sequences(new_sequence, maxlen=max_length, padding='post')\n",
        "\n",
        "    # Make predictions\n",
        "    prediction = model.predict(new_padded_sequence)\n",
        "\n",
        "    # Extract the scalar value from the NumPy array\n",
        "    confidence = prediction[0, 0]\n",
        "\n",
        "    # Threshold for considering a label as positive\n",
        "    threshold = 0.5\n",
        "\n",
        "    # Interpret prediction\n",
        "    predicted_class = 1 if confidence >= threshold else 0\n",
        "\n",
        "    # Convert confidence to a format that can be handled by format method\n",
        "    confidence_str = '{:.4f}'.format(confidence)\n",
        "\n",
        "    print(f\"Comment ID: {comment_id}, Predicted Class: {predicted_class} (Confidence: {confidence_str})\")\n",
        "\n",
        "# Tutup koneksi\n",
        "cursor.close()\n",
        "conn.close()\n"
      ]
    }
  ]
}