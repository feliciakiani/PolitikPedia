{
  "cells": [
    {
      "cell_type": "markdown",
      "metadata": {
        "id": "view-in-github",
        "colab_type": "text"
      },
      "source": [
        "<a href=\"https://colab.research.google.com/github/feliciakiani/PolitikPedia/blob/main/Machine%20Learning/Keywords_recommendation.ipynb\" target=\"_parent\"><img src=\"https://colab.research.google.com/assets/colab-badge.svg\" alt=\"Open In Colab\"/></a>"
      ]
    },
    {
      "cell_type": "code",
      "source": [
        "import pandas as pd\n",
        "import numpy as np\n",
        "import tensorflow as tf\n",
        "from tensorflow.keras.preprocessing.text import Tokenizer\n",
        "from tensorflow.keras.preprocessing.sequence import pad_sequences\n",
        "from tensorflow.keras.models import Sequential\n",
        "from tensorflow.keras.layers import Embedding, LSTM, Dense, Conv1D, GlobalMaxPooling1D, Dense, Dropout\n",
        "from sklearn.model_selection import train_test_split"
      ],
      "metadata": {
        "id": "-yKf-4DvdekR"
      },
      "id": "-yKf-4DvdekR",
      "execution_count": 1,
      "outputs": []
    },
    {
      "cell_type": "code",
      "source": [
        "# Load the dataset\n",
        "data = pd.read_csv('dataset_keywords.csv')\n",
        "\n",
        "# Split the data into train, validation, and test sets\n",
        "train_data, test_data = train_test_split(data, test_size=0.2, random_state=42)\n",
        "train_data, val_data = train_test_split(train_data, test_size=0.1, random_state=42)\n",
        "\n",
        "# Tokenize the text data\n",
        "tokenizer = Tokenizer()\n",
        "tokenizer.fit_on_texts(train_data['teks'])\n",
        "total_words = len(tokenizer.word_index) + 1\n",
        "\n",
        "# Create input sequences and labels for train, validation, and test sets\n",
        "def preprocess_data(data):\n",
        "    input_sequences = tokenizer.texts_to_sequences(data['teks'])\n",
        "    input_sequences = pad_sequences(input_sequences)\n",
        "    labels = tokenizer.texts_to_sequences(data['kata_kunci'])\n",
        "    labels_binary = np.zeros((len(labels), total_words), dtype=int)\n",
        "    for i, key_indices in enumerate(labels):\n",
        "        labels_binary[i, key_indices] = 1\n",
        "    return input_sequences, labels_binary\n",
        "\n",
        "train_input, train_labels = preprocess_data(train_data)\n",
        "val_input, val_labels = preprocess_data(val_data)\n",
        "test_input, test_labels = preprocess_data(test_data)"
      ],
      "metadata": {
        "id": "eEWm_1WOdi65"
      },
      "id": "eEWm_1WOdi65",
      "execution_count": 2,
      "outputs": []
    },
    {
      "cell_type": "code",
      "source": [
        "# Model architecture\n",
        "model = Sequential()\n",
        "model.add(Embedding(total_words, 1000, input_length=train_input.shape[1]))\n",
        "model.add(Dropout(0.5))\n",
        "model.add(Conv1D(512, 5, activation='relu'))\n",
        "model.add(GlobalMaxPooling1D())\n",
        "model.add(Dense(256, activation='relu'))\n",
        "model.add(Dense(total_words, activation='sigmoid'))\n",
        "adam_optimizer = tf.keras.optimizers.Adam(learning_rate=0.001)\n",
        "model.compile(optimizer=adam_optimizer, loss='mse', metrics=['cosine_similarity'])\n",
        "\n",
        "model.summary()\n",
        "\n"
      ],
      "metadata": {
        "colab": {
          "base_uri": "https://localhost:8080/"
        },
        "id": "tWS919QNd27h",
        "outputId": "e8123e6c-c0bf-46d9-f06a-a389cddbc996"
      },
      "id": "tWS919QNd27h",
      "execution_count": 22,
      "outputs": [
        {
          "output_type": "stream",
          "name": "stdout",
          "text": [
            "Model: \"sequential_3\"\n",
            "_________________________________________________________________\n",
            " Layer (type)                Output Shape              Param #   \n",
            "=================================================================\n",
            " embedding_3 (Embedding)     (None, 12, 1000)          65000     \n",
            "                                                                 \n",
            " dropout_3 (Dropout)         (None, 12, 1000)          0         \n",
            "                                                                 \n",
            " conv1d_3 (Conv1D)           (None, 8, 512)            2560512   \n",
            "                                                                 \n",
            " global_max_pooling1d_3 (Gl  (None, 512)               0         \n",
            " obalMaxPooling1D)                                               \n",
            "                                                                 \n",
            " dense_6 (Dense)             (None, 256)               131328    \n",
            "                                                                 \n",
            " dense_7 (Dense)             (None, 65)                16705     \n",
            "                                                                 \n",
            "=================================================================\n",
            "Total params: 2773545 (10.58 MB)\n",
            "Trainable params: 2773545 (10.58 MB)\n",
            "Non-trainable params: 0 (0.00 Byte)\n",
            "_________________________________________________________________\n"
          ]
        }
      ]
    },
    {
      "cell_type": "code",
      "source": [
        "# Train the model\n",
        "model.fit(train_input, train_labels, epochs=20, validation_data=(val_input, val_labels), verbose=1)\n",
        "\n",
        "# Evaluate on the test set\n",
        "test_loss, test_accuracy = model.evaluate(test_input, test_labels, verbose=0)\n",
        "print(f'Test Loss: {test_loss:.4f}')\n",
        "print(f'Test Accuracy: {test_accuracy * 100:.2f}%')"
      ],
      "metadata": {
        "colab": {
          "base_uri": "https://localhost:8080/"
        },
        "id": "8f9vFCFxFJQz",
        "outputId": "adb011b4-5c0c-408e-9b44-c5a81ff3dc9b"
      },
      "id": "8f9vFCFxFJQz",
      "execution_count": 23,
      "outputs": [
        {
          "output_type": "stream",
          "name": "stdout",
          "text": [
            "Epoch 1/20\n",
            "203/203 [==============================] - 4s 12ms/step - loss: 0.0450 - cosine_similarity: 0.2688 - val_loss: 0.0333 - val_cosine_similarity: 0.4233\n",
            "Epoch 2/20\n",
            "203/203 [==============================] - 1s 7ms/step - loss: 0.0318 - cosine_similarity: 0.4388 - val_loss: 0.0305 - val_cosine_similarity: 0.4890\n",
            "Epoch 3/20\n",
            "203/203 [==============================] - 2s 8ms/step - loss: 0.0289 - cosine_similarity: 0.5242 - val_loss: 0.0288 - val_cosine_similarity: 0.5307\n",
            "Epoch 4/20\n",
            "203/203 [==============================] - 2s 8ms/step - loss: 0.0263 - cosine_similarity: 0.5980 - val_loss: 0.0226 - val_cosine_similarity: 0.6804\n",
            "Epoch 5/20\n",
            "203/203 [==============================] - 1s 7ms/step - loss: 0.0226 - cosine_similarity: 0.6798 - val_loss: 0.0210 - val_cosine_similarity: 0.7121\n",
            "Epoch 6/20\n",
            "203/203 [==============================] - 1s 6ms/step - loss: 0.0186 - cosine_similarity: 0.7388 - val_loss: 0.0160 - val_cosine_similarity: 0.7813\n",
            "Epoch 7/20\n",
            "203/203 [==============================] - 1s 6ms/step - loss: 0.0156 - cosine_similarity: 0.7921 - val_loss: 0.0149 - val_cosine_similarity: 0.8022\n",
            "Epoch 8/20\n",
            "203/203 [==============================] - 1s 7ms/step - loss: 0.0138 - cosine_similarity: 0.8181 - val_loss: 0.0108 - val_cosine_similarity: 0.8591\n",
            "Epoch 9/20\n",
            "203/203 [==============================] - 1s 6ms/step - loss: 0.0116 - cosine_similarity: 0.8464 - val_loss: 0.0100 - val_cosine_similarity: 0.8682\n",
            "Epoch 10/20\n",
            "203/203 [==============================] - 1s 6ms/step - loss: 0.0115 - cosine_similarity: 0.8479 - val_loss: 0.0100 - val_cosine_similarity: 0.8682\n",
            "Epoch 11/20\n",
            "203/203 [==============================] - 1s 6ms/step - loss: 0.0109 - cosine_similarity: 0.8584 - val_loss: 0.0094 - val_cosine_similarity: 0.8797\n",
            "Epoch 12/20\n",
            "203/203 [==============================] - 2s 8ms/step - loss: 0.0107 - cosine_similarity: 0.8604 - val_loss: 0.0094 - val_cosine_similarity: 0.8797\n",
            "Epoch 13/20\n",
            "203/203 [==============================] - 2s 9ms/step - loss: 0.0107 - cosine_similarity: 0.8605 - val_loss: 0.0094 - val_cosine_similarity: 0.8797\n",
            "Epoch 14/20\n",
            "203/203 [==============================] - 1s 6ms/step - loss: 0.0107 - cosine_similarity: 0.8623 - val_loss: 0.0089 - val_cosine_similarity: 0.8890\n",
            "Epoch 15/20\n",
            "203/203 [==============================] - 1s 6ms/step - loss: 0.0099 - cosine_similarity: 0.8756 - val_loss: 0.0081 - val_cosine_similarity: 0.8995\n",
            "Epoch 16/20\n",
            "203/203 [==============================] - 1s 6ms/step - loss: 0.0089 - cosine_similarity: 0.8876 - val_loss: 0.0076 - val_cosine_similarity: 0.9051\n",
            "Epoch 17/20\n",
            "203/203 [==============================] - 1s 6ms/step - loss: 0.0087 - cosine_similarity: 0.8903 - val_loss: 0.0076 - val_cosine_similarity: 0.9051\n",
            "Epoch 18/20\n",
            "203/203 [==============================] - 1s 6ms/step - loss: 0.0087 - cosine_similarity: 0.8903 - val_loss: 0.0076 - val_cosine_similarity: 0.9051\n",
            "Epoch 19/20\n",
            "203/203 [==============================] - 1s 6ms/step - loss: 0.0087 - cosine_similarity: 0.8903 - val_loss: 0.0076 - val_cosine_similarity: 0.9051\n",
            "Epoch 20/20\n",
            "203/203 [==============================] - 1s 6ms/step - loss: 0.0087 - cosine_similarity: 0.8903 - val_loss: 0.0076 - val_cosine_similarity: 0.9051\n",
            "Test Loss: 0.0082\n",
            "Test Accuracy: 89.59%\n"
          ]
        }
      ]
    },
    {
      "cell_type": "code",
      "source": [
        "model.summary()"
      ],
      "metadata": {
        "id": "HMlrdJTsFl64",
        "outputId": "39ecdf2f-74d4-4390-c533-ff767ba8f034",
        "colab": {
          "base_uri": "https://localhost:8080/"
        }
      },
      "id": "HMlrdJTsFl64",
      "execution_count": 11,
      "outputs": [
        {
          "output_type": "stream",
          "name": "stdout",
          "text": [
            "Model: \"sequential_1\"\n",
            "_________________________________________________________________\n",
            " Layer (type)                Output Shape              Param #   \n",
            "=================================================================\n",
            " embedding_1 (Embedding)     (None, 12, 1000)          65000     \n",
            "                                                                 \n",
            " dropout_1 (Dropout)         (None, 12, 1000)          0         \n",
            "                                                                 \n",
            " conv1d_1 (Conv1D)           (None, 8, 512)            2560512   \n",
            "                                                                 \n",
            " global_max_pooling1d_1 (Gl  (None, 512)               0         \n",
            " obalMaxPooling1D)                                               \n",
            "                                                                 \n",
            " dense_2 (Dense)             (None, 256)               131328    \n",
            "                                                                 \n",
            " dense_3 (Dense)             (None, 65)                16705     \n",
            "                                                                 \n",
            "=================================================================\n",
            "Total params: 2773545 (10.58 MB)\n",
            "Trainable params: 2773545 (10.58 MB)\n",
            "Non-trainable params: 0 (0.00 Byte)\n",
            "_________________________________________________________________\n"
          ]
        }
      ]
    },
    {
      "cell_type": "code",
      "source": [
        "test_loss, test_accuracy = model.evaluate(test_input, test_labels, verbose=0)\n",
        "print(f'Test Loss: {test_loss:.4f}')\n",
        "print(f'Test Accuracy: {test_accuracy * 100:.2f}%')\n",
        "\n",
        "# Function for keyword recommendation\n",
        "def recommend(text, threshold=0.5):\n",
        "    text_seq = tokenizer.texts_to_sequences([text])\n",
        "    text_seq = pad_sequences(text_seq, maxlen=train_input.shape[1])\n",
        "    predicted_probs = model.predict(text_seq)[0]\n",
        "    predicted_indices = np.where(predicted_probs > threshold)[0]\n",
        "    recommended_keywords = [(word, predicted_probs[index]) for word, index in tokenizer.word_index.items() if index in predicted_indices]\n",
        "    recommended_keywords.sort(key=lambda x: x[1], reverse=True)\n",
        "    return recommended_keywords"
      ],
      "metadata": {
        "colab": {
          "base_uri": "https://localhost:8080/"
        },
        "id": "tZp4w4sUnVVZ",
        "outputId": "2b68c4eb-af92-4100-ce95-79573fb213a5"
      },
      "id": "tZp4w4sUnVVZ",
      "execution_count": 24,
      "outputs": [
        {
          "output_type": "stream",
          "name": "stdout",
          "text": [
            "Test Loss: 0.0082\n",
            "Test Accuracy: 89.59%\n"
          ]
        }
      ]
    },
    {
      "cell_type": "code",
      "source": [
        "from sklearn.metrics import precision_score, recall_score, f1_score\n",
        "import matplotlib.pyplot as plt\n",
        "# Evaluate precision, recall, and F1-score\n",
        "predicted_labels = model.predict(test_input)\n",
        "predicted_labels_binary = (predicted_labels > 0.5).astype(int)\n",
        "\n",
        "precision = precision_score(test_labels, predicted_labels_binary, average='micro')\n",
        "recall = recall_score(test_labels, predicted_labels_binary, average='micro')\n",
        "f1 = f1_score(test_labels, predicted_labels_binary, average='micro')\n",
        "\n",
        "print(f'Micro-Precision: {precision:.4f}')\n",
        "print(f'Micro-Recall: {recall:.4f}')\n",
        "print(f'Micro-F1 Score: {f1:.4f}')\n",
        "\n",
        "# Plot precision, recall, and F1-score\n",
        "labels = ['Precision', 'Recall', 'F1 Score']\n",
        "values = [precision, recall, f1]\n",
        "\n",
        "fig, ax = plt.subplots()\n",
        "bars = ax.bar(labels, values, color=['blue', 'green', 'orange'])\n",
        "\n",
        "# Add value annotations on top of each bar\n",
        "for bar in bars:\n",
        "    yval = bar.get_height()\n",
        "    plt.text(bar.get_x() + bar.get_width()/2, yval, round(yval, 4), ha='center', va='bottom')\n",
        "\n",
        "plt.ylabel('Score')\n",
        "plt.title('Micro-Averaged Precision, Recall, and F1 Score')\n",
        "plt.show()"
      ],
      "metadata": {
        "colab": {
          "base_uri": "https://localhost:8080/",
          "height": 521
        },
        "id": "k7C1v2tMnZUp",
        "outputId": "ffa728a0-c395-4a3f-bd62-78206822f907"
      },
      "id": "k7C1v2tMnZUp",
      "execution_count": 25,
      "outputs": [
        {
          "output_type": "stream",
          "name": "stdout",
          "text": [
            "57/57 [==============================] - 0s 2ms/step\n",
            "Micro-Precision: 1.0000\n",
            "Micro-Recall: 0.8275\n",
            "Micro-F1 Score: 0.9056\n"
          ]
        },
        {
          "output_type": "display_data",
          "data": {
            "text/plain": [
              "<Figure size 640x480 with 1 Axes>"
            ],
            "image/png": "[encoded data removed]"
          },
          "metadata": {}
        }
      ]
    },
    {
      "cell_type": "code",
      "source": [
        "# Example usage\n",
        "new_text = \"apa itu partai politik\"\n",
        "recommended_keywords = recommend(new_text)\n",
        "print('Recommended Keywords:')\n",
        "for keyword in recommended_keywords:\n",
        "    print(keyword)"
      ],
      "metadata": {
        "colab": {
          "base_uri": "https://localhost:8080/"
        },
        "id": "X-rF1YsaeC1p",
        "outputId": "cd6e53cb-7313-4e35-d565-acba2dc542bb"
      },
      "id": "X-rF1YsaeC1p",
      "execution_count": 27,
      "outputs": [
        {
          "output_type": "stream",
          "name": "stdout",
          "text": [
            "1/1 [==============================] - 0s 87ms/step\n",
            "Recommended Keywords:\n",
            "('mengumumkan', 0.53402406)\n",
            "('pembicaraan', 0.5042986)\n"
          ]
        }
      ]
    }
  ],
  "metadata": {
    "kernelspec": {
      "display_name": "Python 3",
      "name": "python3"
    },
    "language_info": {
      "codemirror_mode": {
        "name": "ipython",
        "version": 3
      },
      "file_extension": ".py",
      "mimetype": "text/x-python",
      "name": "python",
      "nbconvert_exporter": "python",
      "pygments_lexer": "ipython3",
      "version": "3.8.4"
    },
    "colab": {
      "provenance": [],
      "gpuType": "T4",
      "include_colab_link": true
    },
    "accelerator": "GPU"
  },
  "nbformat": 4,
  "nbformat_minor": 5
}