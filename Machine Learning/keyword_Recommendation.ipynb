{
  "cells": [
    {
      "cell_type": "markdown",
      "metadata": {
        "id": "view-in-github",
        "colab_type": "text"
      },
      "source": [
        "<a href=\"https://colab.research.google.com/github/feliciakiani/PolitikPedia/blob/main/Machine%20Learning/keyword_Recommendation.ipynb\" target=\"_parent\"><img src=\"https://colab.research.google.com/assets/colab-badge.svg\" alt=\"Open In Colab\"/></a>"
      ]
    },
    {
      "cell_type": "code",
      "source": [
        "import pandas as pd\n",
        "import numpy as np\n",
        "import tensorflow as tf\n",
        "from tensorflow.keras.preprocessing.text import Tokenizer\n",
        "from tensorflow.keras.preprocessing.sequence import pad_sequences\n",
        "from tensorflow.keras.models import Sequential\n",
        "from tensorflow.keras.layers import Embedding, LSTM, Dense, Conv1D, GlobalMaxPooling1D, Dense, Dropout\n",
        "from sklearn.model_selection import train_test_split"
      ],
      "metadata": {
        "id": "-yKf-4DvdekR"
      },
      "id": "-yKf-4DvdekR",
      "execution_count": 9,
      "outputs": []
    },
    {
      "cell_type": "code",
      "source": [
        "# Load the dataset\n",
        "data = pd.read_csv('dataset_keywords.csv')\n",
        "\n",
        "# Split the data into train, validation, and test sets\n",
        "train_data, test_data = train_test_split(data, test_size=0.2, random_state=42)\n",
        "train_data, val_data = train_test_split(train_data, test_size=0.1, random_state=42)\n",
        "\n",
        "# Tokenize the text data\n",
        "tokenizer = Tokenizer()\n",
        "tokenizer.fit_on_texts(train_data['teks'])\n",
        "total_words = len(tokenizer.word_index) + 1\n",
        "\n",
        "# Create input sequences and labels for train, validation, and test sets\n",
        "def preprocess_data(data):\n",
        "    input_sequences = tokenizer.texts_to_sequences(data['teks'])\n",
        "    input_sequences = pad_sequences(input_sequences)\n",
        "    labels = tokenizer.texts_to_sequences(data['kata_kunci'])\n",
        "    labels_binary = np.zeros((len(labels), total_words), dtype=int)\n",
        "    for i, key_indices in enumerate(labels):\n",
        "        labels_binary[i, key_indices] = 1\n",
        "    return input_sequences, labels_binary\n",
        "\n",
        "train_input, train_labels = preprocess_data(train_data)\n",
        "val_input, val_labels = preprocess_data(val_data)\n",
        "test_input, test_labels = preprocess_data(test_data)"
      ],
      "metadata": {
        "id": "eEWm_1WOdi65"
      },
      "id": "eEWm_1WOdi65",
      "execution_count": 3,
      "outputs": []
    },
    {
      "cell_type": "code",
      "source": [
        "# Model architecture\n",
        "model = Sequential()\n",
        "model.add(Embedding(total_words, 1000, input_length=train_input.shape[1]))\n",
        "model.add(Dropout(0.5))\n",
        "model.add(Conv1D(512, 5, activation='relu'))\n",
        "model.add(GlobalMaxPooling1D())\n",
        "model.add(Dense(256, activation='relu'))\n",
        "model.add(Dense(total_words, activation='sigmoid'))\n",
        "adam_optimizer = tf.keras.optimizers.Adam(learning_rate=0.001)\n",
        "model.compile(optimizer=adam_optimizer, loss='binary_crossentropy', metrics=['cosine_similarity'])\n",
        "\n",
        "model.summary()\n",
        "\n"
      ],
      "metadata": {
        "colab": {
          "base_uri": "https://localhost:8080/"
        },
        "id": "tWS919QNd27h",
        "outputId": "6182460c-c82d-41c8-9bde-96d1122071ba"
      },
      "id": "tWS919QNd27h",
      "execution_count": 25,
      "outputs": [
        {
          "output_type": "stream",
          "name": "stdout",
          "text": [
            "Model: \"sequential_10\"\n",
            "_________________________________________________________________\n",
            " Layer (type)                Output Shape              Param #   \n",
            "=================================================================\n",
            " embedding_10 (Embedding)    (None, 12, 1000)          65000     \n",
            "                                                                 \n",
            " dropout_6 (Dropout)         (None, 12, 1000)          0         \n",
            "                                                                 \n",
            " conv1d_6 (Conv1D)           (None, 8, 512)            2560512   \n",
            "                                                                 \n",
            " global_max_pooling1d_6 (Gl  (None, 512)               0         \n",
            " obalMaxPooling1D)                                               \n",
            "                                                                 \n",
            " dense_14 (Dense)            (None, 256)               131328    \n",
            "                                                                 \n",
            " dense_15 (Dense)            (None, 65)                16705     \n",
            "                                                                 \n",
            "=================================================================\n",
            "Total params: 2773545 (10.58 MB)\n",
            "Trainable params: 2773545 (10.58 MB)\n",
            "Non-trainable params: 0 (0.00 Byte)\n",
            "_________________________________________________________________\n"
          ]
        }
      ]
    },
    {
      "cell_type": "code",
      "source": [
        "# Train the model\n",
        "model.fit(train_input, train_labels, epochs=20, validation_data=(val_input, val_labels), verbose=1)\n",
        "\n",
        "# Evaluate on the test set\n",
        "test_loss, test_accuracy = model.evaluate(test_input, test_labels, verbose=0)\n",
        "print(f'Test Loss: {test_loss:.4f}')\n",
        "print(f'Test Accuracy: {test_accuracy * 100:.2f}%')"
      ],
      "metadata": {
        "colab": {
          "base_uri": "https://localhost:8080/"
        },
        "id": "8f9vFCFxFJQz",
        "outputId": "d8e0bfa4-847f-481c-dfc4-5038119a60f8"
      },
      "id": "8f9vFCFxFJQz",
      "execution_count": 26,
      "outputs": [
        {
          "output_type": "stream",
          "name": "stdout",
          "text": [
            "Epoch 1/20\n",
            "203/203 [==============================] - 6s 13ms/step - loss: 0.0530 - cosine_similarity: 0.8583 - val_loss: 2.3732e-04 - val_cosine_similarity: 1.0000\n",
            "Epoch 2/20\n",
            "203/203 [==============================] - 1s 7ms/step - loss: 1.1745e-04 - cosine_similarity: 1.0000 - val_loss: 4.3571e-05 - val_cosine_similarity: 1.0000\n",
            "Epoch 3/20\n",
            "203/203 [==============================] - 1s 6ms/step - loss: 3.4440e-05 - cosine_similarity: 1.0000 - val_loss: 1.8380e-05 - val_cosine_similarity: 1.0000\n",
            "Epoch 4/20\n",
            "203/203 [==============================] - 1s 7ms/step - loss: 1.7000e-05 - cosine_similarity: 1.0000 - val_loss: 9.8229e-06 - val_cosine_similarity: 1.0000\n",
            "Epoch 5/20\n",
            "203/203 [==============================] - 1s 6ms/step - loss: 9.5895e-06 - cosine_similarity: 1.0000 - val_loss: 5.6562e-06 - val_cosine_similarity: 1.0000\n",
            "Epoch 6/20\n",
            "203/203 [==============================] - 1s 6ms/step - loss: 5.8152e-06 - cosine_similarity: 1.0000 - val_loss: 3.5257e-06 - val_cosine_similarity: 1.0000\n",
            "Epoch 7/20\n",
            "203/203 [==============================] - 1s 7ms/step - loss: 3.8458e-06 - cosine_similarity: 1.0000 - val_loss: 2.4054e-06 - val_cosine_similarity: 1.0000\n",
            "Epoch 8/20\n",
            "203/203 [==============================] - 2s 10ms/step - loss: 2.7216e-06 - cosine_similarity: 1.0000 - val_loss: 1.7239e-06 - val_cosine_similarity: 1.0000\n",
            "Epoch 9/20\n",
            "203/203 [==============================] - 2s 8ms/step - loss: 2.0307e-06 - cosine_similarity: 1.0000 - val_loss: 1.3256e-06 - val_cosine_similarity: 1.0000\n",
            "Epoch 10/20\n",
            "203/203 [==============================] - 1s 7ms/step - loss: 1.5870e-06 - cosine_similarity: 1.0000 - val_loss: 1.0293e-06 - val_cosine_similarity: 1.0000\n",
            "Epoch 11/20\n",
            "203/203 [==============================] - 1s 7ms/step - loss: 1.2793e-06 - cosine_similarity: 1.0000 - val_loss: 8.3478e-07 - val_cosine_similarity: 1.0000\n",
            "Epoch 12/20\n",
            "203/203 [==============================] - 1s 7ms/step - loss: 1.0382e-06 - cosine_similarity: 1.0000 - val_loss: 6.8060e-07 - val_cosine_similarity: 1.0000\n",
            "Epoch 13/20\n",
            "203/203 [==============================] - 1s 7ms/step - loss: 8.4484e-07 - cosine_similarity: 1.0000 - val_loss: 5.5544e-07 - val_cosine_similarity: 1.0000\n",
            "Epoch 14/20\n",
            "203/203 [==============================] - 1s 7ms/step - loss: 7.2661e-07 - cosine_similarity: 1.0000 - val_loss: 4.6499e-07 - val_cosine_similarity: 1.0000\n",
            "Epoch 15/20\n",
            "203/203 [==============================] - 1s 7ms/step - loss: 6.0400e-07 - cosine_similarity: 1.0000 - val_loss: 3.8792e-07 - val_cosine_similarity: 1.0000\n",
            "Epoch 16/20\n",
            "203/203 [==============================] - 1s 7ms/step - loss: 5.1450e-07 - cosine_similarity: 1.0000 - val_loss: 3.3134e-07 - val_cosine_similarity: 1.0000\n",
            "Epoch 17/20\n",
            "203/203 [==============================] - 2s 10ms/step - loss: 4.4045e-07 - cosine_similarity: 1.0000 - val_loss: 2.8447e-07 - val_cosine_similarity: 1.0000\n",
            "Epoch 18/20\n",
            "203/203 [==============================] - 2s 8ms/step - loss: 3.8742e-07 - cosine_similarity: 1.0000 - val_loss: 2.4428e-07 - val_cosine_similarity: 1.0000\n",
            "Epoch 19/20\n",
            "203/203 [==============================] - 2s 10ms/step - loss: 3.3251e-07 - cosine_similarity: 1.0000 - val_loss: 2.0898e-07 - val_cosine_similarity: 1.0000\n",
            "Epoch 20/20\n",
            "203/203 [==============================] - 1s 7ms/step - loss: 2.8799e-07 - cosine_similarity: 1.0000 - val_loss: 1.7994e-07 - val_cosine_similarity: 1.0000\n",
            "Test Loss: 0.0000\n",
            "Test Accuracy: 100.00%\n"
          ]
        }
      ]
    },
    {
      "cell_type": "code",
      "source": [
        "test_loss, test_accuracy = model.evaluate(test_input, test_labels, verbose=0)\n",
        "print(f'Test Loss: {test_loss:.4f}')\n",
        "print(f'Test Accuracy: {test_accuracy * 100:.2f}%')\n",
        "\n",
        "# Function for keyword recommendation\n",
        "def recommend(text, threshold=0.5):\n",
        "    text_seq = tokenizer.texts_to_sequences([text])\n",
        "    text_seq = pad_sequences(text_seq, maxlen=train_input.shape[1])\n",
        "    predicted_probs = model.predict(text_seq)[0]\n",
        "    predicted_indices = np.where(predicted_probs > threshold)[0]\n",
        "    recommended_keywords = [(word, predicted_probs[index]) for word, index in tokenizer.word_index.items() if index in predicted_indices]\n",
        "    recommended_keywords.sort(key=lambda x: x[1], reverse=True)\n",
        "    return recommended_keywords"
      ],
      "metadata": {
        "colab": {
          "base_uri": "https://localhost:8080/"
        },
        "id": "tZp4w4sUnVVZ",
        "outputId": "67f62c21-519d-44b0-cc0e-1edc60896d5b"
      },
      "id": "tZp4w4sUnVVZ",
      "execution_count": 21,
      "outputs": [
        {
          "output_type": "stream",
          "name": "stdout",
          "text": [
            "Test Loss: 0.0000\n",
            "Test Accuracy: 31.94%\n"
          ]
        }
      ]
    },
    {
      "cell_type": "code",
      "source": [
        "from sklearn.metrics import precision_score, recall_score, f1_score\n",
        "import matplotlib.pyplot as plt\n",
        "# Evaluate precision, recall, and F1-score\n",
        "predicted_labels = model.predict(test_input)\n",
        "predicted_labels_binary = (predicted_labels > 0.5).astype(int)\n",
        "\n",
        "precision = precision_score(test_labels, predicted_labels_binary, average='micro')\n",
        "recall = recall_score(test_labels, predicted_labels_binary, average='micro')\n",
        "f1 = f1_score(test_labels, predicted_labels_binary, average='micro')\n",
        "\n",
        "print(f'Micro-Precision: {precision:.4f}')\n",
        "print(f'Micro-Recall: {recall:.4f}')\n",
        "print(f'Micro-F1 Score: {f1:.4f}')\n",
        "\n",
        "# Plot precision, recall, and F1-score\n",
        "labels = ['Precision', 'Recall', 'F1 Score']\n",
        "values = [precision, recall, f1]\n",
        "\n",
        "fig, ax = plt.subplots()\n",
        "bars = ax.bar(labels, values, color=['blue', 'green', 'orange'])\n",
        "\n",
        "# Add value annotations on top of each bar\n",
        "for bar in bars:\n",
        "    yval = bar.get_height()\n",
        "    plt.text(bar.get_x() + bar.get_width()/2, yval, round(yval, 4), ha='center', va='bottom')\n",
        "\n",
        "plt.ylabel('Score')\n",
        "plt.title('Micro-Averaged Precision, Recall, and F1 Score')\n",
        "plt.show()"
      ],
      "metadata": {
        "colab": {
          "base_uri": "https://localhost:8080/",
          "height": 521
        },
        "id": "k7C1v2tMnZUp",
        "outputId": "ed32a8df-c4d8-467e-ac05-44ddb5a747af"
      },
      "id": "k7C1v2tMnZUp",
      "execution_count": 27,
      "outputs": [
        {
          "output_type": "stream",
          "name": "stdout",
          "text": [
            "57/57 [==============================] - 0s 3ms/step\n",
            "Micro-Precision: 1.0000\n",
            "Micro-Recall: 1.0000\n",
            "Micro-F1 Score: 1.0000\n"
          ]
        },
        {
          "output_type": "display_data",
          "data": {
            "text/plain": [
              "<Figure size 640x480 with 1 Axes>"
            ],
            "image/png": "[encoded data removed]"
          },
          "metadata": {}
        }
      ]
    },
    {
      "cell_type": "code",
      "source": [
        "# Example usage\n",
        "new_text = \"Apa itu partai politik?\"\n",
        "recommended_keywords = recommend(new_text)\n",
        "print('Recommended Keywords:')\n",
        "for keyword in recommended_keywords:\n",
        "    print(keyword)"
      ],
      "metadata": {
        "colab": {
          "base_uri": "https://localhost:8080/"
        },
        "id": "X-rF1YsaeC1p",
        "outputId": "8da83ef5-b553-4a9e-fe93-5e1608f0ecec"
      },
      "id": "X-rF1YsaeC1p",
      "execution_count": 24,
      "outputs": [
        {
          "output_type": "stream",
          "name": "stdout",
          "text": [
            "1/1 [==============================] - 0s 18ms/step\n",
            "Recommended Keywords:\n",
            "('isu', 0.8109305)\n",
            "('pemerintahan', 0.6845882)\n"
          ]
        }
      ]
    }
  ],
  "metadata": {
    "kernelspec": {
      "display_name": "Python 3",
      "name": "python3"
    },
    "language_info": {
      "codemirror_mode": {
        "name": "ipython",
        "version": 3
      },
      "file_extension": ".py",
      "mimetype": "text/x-python",
      "name": "python",
      "nbconvert_exporter": "python",
      "pygments_lexer": "ipython3",
      "version": "3.8.4"
    },
    "colab": {
      "provenance": [],
      "gpuType": "T4",
      "include_colab_link": true
    },
    "accelerator": "GPU"
  },
  "nbformat": 4,
  "nbformat_minor": 5
}