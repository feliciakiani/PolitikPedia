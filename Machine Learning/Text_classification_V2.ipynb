{
  "cells": [
    {
      "cell_type": "markdown",
      "metadata": {
        "id": "view-in-github",
        "colab_type": "text"
      },
      "source": [
        "<a href=\"https://colab.research.google.com/github/feliciakiani/PolitikPedia/blob/main/Machine%20Learning/Text_classification_V2.ipynb\" target=\"_parent\"><img src=\"https://colab.research.google.com/assets/colab-badge.svg\" alt=\"Open In Colab\"/></a>"
      ]
    },
    {
      "cell_type": "code",
      "execution_count": 35,
      "metadata": {
        "id": "9kmSXrwXc76z"
      },
      "outputs": [],
      "source": [
        "import pandas as pd\n",
        "from sklearn.model_selection import train_test_split"
      ]
    },
    {
      "cell_type": "code",
      "execution_count": 36,
      "metadata": {
        "colab": {
          "base_uri": "https://localhost:8080/",
          "height": 73
        },
        "id": "Sc5XnE5OdpAY",
        "outputId": "8fcca455-871a-449b-f511-b6a695f8d89e"
      },
      "outputs": [
        {
          "output_type": "display_data",
          "data": {
            "text/plain": [
              "<IPython.core.display.HTML object>"
            ],
            "text/html": [
              "\n",
              "     <input type=\"file\" id=\"files-e51eac4b-cd45-48f5-a08f-d40d5c0bb206\" name=\"files[]\" multiple disabled\n",
              "        style=\"border:none\" />\n",
              "     <output id=\"result-e51eac4b-cd45-48f5-a08f-d40d5c0bb206\">\n",
              "      Upload widget is only available when the cell has been executed in the\n",
              "      current browser session. Please rerun this cell to enable.\n",
              "      </output>\n",
              "      <script>// Copyright 2017 Google LLC\n",
              "//\n",
              "// Licensed under the Apache License, Version 2.0 (the \"License\");\n",
              "// you may not use this file except in compliance with the License.\n",
              "// You may obtain a copy of the License at\n",
              "//\n",
              "//      http://www.apache.org/licenses/LICENSE-2.0\n",
              "//\n",
              "// Unless required by applicable law or agreed to in writing, software\n",
              "// distributed under the License is distributed on an \"AS IS\" BASIS,\n",
              "// WITHOUT WARRANTIES OR CONDITIONS OF ANY KIND, either express or implied.\n",
              "// See the License for the specific language governing permissions and\n",
              "// limitations under the License.\n",
              "\n",
              "/**\n",
              " * @fileoverview Helpers for google.colab Python module.\n",
              " */\n",
              "(function(scope) {\n",
              "function span(text, styleAttributes = {}) {\n",
              "  const element = document.createElement('span');\n",
              "  element.textContent = text;\n",
              "  for (const key of Object.keys(styleAttributes)) {\n",
              "    element.style[key] = styleAttributes[key];\n",
              "  }\n",
              "  return element;\n",
              "}\n",
              "\n",
              "// Max number of bytes which will be uploaded at a time.\n",
              "const MAX_PAYLOAD_SIZE = 100 * 1024;\n",
              "\n",
              "function _uploadFiles(inputId, outputId) {\n",
              "  const steps = uploadFilesStep(inputId, outputId);\n",
              "  const outputElement = document.getElementById(outputId);\n",
              "  // Cache steps on the outputElement to make it available for the next call\n",
              "  // to uploadFilesContinue from Python.\n",
              "  outputElement.steps = steps;\n",
              "\n",
              "  return _uploadFilesContinue(outputId);\n",
              "}\n",
              "\n",
              "// This is roughly an async generator (not supported in the browser yet),\n",
              "// where there are multiple asynchronous steps and the Python side is going\n",
              "// to poll for completion of each step.\n",
              "// This uses a Promise to block the python side on completion of each step,\n",
              "// then passes the result of the previous step as the input to the next step.\n",
              "function _uploadFilesContinue(outputId) {\n",
              "  const outputElement = document.getElementById(outputId);\n",
              "  const steps = outputElement.steps;\n",
              "\n",
              "  const next = steps.next(outputElement.lastPromiseValue);\n",
              "  return Promise.resolve(next.value.promise).then((value) => {\n",
              "    // Cache the last promise value to make it available to the next\n",
              "    // step of the generator.\n",
              "    outputElement.lastPromiseValue = value;\n",
              "    return next.value.response;\n",
              "  });\n",
              "}\n",
              "\n",
              "/**\n",
              " * Generator function which is called between each async step of the upload\n",
              " * process.\n",
              " * @param {string} inputId Element ID of the input file picker element.\n",
              " * @param {string} outputId Element ID of the output display.\n",
              " * @return {!Iterable<!Object>} Iterable of next steps.\n",
              " */\n",
              "function* uploadFilesStep(inputId, outputId) {\n",
              "  const inputElement = document.getElementById(inputId);\n",
              "  inputElement.disabled = false;\n",
              "\n",
              "  const outputElement = document.getElementById(outputId);\n",
              "  outputElement.innerHTML = '';\n",
              "\n",
              "  const pickedPromise = new Promise((resolve) => {\n",
              "    inputElement.addEventListener('change', (e) => {\n",
              "      resolve(e.target.files);\n",
              "    });\n",
              "  });\n",
              "\n",
              "  const cancel = document.createElement('button');\n",
              "  inputElement.parentElement.appendChild(cancel);\n",
              "  cancel.textContent = 'Cancel upload';\n",
              "  const cancelPromise = new Promise((resolve) => {\n",
              "    cancel.onclick = () => {\n",
              "      resolve(null);\n",
              "    };\n",
              "  });\n",
              "\n",
              "  // Wait for the user to pick the files.\n",
              "  const files = yield {\n",
              "    promise: Promise.race([pickedPromise, cancelPromise]),\n",
              "    response: {\n",
              "      action: 'starting',\n",
              "    }\n",
              "  };\n",
              "\n",
              "  cancel.remove();\n",
              "\n",
              "  // Disable the input element since further picks are not allowed.\n",
              "  inputElement.disabled = true;\n",
              "\n",
              "  if (!files) {\n",
              "    return {\n",
              "      response: {\n",
              "        action: 'complete',\n",
              "      }\n",
              "    };\n",
              "  }\n",
              "\n",
              "  for (const file of files) {\n",
              "    const li = document.createElement('li');\n",
              "    li.append(span(file.name, {fontWeight: 'bold'}));\n",
              "    li.append(span(\n",
              "        `(${file.type || 'n/a'}) - ${file.size} bytes, ` +\n",
              "        `last modified: ${\n",
              "            file.lastModifiedDate ? file.lastModifiedDate.toLocaleDateString() :\n",
              "                                    'n/a'} - `));\n",
              "    const percent = span('0% done');\n",
              "    li.appendChild(percent);\n",
              "\n",
              "    outputElement.appendChild(li);\n",
              "\n",
              "    const fileDataPromise = new Promise((resolve) => {\n",
              "      const reader = new FileReader();\n",
              "      reader.onload = (e) => {\n",
              "        resolve(e.target.result);\n",
              "      };\n",
              "      reader.readAsArrayBuffer(file);\n",
              "    });\n",
              "    // Wait for the data to be ready.\n",
              "    let fileData = yield {\n",
              "      promise: fileDataPromise,\n",
              "      response: {\n",
              "        action: 'continue',\n",
              "      }\n",
              "    };\n",
              "\n",
              "    // Use a chunked sending to avoid message size limits. See b/62115660.\n",
              "    let position = 0;\n",
              "    do {\n",
              "      const length = Math.min(fileData.byteLength - position, MAX_PAYLOAD_SIZE);\n",
              "      const chunk = new Uint8Array(fileData, position, length);\n",
              "      position += length;\n",
              "\n",
              "      const base64 = btoa(String.fromCharCode.apply(null, chunk));\n",
              "      yield {\n",
              "        response: {\n",
              "          action: 'append',\n",
              "          file: file.name,\n",
              "          data: base64,\n",
              "        },\n",
              "      };\n",
              "\n",
              "      let percentDone = fileData.byteLength === 0 ?\n",
              "          100 :\n",
              "          Math.round((position / fileData.byteLength) * 100);\n",
              "      percent.textContent = `${percentDone}% done`;\n",
              "\n",
              "    } while (position < fileData.byteLength);\n",
              "  }\n",
              "\n",
              "  // All done.\n",
              "  yield {\n",
              "    response: {\n",
              "      action: 'complete',\n",
              "    }\n",
              "  };\n",
              "}\n",
              "\n",
              "scope.google = scope.google || {};\n",
              "scope.google.colab = scope.google.colab || {};\n",
              "scope.google.colab._files = {\n",
              "  _uploadFiles,\n",
              "  _uploadFilesContinue,\n",
              "};\n",
              "})(self);\n",
              "</script> "
            ]
          },
          "metadata": {}
        },
        {
          "output_type": "stream",
          "name": "stdout",
          "text": [
            "Saving preprocessed_indonesian_toxic_tweet_fixed.csv to preprocessed_indonesian_toxic_tweet_fixed (1).csv\n"
          ]
        }
      ],
      "source": [
        "#import dataset\n",
        "from google.colab import files\n",
        "uploaded = files.upload()"
      ]
    },
    {
      "cell_type": "code",
      "execution_count": 37,
      "metadata": {
        "colab": {
          "base_uri": "https://localhost:8080/"
        },
        "id": "CPLRgqL8d36n",
        "outputId": "9a5fd86f-6ee6-4f51-b53b-7eafa62b4b89"
      },
      "outputs": [
        {
          "output_type": "stream",
          "name": "stdout",
          "text": [
            "Drive already mounted at /content/drive; to attempt to forcibly remount, call drive.mount(\"/content/drive\", force_remount=True).\n"
          ]
        }
      ],
      "source": [
        "from google.colab import drive\n",
        "\n",
        "# Mount Google Drive\n",
        "drive.mount('/content/drive')\n",
        "\n",
        "#splitting data\n",
        "data = pd.read_csv('preprocessed_indonesian_toxic_tweet_fixed.csv')\n",
        "\n",
        "# Assuming the columns are named as per your specification\n",
        "columns = [\n",
        "    'tweet', 'label_HS', 'label_Abusive', 'label_HS_Individual', 'label_HS_Group',\n",
        "    'label_HS_Religion', 'label_HS_Race', 'label_HS_Physical', 'label_HS_Gender',\n",
        "    'label_HS_Other', 'label_HS_Weak', 'label_HS_Moderate', 'label_HS_Strong'\n",
        "]\n",
        "\n",
        "# Rename columns for clarity\n",
        "data.columns = columns\n",
        "\n",
        "# Assuming 'sentence' is the column containing preprocessed sentences\n",
        "X = data['tweet']\n",
        "\n",
        "# Assuming other columns are labels\n",
        "y = data.drop('tweet', axis=1)\n",
        "# Split the data into training and testing sets\n",
        "X_train, X_test, y_train, y_test = train_test_split(X, y, test_size=0.2, random_state=42)\n",
        "\n",
        "# Create new DataFrames for training and testing data\n",
        "train_data = pd.DataFrame({'text': X_train})\n",
        "train_data = pd.concat([train_data, y_train], axis=1)\n",
        "\n",
        "test_data = pd.DataFrame({'text': X_test})\n",
        "test_data = pd.concat([test_data, y_test], axis=1)\n",
        "\n",
        "# Save the training and testing DataFrames to CSV\n",
        "train_data.to_csv('/content/drive/MyDrive/training_data.csv', index=False)\n",
        "test_data.to_csv('/content/drive/MyDrive/test_data.csv', index=False)"
      ]
    },
    {
      "cell_type": "code",
      "execution_count": 38,
      "metadata": {
        "colab": {
          "base_uri": "https://localhost:8080/"
        },
        "id": "xR5N1mrFd4NA",
        "outputId": "943a0c5f-97cb-46e9-fd8a-02852733d10e"
      },
      "outputs": [
        {
          "output_type": "stream",
          "name": "stdout",
          "text": [
            "\n",
            "Shape of the training dataset: (10564, 13)\n",
            "Shape of the testing dataset: (2642, 13)\n"
          ]
        }
      ],
      "source": [
        "# Print information about the training and testing datasets\n",
        "print(\"\\nShape of the training dataset:\", train_data.shape)\n",
        "print(\"Shape of the testing dataset:\", test_data.shape)\n"
      ]
    },
    {
      "cell_type": "code",
      "execution_count": 39,
      "metadata": {
        "colab": {
          "base_uri": "https://localhost:8080/"
        },
        "id": "dQ-lgpFSfyFx",
        "outputId": "11032e5b-61e9-4808-93e2-b9409f3cf3e6"
      },
      "outputs": [
        {
          "output_type": "stream",
          "name": "stdout",
          "text": [
            "                                                    text  label_HS  \\\n",
            "2239                    pintar bacot ya lawan nya bu sri         1   \n",
            "11539  eh nurul kuliah jurus bahasa mandarin bera i k...         0   \n",
            "6850                                          edan marah         0   \n",
            "4295        inti dukung prabowo partai komunis indonesia         1   \n",
            "1042     ayat kaji pengga kepala pancung ujung jari 8 12         1   \n",
            "2389                            kocok memek enak kali ya         0   \n",
            "8270          pas lihat goeun kayak asing oh nyata minho         0   \n",
            "1592   mafia wasit milanisti asing juventini senior a...         0   \n",
            "2391   lo kritik kritik solusi surat pemberitahuan co...         0   \n",
            "3592                                               burik         1   \n",
            "4007                                 ya rezim anti islam         1   \n",
            "9750                 hantu kak limah 2 amp munafik 2 hem         0   \n",
            "10632  copy paste nusantara islam freefo newmont indo...         0   \n",
            "12809  kamis malam revisi pakat undang undang anti te...         0   \n",
            "2714                                    seru ulama hanif         0   \n",
            "\n",
            "       label_Abusive  label_HS_Individual  label_HS_Group  label_HS_Religion  \\\n",
            "2239               1                    1               0                  0   \n",
            "11539              0                    0               0                  0   \n",
            "6850               1                    0               0                  0   \n",
            "4295               0                    0               1                  0   \n",
            "1042               0                    0               1                  1   \n",
            "2389               1                    0               0                  0   \n",
            "8270               0                    0               0                  0   \n",
            "1592               0                    0               0                  0   \n",
            "2391               0                    0               0                  0   \n",
            "3592               1                    1               0                  0   \n",
            "4007               0                    1               0                  1   \n",
            "9750               0                    0               0                  0   \n",
            "10632              0                    0               0                  0   \n",
            "12809              0                    0               0                  0   \n",
            "2714               0                    0               0                  0   \n",
            "\n",
            "       label_HS_Race  label_HS_Physical  label_HS_Gender  label_HS_Other  \\\n",
            "2239               0                  0                0               1   \n",
            "11539              0                  0                0               0   \n",
            "6850               0                  0                0               0   \n",
            "4295               1                  0                0               0   \n",
            "1042               0                  0                0               0   \n",
            "2389               0                  0                0               0   \n",
            "8270               0                  0                0               0   \n",
            "1592               0                  0                0               0   \n",
            "2391               0                  0                0               0   \n",
            "3592               0                  0                0               1   \n",
            "4007               0                  0                0               0   \n",
            "9750               0                  0                0               0   \n",
            "10632              0                  0                0               0   \n",
            "12809              0                  0                0               0   \n",
            "2714               0                  0                0               0   \n",
            "\n",
            "       label_HS_Weak  label_HS_Moderate  label_HS_Strong  \n",
            "2239               1                  0                0  \n",
            "11539              0                  0                0  \n",
            "6850               0                  0                0  \n",
            "4295               0                  1                0  \n",
            "1042               0                  1                0  \n",
            "2389               0                  0                0  \n",
            "8270               0                  0                0  \n",
            "1592               0                  0                0  \n",
            "2391               0                  0                0  \n",
            "3592               1                  0                0  \n",
            "4007               1                  0                0  \n",
            "9750               0                  0                0  \n",
            "10632              0                  0                0  \n",
            "12809              0                  0                0  \n",
            "2714               0                  0                0  \n"
          ]
        }
      ],
      "source": [
        "print(train_data.head(15))"
      ]
    },
    {
      "cell_type": "code",
      "execution_count": null,
      "metadata": {
        "colab": {
          "base_uri": "https://localhost:8080/",
          "height": 17
        },
        "id": "QAJQnzhcg87f",
        "outputId": "28fdef42-bb93-454b-e79b-c004289a105c"
      },
      "outputs": [
        {
          "data": {
            "application/javascript": [
              "\n",
              "    async function download(id, filename, size) {\n",
              "      if (!google.colab.kernel.accessAllowed) {\n",
              "        return;\n",
              "      }\n",
              "      const div = document.createElement('div');\n",
              "      const label = document.createElement('label');\n",
              "      label.textContent = `Downloading \"${filename}\": `;\n",
              "      div.appendChild(label);\n",
              "      const progress = document.createElement('progress');\n",
              "      progress.max = size;\n",
              "      div.appendChild(progress);\n",
              "      document.body.appendChild(div);\n",
              "\n",
              "      const buffers = [];\n",
              "      let downloaded = 0;\n",
              "\n",
              "      const channel = await google.colab.kernel.comms.open(id);\n",
              "      // Send a message to notify the kernel that we're ready.\n",
              "      channel.send({})\n",
              "\n",
              "      for await (const message of channel.messages) {\n",
              "        // Send a message to notify the kernel that we're ready.\n",
              "        channel.send({})\n",
              "        if (message.buffers) {\n",
              "          for (const buffer of message.buffers) {\n",
              "            buffers.push(buffer);\n",
              "            downloaded += buffer.byteLength;\n",
              "            progress.value = downloaded;\n",
              "          }\n",
              "        }\n",
              "      }\n",
              "      const blob = new Blob(buffers, {type: 'application/binary'});\n",
              "      const a = document.createElement('a');\n",
              "      a.href = window.URL.createObjectURL(blob);\n",
              "      a.download = filename;\n",
              "      div.appendChild(a);\n",
              "      a.click();\n",
              "      div.remove();\n",
              "    }\n",
              "  "
            ],
            "text/plain": [
              "<IPython.core.display.Javascript object>"
            ]
          },
          "metadata": {},
          "output_type": "display_data"
        },
        {
          "data": {
            "application/javascript": [
              "download(\"download_4000cc29-33ac-43e4-aeac-e2755e010585\", \"training_data.csv\", 986898)"
            ],
            "text/plain": [
              "<IPython.core.display.Javascript object>"
            ]
          },
          "metadata": {},
          "output_type": "display_data"
        },
        {
          "data": {
            "application/javascript": [
              "\n",
              "    async function download(id, filename, size) {\n",
              "      if (!google.colab.kernel.accessAllowed) {\n",
              "        return;\n",
              "      }\n",
              "      const div = document.createElement('div');\n",
              "      const label = document.createElement('label');\n",
              "      label.textContent = `Downloading \"${filename}\": `;\n",
              "      div.appendChild(label);\n",
              "      const progress = document.createElement('progress');\n",
              "      progress.max = size;\n",
              "      div.appendChild(progress);\n",
              "      document.body.appendChild(div);\n",
              "\n",
              "      const buffers = [];\n",
              "      let downloaded = 0;\n",
              "\n",
              "      const channel = await google.colab.kernel.comms.open(id);\n",
              "      // Send a message to notify the kernel that we're ready.\n",
              "      channel.send({})\n",
              "\n",
              "      for await (const message of channel.messages) {\n",
              "        // Send a message to notify the kernel that we're ready.\n",
              "        channel.send({})\n",
              "        if (message.buffers) {\n",
              "          for (const buffer of message.buffers) {\n",
              "            buffers.push(buffer);\n",
              "            downloaded += buffer.byteLength;\n",
              "            progress.value = downloaded;\n",
              "          }\n",
              "        }\n",
              "      }\n",
              "      const blob = new Blob(buffers, {type: 'application/binary'});\n",
              "      const a = document.createElement('a');\n",
              "      a.href = window.URL.createObjectURL(blob);\n",
              "      a.download = filename;\n",
              "      div.appendChild(a);\n",
              "      a.click();\n",
              "      div.remove();\n",
              "    }\n",
              "  "
            ],
            "text/plain": [
              "<IPython.core.display.Javascript object>"
            ]
          },
          "metadata": {},
          "output_type": "display_data"
        },
        {
          "data": {
            "application/javascript": [
              "download(\"download_074fde6b-1bd8-4617-9bc7-3ce890242179\", \"test_data.csv\", 248529)"
            ],
            "text/plain": [
              "<IPython.core.display.Javascript object>"
            ]
          },
          "metadata": {},
          "output_type": "display_data"
        }
      ],
      "source": [
        "#optional if u want to download the data\n",
        "from google.colab import files\n",
        "\n",
        "# Assuming the paths to the training and testing CSV files\n",
        "training_data_path = '/content/drive/MyDrive/training_data.csv'\n",
        "test_data_path = '/content/drive/MyDrive/test_data.csv'\n",
        "\n",
        "# Download the training dataset\n",
        "files.download(training_data_path)\n",
        "\n",
        "# Download the testing dataset\n",
        "files.download(test_data_path)\n"
      ]
    },
    {
      "cell_type": "code",
      "execution_count": 40,
      "metadata": {
        "id": "6WayGvDkigbn"
      },
      "outputs": [],
      "source": [
        "import csv\n",
        "\n",
        "def parse_data_from_file(file_path):\n",
        "    sentences = []\n",
        "    labels_HS = []\n",
        "    labels_Abusive = []\n",
        "    labels_HS_Individual = []\n",
        "    labels_HS_Group = []\n",
        "    labels_HS_Religion = []\n",
        "    labels_HS_Race = []\n",
        "    labels_HS_Physical = []\n",
        "    labels_HS_Gender = []\n",
        "    labels_HS_Other = []\n",
        "    labels_HS_Weak = []\n",
        "    labels_HS_Moderate = []\n",
        "    labels_HS_Strong = []\n",
        "\n",
        "    with open(file_path, 'r', encoding='utf-8') as csvfile:\n",
        "        reader = csv.reader(csvfile)\n",
        "        next(reader, None)  # Skip the header\n",
        "\n",
        "        for row in reader:\n",
        "            sentence = row[0]\n",
        "            label_HS = int(row[1])\n",
        "            label_Abusive = int(row[2])\n",
        "            label_HS_Individual = int(row[3])\n",
        "            label_HS_Group = int(row[4])\n",
        "            label_HS_Religion = int(row[5])\n",
        "            label_HS_Race = int(row[6])\n",
        "            label_HS_Physical = int(row[7])\n",
        "            label_HS_Gender = int(row[8])\n",
        "            label_HS_Other = int(row[9])\n",
        "            label_HS_Weak = int(row[10])\n",
        "            label_HS_Moderate = int(row[11])\n",
        "            label_HS_Strong = int(row[12])\n",
        "\n",
        "            # Append data to respective lists\n",
        "            sentences.append(sentence)\n",
        "            labels_HS.append(label_HS)\n",
        "            labels_Abusive.append(label_Abusive)\n",
        "            labels_HS_Individual.append(label_HS_Individual)\n",
        "            labels_HS_Group.append(label_HS_Group)\n",
        "            labels_HS_Religion.append(label_HS_Religion)\n",
        "            labels_HS_Race.append(label_HS_Race)\n",
        "            labels_HS_Physical.append(label_HS_Physical)\n",
        "            labels_HS_Gender.append(label_HS_Gender)\n",
        "            labels_HS_Other.append(label_HS_Other)\n",
        "            labels_HS_Weak.append(label_HS_Weak)\n",
        "            labels_HS_Moderate.append(label_HS_Moderate)\n",
        "            labels_HS_Strong.append(label_HS_Strong)\n",
        "\n",
        "    return (sentences, labels_HS, labels_Abusive, labels_HS_Individual, labels_HS_Group,\n",
        "            labels_HS_Religion, labels_HS_Race, labels_HS_Physical, labels_HS_Gender,\n",
        "            labels_HS_Other, labels_HS_Weak, labels_HS_Moderate, labels_HS_Strong)\n"
      ]
    },
    {
      "cell_type": "code",
      "execution_count": 41,
      "metadata": {
        "id": "VV8wUJh4jQQ_"
      },
      "outputs": [],
      "source": [
        "#Training data\n",
        "sentences, labels_HS, labels_Abusive, labels_HS_Individual, labels_HS_Group, labels_HS_Religion, labels_HS_Race, labels_HS_Physical, labels_HS_Gender, labels_HS_Other, labels_HS_Weak, labels_HS_Moderate, labels_HS_Strong = parse_data_from_file('/content/drive/MyDrive/training_data.csv')\n",
        "\n",
        "#test data\n",
        "test_sentences, test_labels_HS, test_labels_Abusive, test_labels_HS_Individual, test_labels_HS_Group,test_labels_HS_Religion, test_labels_HS_Race, test_labels_HS_Physical, test_labels_HS_Gender, test_labels_HS_Other, test_labels_HS_Weak, test_labels_HS_Moderate, test_labels_HS_Strong = parse_data_from_file('/content/drive/MyDrive/test_data.csv')"
      ]
    },
    {
      "cell_type": "markdown",
      "metadata": {
        "id": "gPBRhMOYlS8m"
      },
      "source": []
    },
    {
      "cell_type": "markdown",
      "metadata": {
        "id": "6rtTRaw3ju1A"
      },
      "source": [
        "This is a small model that predict only labels_hs"
      ]
    },
    {
      "cell_type": "code",
      "execution_count": 42,
      "metadata": {
        "colab": {
          "base_uri": "https://localhost:8080/"
        },
        "id": "EcXrD5GSk1cA",
        "outputId": "88e68adc-00b8-40c1-f593-a4439fa27650"
      },
      "outputs": [
        {
          "output_type": "stream",
          "name": "stdout",
          "text": [
            "Accuracy: 0.8391370174110523\n",
            "Classification Report:\n",
            "               precision    recall  f1-score   support\n",
            "\n",
            "           0       0.84      0.89      0.87      1547\n",
            "           1       0.83      0.77      0.80      1095\n",
            "\n",
            "    accuracy                           0.84      2642\n",
            "   macro avg       0.84      0.83      0.83      2642\n",
            "weighted avg       0.84      0.84      0.84      2642\n",
            "\n"
          ]
        }
      ],
      "source": [
        "from sklearn.feature_extraction.text import CountVectorizer\n",
        "from sklearn.linear_model import LogisticRegression\n",
        "from sklearn.metrics import classification_report, accuracy_score\n",
        "\n",
        "# Step 1: Vectorize the text data\n",
        "vectorizer = CountVectorizer()\n",
        "X_train_vectorized = vectorizer.fit_transform(sentences)\n",
        "X_test_vectorized = vectorizer.transform(test_sentences)\n",
        "\n",
        "# Step 2: Choose and train the classification model\n",
        "model = LogisticRegression()\n",
        "model.fit(X_train_vectorized, labels_HS)  # Assuming you're training for 'labels_HS'\n",
        "\n",
        "# Step 3: Make predictions on the test data\n",
        "predictions = model.predict(X_test_vectorized)\n",
        "\n",
        "# Step 4: Evaluate the model\n",
        "accuracy = accuracy_score(test_labels_HS, predictions)\n",
        "report = classification_report(test_labels_HS, predictions)\n",
        "\n",
        "# Print the evaluation results\n",
        "print(\"Accuracy:\", accuracy)\n",
        "print(\"Classification Report:\\n\", report)\n"
      ]
    },
    {
      "cell_type": "markdown",
      "metadata": {
        "id": "IOlCx8QsmsXv"
      },
      "source": [
        "training using deep learning method 12 labels failed\n"
      ]
    },
    {
      "cell_type": "code",
      "execution_count": null,
      "metadata": {
        "id": "jRpi4RnQn8lw"
      },
      "outputs": [],
      "source": [
        "import numpy as np\n",
        "import tensorflow as tf\n",
        "from tensorflow.keras.models import Sequential\n",
        "from tensorflow.keras.layers import Embedding, Bidirectional, LSTM, Dense, Dropout, SpatialDropout1D\n",
        "from tensorflow.keras.optimizers import Adam\n",
        "\n",
        "# Convert labels to numpy arrays\n",
        "y_train = np.array([labels_HS, labels_Abusive, labels_HS_Individual, labels_HS_Group,\n",
        "                    labels_HS_Religion, labels_HS_Race, labels_HS_Physical, labels_HS_Gender,\n",
        "                    labels_HS_Other, labels_HS_Weak, labels_HS_Moderate, labels_HS_Strong])\n",
        "\n",
        "y_test = np.array([test_labels_HS, test_labels_Abusive, test_labels_HS_Individual, test_labels_HS_Group,\n",
        "                   test_labels_HS_Religion, test_labels_HS_Race, test_labels_HS_Physical, test_labels_HS_Gender,\n",
        "                   test_labels_HS_Other, test_labels_HS_Weak, test_labels_HS_Moderate, test_labels_HS_Strong])\n",
        "\n",
        "# Tokenize the sentences\n",
        "tokenizer = tf.keras.preprocessing.text.Tokenizer()\n",
        "tokenizer.fit_on_texts(sentences)\n",
        "\n",
        "X_train = tokenizer.texts_to_sequences(sentences)\n",
        "X_test = tokenizer.texts_to_sequences(test_sentences)\n",
        "\n",
        "# Pad sequences to ensure consistent length\n",
        "X_train_padded = tf.keras.preprocessing.sequence.pad_sequences(X_train, padding='post')\n",
        "X_test_padded = tf.keras.preprocessing.sequence.pad_sequences(X_test, padding='post')"
      ]
    },
    {
      "cell_type": "code",
      "execution_count": null,
      "metadata": {
        "colab": {
          "base_uri": "https://localhost:8080/"
        },
        "id": "5_-gN4-nlZx4",
        "outputId": "bd8b7efd-e241-4135-f18e-52dda7f5b7b2"
      },
      "outputs": [
        {
          "name": "stdout",
          "output_type": "stream",
          "text": [
            "Epoch 1/30\n",
            "132/132 [==============================] - 26s 133ms/step - loss: 0.5501 - accuracy: 0.2792 - val_loss: 0.4093 - val_accuracy: 0.8723\n",
            "Epoch 2/30\n",
            "132/132 [==============================] - 8s 62ms/step - loss: 0.4199 - accuracy: 0.4280 - val_loss: 0.4016 - val_accuracy: 0.8723\n",
            "Epoch 3/30\n",
            "132/132 [==============================] - 5s 39ms/step - loss: 0.4085 - accuracy: 0.4776 - val_loss: 0.4008 - val_accuracy: 0.8723\n",
            "Epoch 4/30\n",
            "132/132 [==============================] - 6s 44ms/step - loss: 0.4039 - accuracy: 0.5276 - val_loss: 0.3986 - val_accuracy: 0.8723\n",
            "Epoch 5/30\n",
            "132/132 [==============================] - 5s 36ms/step - loss: 0.4007 - accuracy: 0.5631 - val_loss: 0.3943 - val_accuracy: 0.6260\n",
            "Epoch 6/30\n",
            "132/132 [==============================] - 4s 30ms/step - loss: 0.3900 - accuracy: 0.5742 - val_loss: 0.3768 - val_accuracy: 0.6118\n",
            "Epoch 7/30\n",
            "132/132 [==============================] - 4s 30ms/step - loss: 0.3565 - accuracy: 0.5841 - val_loss: 0.3432 - val_accuracy: 0.7257\n",
            "Epoch 8/30\n",
            "132/132 [==============================] - 5s 40ms/step - loss: 0.3164 - accuracy: 0.5553 - val_loss: 0.3249 - val_accuracy: 0.7959\n",
            "Epoch 9/30\n",
            "132/132 [==============================] - 4s 28ms/step - loss: 0.2974 - accuracy: 0.5357 - val_loss: 0.3140 - val_accuracy: 0.5301\n",
            "Epoch 10/30\n",
            "132/132 [==============================] - 4s 29ms/step - loss: 0.2819 - accuracy: 0.5131 - val_loss: 0.3109 - val_accuracy: 0.4879\n",
            "Epoch 11/30\n",
            "132/132 [==============================] - 4s 32ms/step - loss: 0.2664 - accuracy: 0.5036 - val_loss: 0.3002 - val_accuracy: 0.5093\n",
            "Epoch 12/30\n",
            "132/132 [==============================] - 5s 35ms/step - loss: 0.2536 - accuracy: 0.5113 - val_loss: 0.2992 - val_accuracy: 0.4713\n",
            "Epoch 13/30\n",
            "132/132 [==============================] - 3s 26ms/step - loss: 0.2424 - accuracy: 0.5195 - val_loss: 0.3003 - val_accuracy: 0.5225\n",
            "Epoch 14/30\n",
            "132/132 [==============================] - 4s 29ms/step - loss: 0.2323 - accuracy: 0.5301 - val_loss: 0.3043 - val_accuracy: 0.5078\n",
            "Epoch 15/30\n",
            "132/132 [==============================] - 5s 37ms/step - loss: 0.2242 - accuracy: 0.5314 - val_loss: 0.3002 - val_accuracy: 0.4922\n",
            "Epoch 16/30\n",
            "132/132 [==============================] - 4s 34ms/step - loss: 0.2181 - accuracy: 0.5324 - val_loss: 0.3152 - val_accuracy: 0.5206\n",
            "Epoch 17/30\n",
            "132/132 [==============================] - 3s 25ms/step - loss: 0.2136 - accuracy: 0.5408 - val_loss: 0.3104 - val_accuracy: 0.4974\n",
            "Epoch 18/30\n",
            "132/132 [==============================] - 4s 27ms/step - loss: 0.2077 - accuracy: 0.5380 - val_loss: 0.3105 - val_accuracy: 0.5259\n",
            "Epoch 19/30\n",
            "132/132 [==============================] - 4s 33ms/step - loss: 0.2041 - accuracy: 0.5409 - val_loss: 0.3167 - val_accuracy: 0.5187\n",
            "Epoch 20/30\n",
            "132/132 [==============================] - 5s 34ms/step - loss: 0.2005 - accuracy: 0.5444 - val_loss: 0.3143 - val_accuracy: 0.5050\n",
            "Epoch 21/30\n",
            "132/132 [==============================] - 4s 27ms/step - loss: 0.1941 - accuracy: 0.5517 - val_loss: 0.3280 - val_accuracy: 0.5045\n",
            "Epoch 22/30\n",
            "132/132 [==============================] - 3s 26ms/step - loss: 0.1919 - accuracy: 0.5435 - val_loss: 0.3195 - val_accuracy: 0.5330\n",
            "Epoch 23/30\n",
            "132/132 [==============================] - 4s 31ms/step - loss: 0.1860 - accuracy: 0.5572 - val_loss: 0.3302 - val_accuracy: 0.5278\n",
            "Epoch 24/30\n",
            "132/132 [==============================] - 4s 32ms/step - loss: 0.1824 - accuracy: 0.5587 - val_loss: 0.3332 - val_accuracy: 0.5467\n",
            "Epoch 25/30\n",
            "132/132 [==============================] - 3s 25ms/step - loss: 0.1815 - accuracy: 0.5472 - val_loss: 0.3352 - val_accuracy: 0.5325\n",
            "Epoch 26/30\n",
            "132/132 [==============================] - 3s 25ms/step - loss: 0.1778 - accuracy: 0.5438 - val_loss: 0.3652 - val_accuracy: 0.4979\n",
            "Epoch 27/30\n",
            "132/132 [==============================] - 4s 30ms/step - loss: 0.1765 - accuracy: 0.5412 - val_loss: 0.3494 - val_accuracy: 0.4950\n",
            "Epoch 28/30\n",
            "132/132 [==============================] - 4s 34ms/step - loss: 0.1728 - accuracy: 0.5432 - val_loss: 0.3485 - val_accuracy: 0.5150\n",
            "Epoch 29/30\n",
            "132/132 [==============================] - 3s 26ms/step - loss: 0.1715 - accuracy: 0.5494 - val_loss: 0.3558 - val_accuracy: 0.5045\n",
            "Epoch 30/30\n",
            "132/132 [==============================] - 3s 25ms/step - loss: 0.1692 - accuracy: 0.5406 - val_loss: 0.3680 - val_accuracy: 0.5107\n",
            "83/83 [==============================] - 3s 8ms/step - loss: 0.3665 - accuracy: 0.5137\n",
            "Test Accuracy: 51.37%\n"
          ]
        }
      ],
      "source": [
        "# Define the model\n",
        "model = Sequential()\n",
        "model.add(Embedding(input_dim=len(tokenizer.word_index) + 1, output_dim=128, input_length=X_train_padded.shape[1]))\n",
        "model.add(SpatialDropout1D(0.5))\n",
        "model.add(Bidirectional(LSTM(128, return_sequences=True)))\n",
        "model.add(SpatialDropout1D(0.5))\n",
        "model.add(Bidirectional(LSTM(64)))\n",
        "model.add(Dense(128, activation='relu'))\n",
        "model.add(Dropout(0.5))\n",
        "model.add(Dense(64, activation='relu'))\n",
        "model.add(Dense(12, activation='sigmoid'))  # 12 is the number of output labels\n",
        "\n",
        "# Compile the model with a lower learning rate\n",
        "model.compile(optimizer=Adam(learning_rate=0.0001), loss='binary_crossentropy', metrics=['accuracy'])\n",
        "\n",
        "# Train the model\n",
        "model.fit(X_train_padded, y_train.T, epochs=30, batch_size=64, validation_split=0.2)\n",
        "\n",
        "# Evaluate the model on the test set\n",
        "loss, accuracy = model.evaluate(X_test_padded, y_test.T)\n",
        "print(f'Test Accuracy: {accuracy * 100:.2f}%')"
      ]
    },
    {
      "cell_type": "markdown",
      "metadata": {
        "id": "h0bWmdlPq8ko"
      },
      "source": [
        "8 labels :"
      ]
    },
    {
      "cell_type": "code",
      "execution_count": null,
      "metadata": {
        "id": "mKxYZ5g8q-Xv"
      },
      "outputs": [],
      "source": [
        "import numpy as np\n",
        "import tensorflow as tf\n",
        "# Convert labels to numpy arrays\n",
        "y_train = np.array([labels_HS, labels_Abusive, labels_HS_Individual, labels_HS_Group,\n",
        "                    labels_HS_Religion, labels_HS_Race, labels_HS_Physical, labels_HS_Gender])\n",
        "\n",
        "y_test = np.array([test_labels_HS, test_labels_Abusive, test_labels_HS_Individual, test_labels_HS_Group,\n",
        "                   test_labels_HS_Religion, test_labels_HS_Race, test_labels_HS_Physical, test_labels_HS_Gender])\n",
        "\n",
        "# Tokenize the sentences\n",
        "tokenizer = tf.keras.preprocessing.text.Tokenizer()\n",
        "tokenizer.fit_on_texts(sentences)\n",
        "\n",
        "X_train = tokenizer.texts_to_sequences(sentences)\n",
        "X_test = tokenizer.texts_to_sequences(test_sentences)\n",
        "\n",
        "# Pad sequences to ensure consistent length\n",
        "X_train_padded = tf.keras.preprocessing.sequence.pad_sequences(X_train, padding='post')\n",
        "X_test_padded = tf.keras.preprocessing.sequence.pad_sequences(X_test, padding='post')"
      ]
    },
    {
      "cell_type": "markdown",
      "metadata": {
        "id": "tM9VZqaMEJkQ"
      },
      "source": [
        "Version 1 test accuracy 87%"
      ]
    },
    {
      "cell_type": "code",
      "execution_count": null,
      "metadata": {
        "colab": {
          "base_uri": "https://localhost:8080/",
          "height": 245
        },
        "id": "oWoKpM-1q_5o",
        "outputId": "794ac834-3c6d-43ff-db27-df31aef56f6b"
      },
      "outputs": [
        {
          "ename": "AttributeError",
          "evalue": "ignored",
          "output_type": "error",
          "traceback": [
            "\u001b[0;31m---------------------------------------------------------------------------\u001b[0m",
            "\u001b[0;31mAttributeError\u001b[0m                            Traceback (most recent call last)",
            "\u001b[0;32m<ipython-input-11-ce111d93cdef>\u001b[0m in \u001b[0;36m<cell line: 14>\u001b[0;34m()\u001b[0m\n\u001b[1;32m     12\u001b[0m \u001b[0;31m# Define a more complex model\u001b[0m\u001b[0;34m\u001b[0m\u001b[0;34m\u001b[0m\u001b[0m\n\u001b[1;32m     13\u001b[0m \u001b[0mmodel\u001b[0m \u001b[0;34m=\u001b[0m \u001b[0mSequential\u001b[0m\u001b[0;34m(\u001b[0m\u001b[0;34m)\u001b[0m\u001b[0;34m\u001b[0m\u001b[0;34m\u001b[0m\u001b[0m\n\u001b[0;32m---> 14\u001b[0;31m \u001b[0mmodel\u001b[0m\u001b[0;34m.\u001b[0m\u001b[0madd\u001b[0m\u001b[0;34m(\u001b[0m\u001b[0mEmbedding\u001b[0m\u001b[0;34m(\u001b[0m\u001b[0minput_dim\u001b[0m\u001b[0;34m=\u001b[0m\u001b[0mlen\u001b[0m\u001b[0;34m(\u001b[0m\u001b[0mtokenizer\u001b[0m\u001b[0;34m.\u001b[0m\u001b[0mword_index\u001b[0m\u001b[0;34m)\u001b[0m \u001b[0;34m+\u001b[0m \u001b[0;36m1\u001b[0m\u001b[0;34m,\u001b[0m \u001b[0moutput_dim\u001b[0m\u001b[0;34m=\u001b[0m\u001b[0;36m256\u001b[0m\u001b[0;34m,\u001b[0m \u001b[0minput_length\u001b[0m\u001b[0;34m=\u001b[0m\u001b[0mX_train_padded\u001b[0m\u001b[0;34m.\u001b[0m\u001b[0mshape\u001b[0m\u001b[0;34m[\u001b[0m\u001b[0;36m1\u001b[0m\u001b[0;34m]\u001b[0m\u001b[0;34m)\u001b[0m\u001b[0;34m)\u001b[0m\u001b[0;34m\u001b[0m\u001b[0;34m\u001b[0m\u001b[0m\n\u001b[0m\u001b[1;32m     15\u001b[0m \u001b[0mmodel\u001b[0m\u001b[0;34m.\u001b[0m\u001b[0madd\u001b[0m\u001b[0;34m(\u001b[0m\u001b[0mSpatialDropout1D\u001b[0m\u001b[0;34m(\u001b[0m\u001b[0;36m0.6\u001b[0m\u001b[0;34m)\u001b[0m\u001b[0;34m)\u001b[0m\u001b[0;34m\u001b[0m\u001b[0;34m\u001b[0m\u001b[0m\n\u001b[1;32m     16\u001b[0m \u001b[0mmodel\u001b[0m\u001b[0;34m.\u001b[0m\u001b[0madd\u001b[0m\u001b[0;34m(\u001b[0m\u001b[0mBidirectional\u001b[0m\u001b[0;34m(\u001b[0m\u001b[0mLSTM\u001b[0m\u001b[0;34m(\u001b[0m\u001b[0;36m128\u001b[0m\u001b[0;34m,\u001b[0m \u001b[0mreturn_sequences\u001b[0m\u001b[0;34m=\u001b[0m\u001b[0;32mTrue\u001b[0m\u001b[0;34m)\u001b[0m\u001b[0;34m)\u001b[0m\u001b[0;34m)\u001b[0m\u001b[0;34m\u001b[0m\u001b[0;34m\u001b[0m\u001b[0m\n",
            "\u001b[0;31mAttributeError\u001b[0m: 'BertTokenizerFast' object has no attribute 'word_index'"
          ]
        }
      ],
      "source": [
        "import numpy as np\n",
        "import tensorflow as tf\n",
        "from tensorflow.keras.models import Sequential\n",
        "from tensorflow.keras.layers import Embedding, Bidirectional, LSTM, Dense, Dropout, SpatialDropout1D\n",
        "from tensorflow.keras.optimizers import Adam\n",
        "from tensorflow.keras.callbacks import ModelCheckpoint, EarlyStopping\n",
        "\n",
        "# Define callbacks\n",
        "model_checkpoint = ModelCheckpoint('best_model.h5', save_best_only=True, save_weights_only=False, monitor='val_loss', mode='min', verbose=1)\n",
        "early_stopping = EarlyStopping(monitor='val_loss', patience=5, mode='min', restore_best_weights=True, verbose=1)\n",
        "\n",
        "# Define a more complex model\n",
        "model = Sequential()\n",
        "model.add(Embedding(input_dim=len(tokenizer.word_index) + 1, output_dim=256, input_length=X_train_padded.shape[1]))\n",
        "model.add(SpatialDropout1D(0.6))\n",
        "model.add(Bidirectional(LSTM(128, return_sequences=True)))\n",
        "model.add(SpatialDropout1D(0.6))\n",
        "model.add(Bidirectional(LSTM(64)))\n",
        "model.add(Dense(128, activation='relu'))\n",
        "model.add(Dropout(0.6))\n",
        "model.add(Dense(64, activation='relu'))\n",
        "model.add(Dense(8, activation='sigmoid'))\n",
        "\n",
        "# Compile the model with an adjusted learning rate\n",
        "model.compile(optimizer=Adam(learning_rate=0.00001), loss='binary_crossentropy', metrics=['accuracy'])\n",
        "\n",
        "# Train the model with callbacks\n",
        "history = model.fit(X_train_padded, y_train.T, epochs=30, batch_size=128, validation_split=0.2, callbacks=[model_checkpoint, early_stopping])\n",
        "\n",
        "# Load the best weights from the checkpoint\n",
        "model.load_weights('best_model.h5')\n",
        "\n",
        "# Evaluate the model on the test set\n",
        "loss, accuracy = model.evaluate(X_test_padded, y_test.T)\n",
        "print(f'Test Accuracy: {accuracy * 100:.2f}%')"
      ]
    },
    {
      "cell_type": "markdown",
      "metadata": {
        "id": "jLvLQENkEPbP"
      },
      "source": [
        "Version 2 coba2"
      ]
    },
    {
      "cell_type": "code",
      "execution_count": null,
      "metadata": {
        "colab": {
          "base_uri": "https://localhost:8080/"
        },
        "id": "SV7L0i8o0cpr",
        "outputId": "45d04004-5270-461c-e059-25aa676b6f88"
      },
      "outputs": [
        {
          "name": "stderr",
          "output_type": "stream",
          "text": [
            "Asking to truncate to max_length but no maximum length is provided and the model has no predefined maximum length. Default to no truncation.\n"
          ]
        }
      ],
      "source": [
        "# Define a tokenizer\n",
        "tokenizer = AutoTokenizer.from_pretrained(\"sarahlintang/IndoBERT\")\n",
        "\n",
        "# Convert labels to numpy arrays\n",
        "y_train = np.array([labels_HS, labels_Abusive, labels_HS_Individual, labels_HS_Group,\n",
        "                    labels_HS_Religion, labels_HS_Race, labels_HS_Physical, labels_HS_Gender])\n",
        "\n",
        "y_test = np.array([test_labels_HS, test_labels_Abusive, test_labels_HS_Individual, test_labels_HS_Group,\n",
        "                   test_labels_HS_Religion, test_labels_HS_Race, test_labels_HS_Physical, test_labels_HS_Gender])\n",
        "\n",
        "# Tokenize the sentences\n",
        "X_train = tokenizer(sentences, return_tensors=\"tf\", padding=True, truncation=True)\n",
        "X_test = tokenizer(test_sentences, return_tensors=\"tf\", padding=True, truncation=True)\n",
        "\n",
        "# Extract the input IDs from the tokenizer output\n",
        "X_train_padded = X_train[\"input_ids\"]\n",
        "X_test_padded = X_test[\"input_ids\"]"
      ]
    },
    {
      "cell_type": "code",
      "execution_count": null,
      "metadata": {
        "id": "dnYAZBvCEPO3"
      },
      "outputs": [],
      "source": [
        "# Define callbacks\n",
        "model_checkpoint = ModelCheckpoint('best_model.h5', save_best_only=True, save_weights_only=False, monitor='val_loss', mode='min', verbose=1)\n",
        "early_stopping = EarlyStopping(monitor='val_loss', patience=5, mode='min', restore_best_weights=True, verbose=1)\n",
        "\n",
        "# Define a more complex model\n",
        "model = Sequential()\n",
        "model.add(Embedding(input_dim=len(tokenizer.get_vocab()) + 1, output_dim=256, input_length=X_train_padded.shape[1]))\n",
        "model.add(SpatialDropout1D(0.6))\n",
        "model.add(Bidirectional(LSTM(128, return_sequences=True)))\n",
        "model.add(SpatialDropout1D(0.6))\n",
        "model.add(Bidirectional(LSTM(64)))\n",
        "model.add(Dense(128, activation='relu'))\n",
        "model.add(Dropout(0.6))\n",
        "model.add(Dense(64, activation='relu'))\n",
        "model.add(Dense(8, activation='sigmoid'))\n",
        "\n",
        "# Compile the model with an adjusted learning rate\n",
        "model.compile(optimizer=Adam(learning_rate=0.00001), loss='binary_crossentropy', metrics=['accuracy'])\n",
        "\n",
        "# Train the model with callbacks\n",
        "history = model.fit(X_train_padded, y_train.T, epochs=30, batch_size=128, validation_split=0.2, callbacks=[model_checkpoint, early_stopping])\n",
        "\n",
        "# Load the best weights from the checkpoint\n",
        "model.load_weights('best_model.h5')\n",
        "\n",
        "# Evaluate the model on the test set\n",
        "loss, accuracy = model.evaluate(X_test_padded, y_test.T)\n",
        "print(f'Test Accuracy: {accuracy * 100:.2f}%')"
      ]
    },
    {
      "cell_type": "markdown",
      "metadata": {
        "id": "LqGpxRdRq_Vw"
      },
      "source": [
        "Version 3 just make it sentiment analysis"
      ]
    },
    {
      "cell_type": "code",
      "execution_count": 43,
      "metadata": {
        "colab": {
          "base_uri": "https://localhost:8080/"
        },
        "id": "K8udkj_AGAce",
        "outputId": "8cf55d66-9316-4546-83e4-003f27090405"
      },
      "outputs": [
        {
          "output_type": "stream",
          "name": "stdout",
          "text": [
            "Epoch 1/30\n",
            "67/67 [==============================] - ETA: 0s - loss: 0.6919 - accuracy: 0.5337\n",
            "Epoch 1: val_loss improved from inf to 0.68793, saving model to best_model.h5\n",
            "67/67 [==============================] - 94s 1s/step - loss: 0.6919 - accuracy: 0.5337 - val_loss: 0.6879 - val_accuracy: 0.5603\n",
            "Epoch 2/30\n"
          ]
        },
        {
          "output_type": "stream",
          "name": "stderr",
          "text": [
            "/usr/local/lib/python3.10/dist-packages/keras/src/engine/training.py:3079: UserWarning: You are saving your model as an HDF5 file via `model.save()`. This file format is considered legacy. We recommend using instead the native Keras format, e.g. `model.save('my_model.keras')`.\n",
            "  saving_api.save_model(\n"
          ]
        },
        {
          "output_type": "stream",
          "name": "stdout",
          "text": [
            "67/67 [==============================] - ETA: 0s - loss: 0.6877 - accuracy: 0.5533\n",
            "Epoch 2: val_loss improved from 0.68793 to 0.68555, saving model to best_model.h5\n",
            "67/67 [==============================] - 38s 571ms/step - loss: 0.6877 - accuracy: 0.5533 - val_loss: 0.6855 - val_accuracy: 0.5603\n",
            "Epoch 3/30\n",
            "67/67 [==============================] - ETA: 0s - loss: 0.6883 - accuracy: 0.5482\n",
            "Epoch 3: val_loss improved from 0.68555 to 0.68388, saving model to best_model.h5\n",
            "67/67 [==============================] - 30s 446ms/step - loss: 0.6883 - accuracy: 0.5482 - val_loss: 0.6839 - val_accuracy: 0.5603\n",
            "Epoch 4/30\n",
            "67/67 [==============================] - ETA: 0s - loss: 0.6869 - accuracy: 0.5517\n",
            "Epoch 4: val_loss improved from 0.68388 to 0.68204, saving model to best_model.h5\n",
            "67/67 [==============================] - 28s 424ms/step - loss: 0.6869 - accuracy: 0.5517 - val_loss: 0.6820 - val_accuracy: 0.5603\n",
            "Epoch 5/30\n",
            "67/67 [==============================] - ETA: 0s - loss: 0.6853 - accuracy: 0.5552\n",
            "Epoch 5: val_loss improved from 0.68204 to 0.67959, saving model to best_model.h5\n",
            "67/67 [==============================] - 26s 388ms/step - loss: 0.6853 - accuracy: 0.5552 - val_loss: 0.6796 - val_accuracy: 0.5603\n",
            "Epoch 6/30\n",
            "67/67 [==============================] - ETA: 0s - loss: 0.6825 - accuracy: 0.5604\n",
            "Epoch 6: val_loss improved from 0.67959 to 0.67651, saving model to best_model.h5\n",
            "67/67 [==============================] - 29s 434ms/step - loss: 0.6825 - accuracy: 0.5604 - val_loss: 0.6765 - val_accuracy: 0.5603\n",
            "Epoch 7/30\n",
            "67/67 [==============================] - ETA: 0s - loss: 0.6773 - accuracy: 0.5660\n",
            "Epoch 7: val_loss improved from 0.67651 to 0.67093, saving model to best_model.h5\n",
            "67/67 [==============================] - 28s 418ms/step - loss: 0.6773 - accuracy: 0.5660 - val_loss: 0.6709 - val_accuracy: 0.5603\n",
            "Epoch 8/30\n",
            "67/67 [==============================] - ETA: 0s - loss: 0.6724 - accuracy: 0.5830\n",
            "Epoch 8: val_loss improved from 0.67093 to 0.66282, saving model to best_model.h5\n",
            "67/67 [==============================] - 28s 411ms/step - loss: 0.6724 - accuracy: 0.5830 - val_loss: 0.6628 - val_accuracy: 0.5679\n",
            "Epoch 9/30\n",
            "67/67 [==============================] - ETA: 0s - loss: 0.6637 - accuracy: 0.6060\n",
            "Epoch 9: val_loss improved from 0.66282 to 0.64955, saving model to best_model.h5\n",
            "67/67 [==============================] - 30s 451ms/step - loss: 0.6637 - accuracy: 0.6060 - val_loss: 0.6496 - val_accuracy: 0.6441\n",
            "Epoch 10/30\n",
            "67/67 [==============================] - ETA: 0s - loss: 0.6439 - accuracy: 0.6617\n",
            "Epoch 10: val_loss improved from 0.64955 to 0.62569, saving model to best_model.h5\n",
            "67/67 [==============================] - 29s 432ms/step - loss: 0.6439 - accuracy: 0.6617 - val_loss: 0.6257 - val_accuracy: 0.7156\n",
            "Epoch 11/30\n",
            "67/67 [==============================] - ETA: 0s - loss: 0.6107 - accuracy: 0.7116\n",
            "Epoch 11: val_loss improved from 0.62569 to 0.58343, saving model to best_model.h5\n",
            "67/67 [==============================] - 26s 387ms/step - loss: 0.6107 - accuracy: 0.7116 - val_loss: 0.5834 - val_accuracy: 0.7340\n",
            "Epoch 12/30\n",
            "67/67 [==============================] - ETA: 0s - loss: 0.5616 - accuracy: 0.7420\n",
            "Epoch 12: val_loss improved from 0.58343 to 0.52009, saving model to best_model.h5\n",
            "67/67 [==============================] - 29s 433ms/step - loss: 0.5616 - accuracy: 0.7420 - val_loss: 0.5201 - val_accuracy: 0.7549\n",
            "Epoch 13/30\n",
            "67/67 [==============================] - ETA: 0s - loss: 0.4941 - accuracy: 0.7865\n",
            "Epoch 13: val_loss improved from 0.52009 to 0.46143, saving model to best_model.h5\n",
            "67/67 [==============================] - 29s 440ms/step - loss: 0.4941 - accuracy: 0.7865 - val_loss: 0.4614 - val_accuracy: 0.7771\n",
            "Epoch 14/30\n",
            "67/67 [==============================] - ETA: 0s - loss: 0.4433 - accuracy: 0.8182\n",
            "Epoch 14: val_loss improved from 0.46143 to 0.42411, saving model to best_model.h5\n",
            "67/67 [==============================] - 26s 388ms/step - loss: 0.4433 - accuracy: 0.8182 - val_loss: 0.4241 - val_accuracy: 0.8017\n",
            "Epoch 15/30\n",
            "67/67 [==============================] - ETA: 0s - loss: 0.4052 - accuracy: 0.8380\n",
            "Epoch 15: val_loss improved from 0.42411 to 0.39526, saving model to best_model.h5\n",
            "67/67 [==============================] - 30s 450ms/step - loss: 0.4052 - accuracy: 0.8380 - val_loss: 0.3953 - val_accuracy: 0.8178\n",
            "Epoch 16/30\n",
            "67/67 [==============================] - ETA: 0s - loss: 0.3678 - accuracy: 0.8567\n",
            "Epoch 16: val_loss improved from 0.39526 to 0.37753, saving model to best_model.h5\n",
            "67/67 [==============================] - 30s 444ms/step - loss: 0.3678 - accuracy: 0.8567 - val_loss: 0.3775 - val_accuracy: 0.8282\n",
            "Epoch 17/30\n",
            "67/67 [==============================] - ETA: 0s - loss: 0.3430 - accuracy: 0.8672\n",
            "Epoch 17: val_loss improved from 0.37753 to 0.37690, saving model to best_model.h5\n",
            "67/67 [==============================] - 26s 395ms/step - loss: 0.3430 - accuracy: 0.8672 - val_loss: 0.3769 - val_accuracy: 0.8363\n",
            "Epoch 18/30\n",
            "67/67 [==============================] - ETA: 0s - loss: 0.3321 - accuracy: 0.8739\n",
            "Epoch 18: val_loss improved from 0.37690 to 0.36832, saving model to best_model.h5\n",
            "67/67 [==============================] - 29s 435ms/step - loss: 0.3321 - accuracy: 0.8739 - val_loss: 0.3683 - val_accuracy: 0.8400\n",
            "Epoch 19/30\n",
            "67/67 [==============================] - ETA: 0s - loss: 0.3102 - accuracy: 0.8874\n",
            "Epoch 19: val_loss improved from 0.36832 to 0.36142, saving model to best_model.h5\n",
            "67/67 [==============================] - 30s 447ms/step - loss: 0.3102 - accuracy: 0.8874 - val_loss: 0.3614 - val_accuracy: 0.8405\n",
            "Epoch 20/30\n",
            "67/67 [==============================] - ETA: 0s - loss: 0.2932 - accuracy: 0.8908\n",
            "Epoch 20: val_loss did not improve from 0.36142\n",
            "67/67 [==============================] - 27s 410ms/step - loss: 0.2932 - accuracy: 0.8908 - val_loss: 0.3675 - val_accuracy: 0.8452\n",
            "Epoch 21/30\n",
            "67/67 [==============================] - ETA: 0s - loss: 0.2711 - accuracy: 0.9012\n",
            "Epoch 21: val_loss did not improve from 0.36142\n",
            "67/67 [==============================] - 27s 404ms/step - loss: 0.2711 - accuracy: 0.9012 - val_loss: 0.3648 - val_accuracy: 0.8452\n",
            "Epoch 22/30\n",
            "67/67 [==============================] - ETA: 0s - loss: 0.2743 - accuracy: 0.9036\n",
            "Epoch 22: val_loss did not improve from 0.36142\n",
            "67/67 [==============================] - 29s 429ms/step - loss: 0.2743 - accuracy: 0.9036 - val_loss: 0.3638 - val_accuracy: 0.8490\n",
            "Epoch 23/30\n",
            "67/67 [==============================] - ETA: 0s - loss: 0.2560 - accuracy: 0.9071\n",
            "Epoch 23: val_loss did not improve from 0.36142\n",
            "67/67 [==============================] - 27s 407ms/step - loss: 0.2560 - accuracy: 0.9071 - val_loss: 0.3629 - val_accuracy: 0.8504\n",
            "Epoch 24/30\n",
            "67/67 [==============================] - ETA: 0s - loss: 0.2428 - accuracy: 0.9156\n",
            "Epoch 24: val_loss did not improve from 0.36142\n",
            "67/67 [==============================] - 28s 411ms/step - loss: 0.2428 - accuracy: 0.9156 - val_loss: 0.3723 - val_accuracy: 0.8500\n",
            "Epoch 25/30\n",
            "67/67 [==============================] - ETA: 0s - loss: 0.2479 - accuracy: 0.9126\n",
            "Epoch 25: val_loss improved from 0.36142 to 0.35909, saving model to best_model.h5\n",
            "67/67 [==============================] - 30s 451ms/step - loss: 0.2479 - accuracy: 0.9126 - val_loss: 0.3591 - val_accuracy: 0.8514\n",
            "Epoch 26/30\n",
            "67/67 [==============================] - ETA: 0s - loss: 0.2320 - accuracy: 0.9194\n",
            "Epoch 26: val_loss did not improve from 0.35909\n",
            "67/67 [==============================] - 27s 409ms/step - loss: 0.2320 - accuracy: 0.9194 - val_loss: 0.3739 - val_accuracy: 0.8514\n",
            "Epoch 27/30\n",
            "67/67 [==============================] - ETA: 0s - loss: 0.2178 - accuracy: 0.9231\n",
            "Epoch 27: val_loss did not improve from 0.35909\n",
            "67/67 [==============================] - 29s 426ms/step - loss: 0.2178 - accuracy: 0.9231 - val_loss: 0.3650 - val_accuracy: 0.8533\n",
            "Epoch 28/30\n",
            "67/67 [==============================] - ETA: 0s - loss: 0.2206 - accuracy: 0.9243\n",
            "Epoch 28: val_loss improved from 0.35909 to 0.35875, saving model to best_model.h5\n",
            "67/67 [==============================] - 30s 449ms/step - loss: 0.2206 - accuracy: 0.9243 - val_loss: 0.3588 - val_accuracy: 0.8557\n",
            "Epoch 29/30\n",
            "67/67 [==============================] - ETA: 0s - loss: 0.2078 - accuracy: 0.9297\n",
            "Epoch 29: val_loss did not improve from 0.35875\n",
            "67/67 [==============================] - 29s 436ms/step - loss: 0.2078 - accuracy: 0.9297 - val_loss: 0.3622 - val_accuracy: 0.8557\n",
            "Epoch 30/30\n",
            "67/67 [==============================] - ETA: 0s - loss: 0.2036 - accuracy: 0.9278\n",
            "Epoch 30: val_loss did not improve from 0.35875\n",
            "67/67 [==============================] - 27s 406ms/step - loss: 0.2036 - accuracy: 0.9278 - val_loss: 0.3700 - val_accuracy: 0.8557\n",
            "83/83 [==============================] - 4s 35ms/step - loss: 0.3700 - accuracy: 0.8512\n",
            "Test Accuracy: 85.12%\n"
          ]
        }
      ],
      "source": [
        "import numpy as np\n",
        "import tensorflow as tf\n",
        "from tensorflow.keras.models import Sequential\n",
        "from tensorflow.keras.layers import Embedding, Bidirectional, LSTM, Dense, Dropout, SpatialDropout1D, GlobalMaxPooling1D\n",
        "from tensorflow.keras.optimizers import Adam\n",
        "from tensorflow.keras.callbacks import ModelCheckpoint, EarlyStopping\n",
        "\n",
        "# Convert labels to binary classification (positive or not)\n",
        "y_train_binary = (np.sum([labels_HS, labels_Abusive, labels_HS_Individual, labels_HS_Group,\n",
        "                          labels_HS_Religion, labels_HS_Race, labels_HS_Physical, labels_HS_Gender], axis=0) > 0).astype(int)\n",
        "\n",
        "y_test_binary = (np.sum([test_labels_HS, test_labels_Abusive, test_labels_HS_Individual, test_labels_HS_Group,\n",
        "                         test_labels_HS_Religion, test_labels_HS_Race, test_labels_HS_Physical, test_labels_HS_Gender], axis=0) > 0).astype(int)\n",
        "\n",
        "# Tokenize the sentences\n",
        "tokenizer = tf.keras.preprocessing.text.Tokenizer()\n",
        "tokenizer.fit_on_texts(sentences)\n",
        "\n",
        "X_train = tokenizer.texts_to_sequences(sentences)\n",
        "X_test = tokenizer.texts_to_sequences(test_sentences)\n",
        "\n",
        "# Pad sequences to ensure consistent length\n",
        "X_train_padded = tf.keras.preprocessing.sequence.pad_sequences(X_train, padding='post')\n",
        "X_test_padded = tf.keras.preprocessing.sequence.pad_sequences(X_test, padding='post')\n",
        "\n",
        "# Define callbacks\n",
        "model_checkpoint = ModelCheckpoint('best_model.h5', save_best_only=True, save_weights_only=False, monitor='val_loss', mode='min', verbose=1)\n",
        "early_stopping = EarlyStopping(monitor='val_loss', patience=8, mode='min', restore_best_weights=True, verbose=1)\n",
        "\n",
        "model = Sequential()\n",
        "model.add(Embedding(input_dim=len(tokenizer.word_index) + 1, output_dim=260, input_length=X_train_padded.shape[1]))\n",
        "model.add(SpatialDropout1D(0.8))  # Increase dropout rate\n",
        "model.add(Bidirectional(LSTM(64, return_sequences=True)))  # Reduce LSTM units\n",
        "model.add(GlobalMaxPooling1D())\n",
        "model.add(Dense(64, activation='relu'))\n",
        "model.add(Dropout(0.8))  # Increase dropout rate\n",
        "model.add(Dense(1, activation='sigmoid'))\n",
        "\n",
        "# Compile the model with an adjusted learning rate\n",
        "model.compile(optimizer=Adam(learning_rate=0.0001), loss='binary_crossentropy', metrics=['accuracy'])\n",
        "\n",
        "# Train the model with callbacks\n",
        "history = model.fit(X_train_padded, y_train_binary, epochs=30, batch_size=128, validation_split=0.2, callbacks=[model_checkpoint, early_stopping])\n",
        "\n",
        "# Load the best weights from the checkpoint\n",
        "model.load_weights('best_model.h5')\n",
        "\n",
        "# Evaluate the model on the test set\n",
        "loss, accuracy = model.evaluate(X_test_padded, y_test_binary)\n",
        "print(f'Test Accuracy: {accuracy * 100:.2f}%')\n"
      ]
    },
    {
      "cell_type": "code",
      "execution_count": 46,
      "metadata": {
        "colab": {
          "base_uri": "https://localhost:8080/",
          "height": 1000
        },
        "id": "61mL4TwcvA-x",
        "outputId": "99c1a2dc-9aed-42fb-cd71-75c36e0d4e47"
      },
      "outputs": [
        {
          "output_type": "display_data",
          "data": {
            "text/plain": [
              "<Figure size 640x480 with 1 Axes>"
            ],
            "image/png": "[encoded data removed]"
          },
          "metadata": {}
        },
        {
          "output_type": "display_data",
          "data": {
            "text/plain": [
              "<Figure size 640x480 with 1 Axes>"
            ],
            "image/png": "[encoded data removed]"
          },
          "metadata": {}
        },
        {
          "output_type": "stream",
          "name": "stdout",
          "text": [
            "Model: \"sequential_6\"\n",
            "_________________________________________________________________\n",
            " Layer (type)                Output Shape              Param #   \n",
            "=================================================================\n",
            " embedding_6 (Embedding)     (None, 56, 260)           3019380   \n",
            "                                                                 \n",
            " spatial_dropout1d_6 (Spati  (None, 56, 260)           0         \n",
            " alDropout1D)                                                    \n",
            "                                                                 \n",
            " bidirectional_6 (Bidirecti  (None, 56, 128)           166400    \n",
            " onal)                                                           \n",
            "                                                                 \n",
            " global_max_pooling1d_6 (Gl  (None, 128)               0         \n",
            " obalMaxPooling1D)                                               \n",
            "                                                                 \n",
            " dense_12 (Dense)            (None, 64)                8256      \n",
            "                                                                 \n",
            " dropout_6 (Dropout)         (None, 64)                0         \n",
            "                                                                 \n",
            " dense_13 (Dense)            (None, 1)                 65        \n",
            "                                                                 \n",
            "=================================================================\n",
            "Total params: 3194101 (12.18 MB)\n",
            "Trainable params: 3194101 (12.18 MB)\n",
            "Non-trainable params: 0 (0.00 Byte)\n",
            "_________________________________________________________________\n"
          ]
        }
      ],
      "source": [
        "import matplotlib.pyplot as plt\n",
        "\n",
        "def show_model_summary(model):\n",
        "    \"\"\"\n",
        "    Display the summary of the model's architecture and parameters.\n",
        "\n",
        "    Args:\n",
        "        model (tf.keras.models.Sequential): Keras sequential model.\n",
        "\n",
        "    Returns:\n",
        "        None\n",
        "    \"\"\"\n",
        "    model.summary()\n",
        "\n",
        "def plot_graphs(history, metric):\n",
        "    plt.plot(history.history[metric])\n",
        "    plt.plot(history.history[f'val_{metric}'])\n",
        "    plt.xlabel(\"Epochs\")\n",
        "    plt.ylabel(metric)\n",
        "    plt.legend([metric, f'val_{metric}'])\n",
        "    plt.show()\n",
        "\n",
        "plot_graphs(history, \"accuracy\")\n",
        "plot_graphs(history, \"loss\")\n",
        "\n",
        "# Call the function with your model\n",
        "show_model_summary(model)"
      ]
    },
    {
      "cell_type": "code",
      "execution_count": 49,
      "metadata": {
        "colab": {
          "base_uri": "https://localhost:8080/"
        },
        "id": "x5vYj7T_wUew",
        "outputId": "ad22bdeb-3b3c-4b91-f738-3d3d05e60bb4"
      },
      "outputs": [
        {
          "output_type": "stream",
          "name": "stdout",
          "text": [
            "Drive already mounted at /content/drive; to attempt to forcibly remount, call drive.mount(\"/content/drive\", force_remount=True).\n",
            "Max Length: 56\n",
            "1/1 [==============================] - 0s 35ms/step\n",
            "Predicted Class: 1 (Confidence: 0.9548)\n"
          ]
        }
      ],
      "source": [
        "from google.colab import drive\n",
        "from keras.preprocessing.sequence import pad_sequences\n",
        "\n",
        "drive.mount('/content/drive')\n",
        "\n",
        "from keras.models import load_model\n",
        "\n",
        "# Load the best-performing model\n",
        "#model_path = '/content/drive/MyDrive/my_model.h5'\n",
        "#model = load_model(model_path)\n",
        "\n",
        "\n",
        "\n",
        "# Load the best weights from the checkpoint\n",
        "model.load_weights('best_model.h5')\n",
        "\n",
        "# Now, for prediction on new text:\n",
        "new_text = \"wah sangat luar biasa forum ini. mudah2an kena laknat kontol\"\n",
        "max_length = X_train_padded.shape[1]\n",
        "print(\"Max Length:\", max_length)\n",
        "\n",
        "# Tokenize and pad the new text\n",
        "new_sequence = tokenizer.texts_to_sequences([new_text])\n",
        "new_padded_sequence = pad_sequences(new_sequence, maxlen=X_train_padded.shape[1], padding='post')\n",
        "\n",
        "# Make predictions\n",
        "prediction = model.predict(new_padded_sequence)\n",
        "\n",
        "# Extract the scalar value from the NumPy array\n",
        "confidence = prediction[0, 0]\n",
        "\n",
        "# Threshold for considering a label as positive\n",
        "threshold = 0.5\n",
        "\n",
        "# Interpret prediction\n",
        "predicted_class = 1 if confidence >= threshold else 0\n",
        "\n",
        "# Convert confidence to a format that can be handled by format method\n",
        "confidence_str = '{:.4f}'.format(confidence)\n",
        "\n",
        "print(f\"Predicted Class: {predicted_class} (Confidence: {confidence_str})\")\n",
        "\n",
        "#multi text-classification\n",
        "# Interpret predictions for each label\n",
        "#labels = [\"labels_HS\", \"labels_Abusive\", \"labels_HS_Individual\", \"labels_HS_Group\",\n",
        "#          \"labels_HS_Religion\", \"labels_HS_Race\", \"labels_HS_Physical\", \"labels_HS_Gender\"]\n",
        "\n",
        "#for label, prediction in zip(labels, predictions[0]):\n",
        "#    predicted_class = 1 if prediction >= threshold else 0\n",
        "#    print(f\"{label}: {predicted_class} (Confidence: {prediction:.4f})\")\n",
        "\n",
        "\n",
        "\n"
      ]
    },
    {
      "cell_type": "code",
      "execution_count": 45,
      "metadata": {
        "colab": {
          "base_uri": "https://localhost:8080/",
          "height": 17
        },
        "id": "be660jk5wtwy",
        "outputId": "1db2c82d-f3c1-4013-b27f-dab20aaeac6d"
      },
      "outputs": [
        {
          "output_type": "display_data",
          "data": {
            "text/plain": [
              "<IPython.core.display.Javascript object>"
            ],
            "application/javascript": [
              "\n",
              "    async function download(id, filename, size) {\n",
              "      if (!google.colab.kernel.accessAllowed) {\n",
              "        return;\n",
              "      }\n",
              "      const div = document.createElement('div');\n",
              "      const label = document.createElement('label');\n",
              "      label.textContent = `Downloading \"${filename}\": `;\n",
              "      div.appendChild(label);\n",
              "      const progress = document.createElement('progress');\n",
              "      progress.max = size;\n",
              "      div.appendChild(progress);\n",
              "      document.body.appendChild(div);\n",
              "\n",
              "      const buffers = [];\n",
              "      let downloaded = 0;\n",
              "\n",
              "      const channel = await google.colab.kernel.comms.open(id);\n",
              "      // Send a message to notify the kernel that we're ready.\n",
              "      channel.send({})\n",
              "\n",
              "      for await (const message of channel.messages) {\n",
              "        // Send a message to notify the kernel that we're ready.\n",
              "        channel.send({})\n",
              "        if (message.buffers) {\n",
              "          for (const buffer of message.buffers) {\n",
              "            buffers.push(buffer);\n",
              "            downloaded += buffer.byteLength;\n",
              "            progress.value = downloaded;\n",
              "          }\n",
              "        }\n",
              "      }\n",
              "      const blob = new Blob(buffers, {type: 'application/binary'});\n",
              "      const a = document.createElement('a');\n",
              "      a.href = window.URL.createObjectURL(blob);\n",
              "      a.download = filename;\n",
              "      div.appendChild(a);\n",
              "      a.click();\n",
              "      div.remove();\n",
              "    }\n",
              "  "
            ]
          },
          "metadata": {}
        },
        {
          "output_type": "display_data",
          "data": {
            "text/plain": [
              "<IPython.core.display.Javascript object>"
            ],
            "application/javascript": [
              "download(\"download_61ab096b-9fa4-408c-ae8e-56e571cddd65\", \"best_model.h5\", 38387672)"
            ]
          },
          "metadata": {}
        }
      ],
      "source": [
        "from google.colab import files\n",
        "\n",
        "# Save the best model checkpoint to a file\n",
        "files.download('best_model.h5')"
      ]
    }
  ],
  "metadata": {
    "accelerator": "GPU",
    "colab": {
      "provenance": [],
      "authorship_tag": "ABX9TyPWZjaj2cAEbMZN7MAFvedX",
      "include_colab_link": true
    },
    "kernelspec": {
      "display_name": "Python 3",
      "name": "python3"
    },
    "language_info": {
      "name": "python"
    }
  },
  "nbformat": 4,
  "nbformat_minor": 0
}