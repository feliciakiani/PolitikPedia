{
  "nbformat": 4,
  "nbformat_minor": 0,
  "metadata": {
    "colab": {
      "provenance": [],
      "gpuType": "T4",
      "authorship_tag": "ABX9TyPBdnX/dWxFMkAV50eBNBcP",
      "include_colab_link": true
    },
    "kernelspec": {
      "name": "python3",
      "display_name": "Python 3"
    },
    "language_info": {
      "name": "python"
    },
    "accelerator": "GPU"
  },
  "cells": [
    {
      "cell_type": "markdown",
      "metadata": {
        "id": "view-in-github",
        "colab_type": "text"
      },
      "source": [
        "<a href=\"https://colab.research.google.com/github/feliciakiani/PolitikPedia/blob/main/Machine%20Learning/Text_classification_V2.ipynb\" target=\"_parent\"><img src=\"https://colab.research.google.com/assets/colab-badge.svg\" alt=\"Open In Colab\"/></a>"
      ]
    },
    {
      "cell_type": "code",
      "execution_count": null,
      "metadata": {
        "colab": {
          "base_uri": "https://localhost:8080/"
        },
        "id": "9kmSXrwXc76z",
        "outputId": "e7cf038d-b387-407f-fdbb-067c9acd9631"
      },
      "outputs": [
        {
          "output_type": "stream",
          "name": "stdout",
          "text": [
            "Requirement already satisfied: tensorflow in /usr/local/lib/python3.10/dist-packages (2.14.0)\n",
            "Requirement already satisfied: absl-py>=1.0.0 in /usr/local/lib/python3.10/dist-packages (from tensorflow) (1.4.0)\n",
            "Requirement already satisfied: astunparse>=1.6.0 in /usr/local/lib/python3.10/dist-packages (from tensorflow) (1.6.3)\n",
            "Requirement already satisfied: flatbuffers>=23.5.26 in /usr/local/lib/python3.10/dist-packages (from tensorflow) (23.5.26)\n",
            "Requirement already satisfied: gast!=0.5.0,!=0.5.1,!=0.5.2,>=0.2.1 in /usr/local/lib/python3.10/dist-packages (from tensorflow) (0.5.4)\n",
            "Requirement already satisfied: google-pasta>=0.1.1 in /usr/local/lib/python3.10/dist-packages (from tensorflow) (0.2.0)\n",
            "Requirement already satisfied: h5py>=2.9.0 in /usr/local/lib/python3.10/dist-packages (from tensorflow) (3.9.0)\n",
            "Requirement already satisfied: libclang>=13.0.0 in /usr/local/lib/python3.10/dist-packages (from tensorflow) (16.0.6)\n",
            "Requirement already satisfied: ml-dtypes==0.2.0 in /usr/local/lib/python3.10/dist-packages (from tensorflow) (0.2.0)\n",
            "Requirement already satisfied: numpy>=1.23.5 in /usr/local/lib/python3.10/dist-packages (from tensorflow) (1.23.5)\n",
            "Requirement already satisfied: opt-einsum>=2.3.2 in /usr/local/lib/python3.10/dist-packages (from tensorflow) (3.3.0)\n",
            "Requirement already satisfied: packaging in /usr/local/lib/python3.10/dist-packages (from tensorflow) (23.2)\n",
            "Requirement already satisfied: protobuf!=4.21.0,!=4.21.1,!=4.21.2,!=4.21.3,!=4.21.4,!=4.21.5,<5.0.0dev,>=3.20.3 in /usr/local/lib/python3.10/dist-packages (from tensorflow) (3.20.3)\n",
            "Requirement already satisfied: setuptools in /usr/local/lib/python3.10/dist-packages (from tensorflow) (67.7.2)\n",
            "Requirement already satisfied: six>=1.12.0 in /usr/local/lib/python3.10/dist-packages (from tensorflow) (1.16.0)\n",
            "Requirement already satisfied: termcolor>=1.1.0 in /usr/local/lib/python3.10/dist-packages (from tensorflow) (2.3.0)\n",
            "Requirement already satisfied: typing-extensions>=3.6.6 in /usr/local/lib/python3.10/dist-packages (from tensorflow) (4.5.0)\n",
            "Requirement already satisfied: wrapt<1.15,>=1.11.0 in /usr/local/lib/python3.10/dist-packages (from tensorflow) (1.14.1)\n",
            "Requirement already satisfied: tensorflow-io-gcs-filesystem>=0.23.1 in /usr/local/lib/python3.10/dist-packages (from tensorflow) (0.34.0)\n",
            "Requirement already satisfied: grpcio<2.0,>=1.24.3 in /usr/local/lib/python3.10/dist-packages (from tensorflow) (1.59.3)\n",
            "Requirement already satisfied: tensorboard<2.15,>=2.14 in /usr/local/lib/python3.10/dist-packages (from tensorflow) (2.14.1)\n",
            "Requirement already satisfied: tensorflow-estimator<2.15,>=2.14.0 in /usr/local/lib/python3.10/dist-packages (from tensorflow) (2.14.0)\n",
            "Requirement already satisfied: keras<2.15,>=2.14.0 in /usr/local/lib/python3.10/dist-packages (from tensorflow) (2.14.0)\n",
            "Requirement already satisfied: wheel<1.0,>=0.23.0 in /usr/local/lib/python3.10/dist-packages (from astunparse>=1.6.0->tensorflow) (0.42.0)\n",
            "Requirement already satisfied: google-auth<3,>=1.6.3 in /usr/local/lib/python3.10/dist-packages (from tensorboard<2.15,>=2.14->tensorflow) (2.17.3)\n",
            "Requirement already satisfied: google-auth-oauthlib<1.1,>=0.5 in /usr/local/lib/python3.10/dist-packages (from tensorboard<2.15,>=2.14->tensorflow) (1.0.0)\n",
            "Requirement already satisfied: markdown>=2.6.8 in /usr/local/lib/python3.10/dist-packages (from tensorboard<2.15,>=2.14->tensorflow) (3.5.1)\n",
            "Requirement already satisfied: requests<3,>=2.21.0 in /usr/local/lib/python3.10/dist-packages (from tensorboard<2.15,>=2.14->tensorflow) (2.31.0)\n",
            "Requirement already satisfied: tensorboard-data-server<0.8.0,>=0.7.0 in /usr/local/lib/python3.10/dist-packages (from tensorboard<2.15,>=2.14->tensorflow) (0.7.2)\n",
            "Requirement already satisfied: werkzeug>=1.0.1 in /usr/local/lib/python3.10/dist-packages (from tensorboard<2.15,>=2.14->tensorflow) (3.0.1)\n",
            "Requirement already satisfied: cachetools<6.0,>=2.0.0 in /usr/local/lib/python3.10/dist-packages (from google-auth<3,>=1.6.3->tensorboard<2.15,>=2.14->tensorflow) (5.3.2)\n",
            "Requirement already satisfied: pyasn1-modules>=0.2.1 in /usr/local/lib/python3.10/dist-packages (from google-auth<3,>=1.6.3->tensorboard<2.15,>=2.14->tensorflow) (0.3.0)\n",
            "Requirement already satisfied: rsa<5,>=3.1.4 in /usr/local/lib/python3.10/dist-packages (from google-auth<3,>=1.6.3->tensorboard<2.15,>=2.14->tensorflow) (4.9)\n",
            "Requirement already satisfied: requests-oauthlib>=0.7.0 in /usr/local/lib/python3.10/dist-packages (from google-auth-oauthlib<1.1,>=0.5->tensorboard<2.15,>=2.14->tensorflow) (1.3.1)\n",
            "Requirement already satisfied: charset-normalizer<4,>=2 in /usr/local/lib/python3.10/dist-packages (from requests<3,>=2.21.0->tensorboard<2.15,>=2.14->tensorflow) (3.3.2)\n",
            "Requirement already satisfied: idna<4,>=2.5 in /usr/local/lib/python3.10/dist-packages (from requests<3,>=2.21.0->tensorboard<2.15,>=2.14->tensorflow) (3.6)\n",
            "Requirement already satisfied: urllib3<3,>=1.21.1 in /usr/local/lib/python3.10/dist-packages (from requests<3,>=2.21.0->tensorboard<2.15,>=2.14->tensorflow) (2.0.7)\n",
            "Requirement already satisfied: certifi>=2017.4.17 in /usr/local/lib/python3.10/dist-packages (from requests<3,>=2.21.0->tensorboard<2.15,>=2.14->tensorflow) (2023.11.17)\n",
            "Requirement already satisfied: MarkupSafe>=2.1.1 in /usr/local/lib/python3.10/dist-packages (from werkzeug>=1.0.1->tensorboard<2.15,>=2.14->tensorflow) (2.1.3)\n",
            "Requirement already satisfied: pyasn1<0.6.0,>=0.4.6 in /usr/local/lib/python3.10/dist-packages (from pyasn1-modules>=0.2.1->google-auth<3,>=1.6.3->tensorboard<2.15,>=2.14->tensorflow) (0.5.1)\n",
            "Requirement already satisfied: oauthlib>=3.0.0 in /usr/local/lib/python3.10/dist-packages (from requests-oauthlib>=0.7.0->google-auth-oauthlib<1.1,>=0.5->tensorboard<2.15,>=2.14->tensorflow) (3.2.2)\n"
          ]
        }
      ],
      "source": [
        "import pandas as pd\n",
        "from sklearn.model_selection import train_test_split\n",
        "!pip install tensorflow"
      ]
    },
    {
      "cell_type": "code",
      "source": [
        "#import dataset\n",
        "from google.colab import files\n",
        "uploaded = files.upload()"
      ],
      "metadata": {
        "colab": {
          "base_uri": "https://localhost:8080/",
          "height": 73
        },
        "id": "Sc5XnE5OdpAY",
        "outputId": "8c67a943-f85c-488c-bb4b-fb44e1ab87df"
      },
      "execution_count": null,
      "outputs": [
        {
          "output_type": "display_data",
          "data": {
            "text/plain": [
              "<IPython.core.display.HTML object>"
            ],
            "text/html": [
              "\n",
              "     <input type=\"file\" id=\"files-b24aa81e-d8d6-4463-a943-94da4f18bcde\" name=\"files[]\" multiple disabled\n",
              "        style=\"border:none\" />\n",
              "     <output id=\"result-b24aa81e-d8d6-4463-a943-94da4f18bcde\">\n",
              "      Upload widget is only available when the cell has been executed in the\n",
              "      current browser session. Please rerun this cell to enable.\n",
              "      </output>\n",
              "      <script>// Copyright 2017 Google LLC\n",
              "//\n",
              "// Licensed under the Apache License, Version 2.0 (the \"License\");\n",
              "// you may not use this file except in compliance with the License.\n",
              "// You may obtain a copy of the License at\n",
              "//\n",
              "//      http://www.apache.org/licenses/LICENSE-2.0\n",
              "//\n",
              "// Unless required by applicable law or agreed to in writing, software\n",
              "// distributed under the License is distributed on an \"AS IS\" BASIS,\n",
              "// WITHOUT WARRANTIES OR CONDITIONS OF ANY KIND, either express or implied.\n",
              "// See the License for the specific language governing permissions and\n",
              "// limitations under the License.\n",
              "\n",
              "/**\n",
              " * @fileoverview Helpers for google.colab Python module.\n",
              " */\n",
              "(function(scope) {\n",
              "function span(text, styleAttributes = {}) {\n",
              "  const element = document.createElement('span');\n",
              "  element.textContent = text;\n",
              "  for (const key of Object.keys(styleAttributes)) {\n",
              "    element.style[key] = styleAttributes[key];\n",
              "  }\n",
              "  return element;\n",
              "}\n",
              "\n",
              "// Max number of bytes which will be uploaded at a time.\n",
              "const MAX_PAYLOAD_SIZE = 100 * 1024;\n",
              "\n",
              "function _uploadFiles(inputId, outputId) {\n",
              "  const steps = uploadFilesStep(inputId, outputId);\n",
              "  const outputElement = document.getElementById(outputId);\n",
              "  // Cache steps on the outputElement to make it available for the next call\n",
              "  // to uploadFilesContinue from Python.\n",
              "  outputElement.steps = steps;\n",
              "\n",
              "  return _uploadFilesContinue(outputId);\n",
              "}\n",
              "\n",
              "// This is roughly an async generator (not supported in the browser yet),\n",
              "// where there are multiple asynchronous steps and the Python side is going\n",
              "// to poll for completion of each step.\n",
              "// This uses a Promise to block the python side on completion of each step,\n",
              "// then passes the result of the previous step as the input to the next step.\n",
              "function _uploadFilesContinue(outputId) {\n",
              "  const outputElement = document.getElementById(outputId);\n",
              "  const steps = outputElement.steps;\n",
              "\n",
              "  const next = steps.next(outputElement.lastPromiseValue);\n",
              "  return Promise.resolve(next.value.promise).then((value) => {\n",
              "    // Cache the last promise value to make it available to the next\n",
              "    // step of the generator.\n",
              "    outputElement.lastPromiseValue = value;\n",
              "    return next.value.response;\n",
              "  });\n",
              "}\n",
              "\n",
              "/**\n",
              " * Generator function which is called between each async step of the upload\n",
              " * process.\n",
              " * @param {string} inputId Element ID of the input file picker element.\n",
              " * @param {string} outputId Element ID of the output display.\n",
              " * @return {!Iterable<!Object>} Iterable of next steps.\n",
              " */\n",
              "function* uploadFilesStep(inputId, outputId) {\n",
              "  const inputElement = document.getElementById(inputId);\n",
              "  inputElement.disabled = false;\n",
              "\n",
              "  const outputElement = document.getElementById(outputId);\n",
              "  outputElement.innerHTML = '';\n",
              "\n",
              "  const pickedPromise = new Promise((resolve) => {\n",
              "    inputElement.addEventListener('change', (e) => {\n",
              "      resolve(e.target.files);\n",
              "    });\n",
              "  });\n",
              "\n",
              "  const cancel = document.createElement('button');\n",
              "  inputElement.parentElement.appendChild(cancel);\n",
              "  cancel.textContent = 'Cancel upload';\n",
              "  const cancelPromise = new Promise((resolve) => {\n",
              "    cancel.onclick = () => {\n",
              "      resolve(null);\n",
              "    };\n",
              "  });\n",
              "\n",
              "  // Wait for the user to pick the files.\n",
              "  const files = yield {\n",
              "    promise: Promise.race([pickedPromise, cancelPromise]),\n",
              "    response: {\n",
              "      action: 'starting',\n",
              "    }\n",
              "  };\n",
              "\n",
              "  cancel.remove();\n",
              "\n",
              "  // Disable the input element since further picks are not allowed.\n",
              "  inputElement.disabled = true;\n",
              "\n",
              "  if (!files) {\n",
              "    return {\n",
              "      response: {\n",
              "        action: 'complete',\n",
              "      }\n",
              "    };\n",
              "  }\n",
              "\n",
              "  for (const file of files) {\n",
              "    const li = document.createElement('li');\n",
              "    li.append(span(file.name, {fontWeight: 'bold'}));\n",
              "    li.append(span(\n",
              "        `(${file.type || 'n/a'}) - ${file.size} bytes, ` +\n",
              "        `last modified: ${\n",
              "            file.lastModifiedDate ? file.lastModifiedDate.toLocaleDateString() :\n",
              "                                    'n/a'} - `));\n",
              "    const percent = span('0% done');\n",
              "    li.appendChild(percent);\n",
              "\n",
              "    outputElement.appendChild(li);\n",
              "\n",
              "    const fileDataPromise = new Promise((resolve) => {\n",
              "      const reader = new FileReader();\n",
              "      reader.onload = (e) => {\n",
              "        resolve(e.target.result);\n",
              "      };\n",
              "      reader.readAsArrayBuffer(file);\n",
              "    });\n",
              "    // Wait for the data to be ready.\n",
              "    let fileData = yield {\n",
              "      promise: fileDataPromise,\n",
              "      response: {\n",
              "        action: 'continue',\n",
              "      }\n",
              "    };\n",
              "\n",
              "    // Use a chunked sending to avoid message size limits. See b/62115660.\n",
              "    let position = 0;\n",
              "    do {\n",
              "      const length = Math.min(fileData.byteLength - position, MAX_PAYLOAD_SIZE);\n",
              "      const chunk = new Uint8Array(fileData, position, length);\n",
              "      position += length;\n",
              "\n",
              "      const base64 = btoa(String.fromCharCode.apply(null, chunk));\n",
              "      yield {\n",
              "        response: {\n",
              "          action: 'append',\n",
              "          file: file.name,\n",
              "          data: base64,\n",
              "        },\n",
              "      };\n",
              "\n",
              "      let percentDone = fileData.byteLength === 0 ?\n",
              "          100 :\n",
              "          Math.round((position / fileData.byteLength) * 100);\n",
              "      percent.textContent = `${percentDone}% done`;\n",
              "\n",
              "    } while (position < fileData.byteLength);\n",
              "  }\n",
              "\n",
              "  // All done.\n",
              "  yield {\n",
              "    response: {\n",
              "      action: 'complete',\n",
              "    }\n",
              "  };\n",
              "}\n",
              "\n",
              "scope.google = scope.google || {};\n",
              "scope.google.colab = scope.google.colab || {};\n",
              "scope.google.colab._files = {\n",
              "  _uploadFiles,\n",
              "  _uploadFilesContinue,\n",
              "};\n",
              "})(self);\n",
              "</script> "
            ]
          },
          "metadata": {}
        },
        {
          "output_type": "stream",
          "name": "stdout",
          "text": [
            "Saving preprocessed_indonesian_toxic_tweet.csv to preprocessed_indonesian_toxic_tweet.csv\n"
          ]
        }
      ]
    },
    {
      "cell_type": "code",
      "source": [
        "from google.colab import drive\n",
        "\n",
        "# Mount Google Drive\n",
        "drive.mount('/content/drive')\n",
        "\n",
        "#splitting data\n",
        "data = pd.read_csv('preprocessed_indonesian_toxic_tweet.csv')\n",
        "\n",
        "# Assuming the columns are named as per your specification\n",
        "columns = [\n",
        "    'tweet', 'label_HS', 'label_Abusive', 'label_HS_Individual', 'label_HS_Group',\n",
        "    'label_HS_Religion', 'label_HS_Race', 'label_HS_Physical', 'label_HS_Gender',\n",
        "    'label_HS_Other', 'label_HS_Weak', 'label_HS_Moderate', 'label_HS_Strong'\n",
        "]\n",
        "\n",
        "# Rename columns for clarity\n",
        "data.columns = columns\n",
        "\n",
        "# Assuming 'sentence' is the column containing preprocessed sentences\n",
        "X = data['tweet']\n",
        "\n",
        "# Assuming other columns are labels\n",
        "y = data.drop('tweet', axis=1)\n",
        "# Split the data into training and testing sets\n",
        "X_train, X_test, y_train, y_test = train_test_split(X, y, test_size=0.2, random_state=42)\n",
        "\n",
        "# Create new DataFrames for training and testing data\n",
        "train_data = pd.DataFrame({'text': X_train})\n",
        "train_data = pd.concat([train_data, y_train], axis=1)\n",
        "\n",
        "test_data = pd.DataFrame({'text': X_test})\n",
        "test_data = pd.concat([test_data, y_test], axis=1)\n",
        "\n",
        "# Save the training and testing DataFrames to CSV\n",
        "#train_data.to_csv('/content/drive/MyDrive/training_data.csv', index=False)\n",
        "#test_data.to_csv('/content/drive/MyDrive/test_data.csv', index=False)"
      ],
      "metadata": {
        "colab": {
          "base_uri": "https://localhost:8080/"
        },
        "id": "CPLRgqL8d36n",
        "outputId": "107cc284-e6aa-4a83-dff8-0c8483e4abe3"
      },
      "execution_count": null,
      "outputs": [
        {
          "output_type": "stream",
          "name": "stdout",
          "text": [
            "Mounted at /content/drive\n"
          ]
        }
      ]
    },
    {
      "cell_type": "code",
      "source": [
        "# Print information about the training and testing datasets\n",
        "print(\"\\nShape of the training dataset:\", train_data.shape)\n",
        "print(\"Shape of the testing dataset:\", test_data.shape)\n"
      ],
      "metadata": {
        "colab": {
          "base_uri": "https://localhost:8080/"
        },
        "id": "xR5N1mrFd4NA",
        "outputId": "e8f164ea-96b9-4f19-882e-710aa0b5bbd5"
      },
      "execution_count": null,
      "outputs": [
        {
          "output_type": "stream",
          "name": "stdout",
          "text": [
            "\n",
            "Shape of the training dataset: (10535, 13)\n",
            "Shape of the testing dataset: (2634, 13)\n"
          ]
        }
      ]
    },
    {
      "cell_type": "code",
      "source": [
        "print(train_data.head(15))"
      ],
      "metadata": {
        "colab": {
          "base_uri": "https://localhost:8080/"
        },
        "id": "dQ-lgpFSfyFx",
        "outputId": "a0206929-de71-4a3b-d9cc-bf2001a437b9"
      },
      "execution_count": null,
      "outputs": [
        {
          "output_type": "stream",
          "name": "stdout",
          "text": [
            "                                                    text  label_HS  \\\n",
            "12017  xf0 x9f x93 x8c himmler rupa pimpin divisi scr...         0   \n",
            "3315                                           iya anjir         0   \n",
            "6454   teman kelas cakap imut sombong banget teman or...         0   \n",
            "12776  bicara orientasi studi kenal kampus orientasi ...         0   \n",
            "9055                                         bajing line         0   \n",
            "7700            kenal menge i orang bajing sepe hati asa         0   \n",
            "12976  acara back to kampus fakultas ilmu budaya univ...         0   \n",
            "3                                ku tau mata sipit lihat         0   \n",
            "5527           otoriter label pulang pulang tinggal nama         1   \n",
            "7180                             sepe i lihat punuk onta         0   \n",
            "6092   asing bajing surat pemberitahuan ahok bese a k...         1   \n",
            "10762  biar panas alias babi kaaaaau wkwk canda mamah...         0   \n",
            "4341   guncang dengar ulama zaman usaha hindar orang ...         0   \n",
            "3693   main pos ronda harap teman obrol bocah main mo...         1   \n",
            "8074   pt antam pinjam bank badan usaha milik negara ...         0   \n",
            "\n",
            "       label_Abusive  label_HS_Individual  label_HS_Group  label_HS_Religion  \\\n",
            "12017              0                    0               0                  0   \n",
            "3315               1                    0               0                  0   \n",
            "6454               0                    0               0                  0   \n",
            "12776              0                    0               0                  0   \n",
            "9055               1                    0               0                  0   \n",
            "7700               1                    0               0                  0   \n",
            "12976              0                    0               0                  0   \n",
            "3                  0                    0               0                  0   \n",
            "5527               0                    1               0                  0   \n",
            "7180               0                    0               0                  0   \n",
            "6092               1                    0               1                  0   \n",
            "10762              1                    0               0                  0   \n",
            "4341               0                    0               0                  0   \n",
            "3693               1                    1               0                  0   \n",
            "8074               0                    0               0                  0   \n",
            "\n",
            "       label_HS_Race  label_HS_Physical  label_HS_Gender  label_HS_Other  \\\n",
            "12017              0                  0                0               0   \n",
            "3315               0                  0                0               0   \n",
            "6454               0                  0                0               0   \n",
            "12776              0                  0                0               0   \n",
            "9055               0                  0                0               0   \n",
            "7700               0                  0                0               0   \n",
            "12976              0                  0                0               0   \n",
            "3                  0                  0                0               0   \n",
            "5527               0                  0                0               1   \n",
            "7180               0                  0                0               0   \n",
            "6092               1                  0                0               0   \n",
            "10762              0                  0                0               0   \n",
            "4341               0                  0                0               0   \n",
            "3693               0                  0                0               1   \n",
            "8074               0                  0                0               0   \n",
            "\n",
            "       label_HS_Weak  label_HS_Moderate  label_HS_Strong  \n",
            "12017              0                  0                0  \n",
            "3315               0                  0                0  \n",
            "6454               0                  0                0  \n",
            "12776              0                  0                0  \n",
            "9055               0                  0                0  \n",
            "7700               0                  0                0  \n",
            "12976              0                  0                0  \n",
            "3                  0                  0                0  \n",
            "5527               1                  0                0  \n",
            "7180               0                  0                0  \n",
            "6092               0                  1                0  \n",
            "10762              0                  0                0  \n",
            "4341               0                  0                0  \n",
            "3693               1                  0                0  \n",
            "8074               0                  0                0  \n"
          ]
        }
      ]
    },
    {
      "cell_type": "code",
      "source": [
        "#optional if u want to download the data\n",
        "from google.colab import files\n",
        "\n",
        "# Assuming the paths to the training and testing CSV files\n",
        "training_data_path = '/content/drive/MyDrive/training_data.csv'\n",
        "test_data_path = '/content/drive/MyDrive/test_data.csv'\n",
        "\n",
        "# Download the training dataset\n",
        "files.download(training_data_path)\n",
        "\n",
        "# Download the testing dataset\n",
        "files.download(test_data_path)\n"
      ],
      "metadata": {
        "id": "QAJQnzhcg87f"
      },
      "execution_count": null,
      "outputs": []
    },
    {
      "cell_type": "code",
      "source": [
        "import csv\n",
        "\n",
        "def parse_data_from_file(file_path):\n",
        "    sentences = []\n",
        "    labels_HS = []\n",
        "    labels_Abusive = []\n",
        "    labels_HS_Individual = []\n",
        "    labels_HS_Group = []\n",
        "    labels_HS_Religion = []\n",
        "    labels_HS_Race = []\n",
        "    labels_HS_Physical = []\n",
        "    labels_HS_Gender = []\n",
        "    labels_HS_Other = []\n",
        "    labels_HS_Weak = []\n",
        "    labels_HS_Moderate = []\n",
        "    labels_HS_Strong = []\n",
        "\n",
        "    with open(file_path, 'r', encoding='utf-8') as csvfile:\n",
        "        reader = csv.reader(csvfile)\n",
        "        next(reader, None)  # Skip the header\n",
        "\n",
        "        for row in reader:\n",
        "            sentence = row[0]\n",
        "            label_HS = int(row[1])\n",
        "            label_Abusive = int(row[2])\n",
        "            label_HS_Individual = int(row[3])\n",
        "            label_HS_Group = int(row[4])\n",
        "            label_HS_Religion = int(row[5])\n",
        "            label_HS_Race = int(row[6])\n",
        "            label_HS_Physical = int(row[7])\n",
        "            label_HS_Gender = int(row[8])\n",
        "            label_HS_Other = int(row[9])\n",
        "            label_HS_Weak = int(row[10])\n",
        "            label_HS_Moderate = int(row[11])\n",
        "            label_HS_Strong = int(row[12])\n",
        "\n",
        "            # Append data to respective lists\n",
        "            sentences.append(sentence)\n",
        "            labels_HS.append(label_HS)\n",
        "            labels_Abusive.append(label_Abusive)\n",
        "            labels_HS_Individual.append(label_HS_Individual)\n",
        "            labels_HS_Group.append(label_HS_Group)\n",
        "            labels_HS_Religion.append(label_HS_Religion)\n",
        "            labels_HS_Race.append(label_HS_Race)\n",
        "            labels_HS_Physical.append(label_HS_Physical)\n",
        "            labels_HS_Gender.append(label_HS_Gender)\n",
        "            labels_HS_Other.append(label_HS_Other)\n",
        "            labels_HS_Weak.append(label_HS_Weak)\n",
        "            labels_HS_Moderate.append(label_HS_Moderate)\n",
        "            labels_HS_Strong.append(label_HS_Strong)\n",
        "\n",
        "    return (sentences, labels_HS, labels_Abusive, labels_HS_Individual, labels_HS_Group,\n",
        "            labels_HS_Religion, labels_HS_Race, labels_HS_Physical, labels_HS_Gender,\n",
        "            labels_HS_Other, labels_HS_Weak, labels_HS_Moderate, labels_HS_Strong)\n"
      ],
      "metadata": {
        "id": "6WayGvDkigbn"
      },
      "execution_count": null,
      "outputs": []
    },
    {
      "cell_type": "code",
      "source": [
        "#Training data\n",
        "sentences, labels_HS, labels_Abusive, labels_HS_Individual, labels_HS_Group, labels_HS_Religion, labels_HS_Race, labels_HS_Physical, labels_HS_Gender, labels_HS_Other, labels_HS_Weak, labels_HS_Moderate, labels_HS_Strong = parse_data_from_file('/content/drive/MyDrive/training_data.csv')\n",
        "\n",
        "#test data\n",
        "test_sentences, test_labels_HS, test_labels_Abusive, test_labels_HS_Individual, test_labels_HS_Group,test_labels_HS_Religion, test_labels_HS_Race, test_labels_HS_Physical, test_labels_HS_Gender, test_labels_HS_Other, test_labels_HS_Weak, test_labels_HS_Moderate, test_labels_HS_Strong = parse_data_from_file('/content/drive/MyDrive/test_data.csv')"
      ],
      "metadata": {
        "id": "VV8wUJh4jQQ_"
      },
      "execution_count": null,
      "outputs": []
    },
    {
      "cell_type": "markdown",
      "source": [],
      "metadata": {
        "id": "gPBRhMOYlS8m"
      }
    },
    {
      "cell_type": "markdown",
      "source": [
        "This is a small model that predict only labels_hs"
      ],
      "metadata": {
        "id": "6rtTRaw3ju1A"
      }
    },
    {
      "cell_type": "code",
      "source": [
        "from sklearn.feature_extraction.text import CountVectorizer\n",
        "from sklearn.linear_model import LogisticRegression\n",
        "from sklearn.metrics import classification_report, accuracy_score\n",
        "\n",
        "# Step 1: Vectorize the text data\n",
        "vectorizer = CountVectorizer()\n",
        "X_train_vectorized = vectorizer.fit_transform(sentences)\n",
        "X_test_vectorized = vectorizer.transform(test_sentences)\n",
        "\n",
        "# Step 2: Choose and train the classification model\n",
        "model = LogisticRegression()\n",
        "model.fit(X_train_vectorized, labels_HS)  # Assuming you're training for 'labels_HS'\n",
        "\n",
        "# Step 3: Make predictions on the test data\n",
        "predictions = model.predict(X_test_vectorized)\n",
        "\n",
        "# Step 4: Evaluate the model\n",
        "accuracy = accuracy_score(test_labels_HS, predictions)\n",
        "report = classification_report(test_labels_HS, predictions)\n",
        "\n",
        "# Print the evaluation results\n",
        "print(\"Accuracy:\", accuracy)\n",
        "print(\"Classification Report:\\n\", report)\n"
      ],
      "metadata": {
        "colab": {
          "base_uri": "https://localhost:8080/"
        },
        "id": "EcXrD5GSk1cA",
        "outputId": "4560468d-58f3-402c-a452-882ddf5376b1"
      },
      "execution_count": null,
      "outputs": [
        {
          "output_type": "stream",
          "name": "stdout",
          "text": [
            "Accuracy: 0.8356112376613516\n",
            "Classification Report:\n",
            "               precision    recall  f1-score   support\n",
            "\n",
            "           0       0.84      0.89      0.86      1516\n",
            "           1       0.83      0.77      0.80      1118\n",
            "\n",
            "    accuracy                           0.84      2634\n",
            "   macro avg       0.84      0.83      0.83      2634\n",
            "weighted avg       0.84      0.84      0.83      2634\n",
            "\n"
          ]
        },
        {
          "output_type": "stream",
          "name": "stderr",
          "text": [
            "/usr/local/lib/python3.10/dist-packages/sklearn/linear_model/_logistic.py:458: ConvergenceWarning: lbfgs failed to converge (status=1):\n",
            "STOP: TOTAL NO. of ITERATIONS REACHED LIMIT.\n",
            "\n",
            "Increase the number of iterations (max_iter) or scale the data as shown in:\n",
            "    https://scikit-learn.org/stable/modules/preprocessing.html\n",
            "Please also refer to the documentation for alternative solver options:\n",
            "    https://scikit-learn.org/stable/modules/linear_model.html#logistic-regression\n",
            "  n_iter_i = _check_optimize_result(\n"
          ]
        }
      ]
    },
    {
      "cell_type": "markdown",
      "source": [
        "training using deep learning method 12 labels failed\n"
      ],
      "metadata": {
        "id": "IOlCx8QsmsXv"
      }
    },
    {
      "cell_type": "code",
      "source": [
        "import numpy as np\n",
        "import tensorflow as tf\n",
        "from tensorflow.keras.models import Sequential\n",
        "from tensorflow.keras.layers import Embedding, Bidirectional, LSTM, Dense, Dropout, SpatialDropout1D\n",
        "from tensorflow.keras.optimizers import Adam\n",
        "\n",
        "# Convert labels to numpy arrays\n",
        "y_train = np.array([labels_HS, labels_Abusive, labels_HS_Individual, labels_HS_Group,\n",
        "                    labels_HS_Religion, labels_HS_Race, labels_HS_Physical, labels_HS_Gender,\n",
        "                    labels_HS_Other, labels_HS_Weak, labels_HS_Moderate, labels_HS_Strong])\n",
        "\n",
        "y_test = np.array([test_labels_HS, test_labels_Abusive, test_labels_HS_Individual, test_labels_HS_Group,\n",
        "                   test_labels_HS_Religion, test_labels_HS_Race, test_labels_HS_Physical, test_labels_HS_Gender,\n",
        "                   test_labels_HS_Other, test_labels_HS_Weak, test_labels_HS_Moderate, test_labels_HS_Strong])\n",
        "\n",
        "# Tokenize the sentences\n",
        "tokenizer = tf.keras.preprocessing.text.Tokenizer()\n",
        "tokenizer.fit_on_texts(sentences)\n",
        "\n",
        "X_train = tokenizer.texts_to_sequences(sentences)\n",
        "X_test = tokenizer.texts_to_sequences(test_sentences)\n",
        "\n",
        "# Pad sequences to ensure consistent length\n",
        "X_train_padded = tf.keras.preprocessing.sequence.pad_sequences(X_train, padding='post')\n",
        "X_test_padded = tf.keras.preprocessing.sequence.pad_sequences(X_test, padding='post')"
      ],
      "metadata": {
        "id": "jRpi4RnQn8lw"
      },
      "execution_count": null,
      "outputs": []
    },
    {
      "cell_type": "code",
      "source": [
        "# Define the model\n",
        "model = Sequential()\n",
        "model.add(Embedding(input_dim=len(tokenizer.word_index) + 1, output_dim=128, input_length=X_train_padded.shape[1]))\n",
        "model.add(SpatialDropout1D(0.5))\n",
        "model.add(Bidirectional(LSTM(128, return_sequences=True)))\n",
        "model.add(SpatialDropout1D(0.5))\n",
        "model.add(Bidirectional(LSTM(64)))\n",
        "model.add(Dense(128, activation='relu'))\n",
        "model.add(Dropout(0.5))\n",
        "model.add(Dense(64, activation='relu'))\n",
        "model.add(Dense(12, activation='sigmoid'))  # 12 is the number of output labels\n",
        "\n",
        "# Compile the model with a lower learning rate\n",
        "model.compile(optimizer=Adam(learning_rate=0.0001), loss='binary_crossentropy', metrics=['accuracy'])\n",
        "\n",
        "# Train the model\n",
        "model.fit(X_train_padded, y_train.T, epochs=30, batch_size=64, validation_split=0.2)\n",
        "\n",
        "# Evaluate the model on the test set\n",
        "loss, accuracy = model.evaluate(X_test_padded, y_test.T)\n",
        "print(f'Test Accuracy: {accuracy * 100:.2f}%')"
      ],
      "metadata": {
        "colab": {
          "base_uri": "https://localhost:8080/"
        },
        "id": "5_-gN4-nlZx4",
        "outputId": "bd8b7efd-e241-4135-f18e-52dda7f5b7b2"
      },
      "execution_count": null,
      "outputs": [
        {
          "output_type": "stream",
          "name": "stdout",
          "text": [
            "Epoch 1/30\n",
            "132/132 [==============================] - 26s 133ms/step - loss: 0.5501 - accuracy: 0.2792 - val_loss: 0.4093 - val_accuracy: 0.8723\n",
            "Epoch 2/30\n",
            "132/132 [==============================] - 8s 62ms/step - loss: 0.4199 - accuracy: 0.4280 - val_loss: 0.4016 - val_accuracy: 0.8723\n",
            "Epoch 3/30\n",
            "132/132 [==============================] - 5s 39ms/step - loss: 0.4085 - accuracy: 0.4776 - val_loss: 0.4008 - val_accuracy: 0.8723\n",
            "Epoch 4/30\n",
            "132/132 [==============================] - 6s 44ms/step - loss: 0.4039 - accuracy: 0.5276 - val_loss: 0.3986 - val_accuracy: 0.8723\n",
            "Epoch 5/30\n",
            "132/132 [==============================] - 5s 36ms/step - loss: 0.4007 - accuracy: 0.5631 - val_loss: 0.3943 - val_accuracy: 0.6260\n",
            "Epoch 6/30\n",
            "132/132 [==============================] - 4s 30ms/step - loss: 0.3900 - accuracy: 0.5742 - val_loss: 0.3768 - val_accuracy: 0.6118\n",
            "Epoch 7/30\n",
            "132/132 [==============================] - 4s 30ms/step - loss: 0.3565 - accuracy: 0.5841 - val_loss: 0.3432 - val_accuracy: 0.7257\n",
            "Epoch 8/30\n",
            "132/132 [==============================] - 5s 40ms/step - loss: 0.3164 - accuracy: 0.5553 - val_loss: 0.3249 - val_accuracy: 0.7959\n",
            "Epoch 9/30\n",
            "132/132 [==============================] - 4s 28ms/step - loss: 0.2974 - accuracy: 0.5357 - val_loss: 0.3140 - val_accuracy: 0.5301\n",
            "Epoch 10/30\n",
            "132/132 [==============================] - 4s 29ms/step - loss: 0.2819 - accuracy: 0.5131 - val_loss: 0.3109 - val_accuracy: 0.4879\n",
            "Epoch 11/30\n",
            "132/132 [==============================] - 4s 32ms/step - loss: 0.2664 - accuracy: 0.5036 - val_loss: 0.3002 - val_accuracy: 0.5093\n",
            "Epoch 12/30\n",
            "132/132 [==============================] - 5s 35ms/step - loss: 0.2536 - accuracy: 0.5113 - val_loss: 0.2992 - val_accuracy: 0.4713\n",
            "Epoch 13/30\n",
            "132/132 [==============================] - 3s 26ms/step - loss: 0.2424 - accuracy: 0.5195 - val_loss: 0.3003 - val_accuracy: 0.5225\n",
            "Epoch 14/30\n",
            "132/132 [==============================] - 4s 29ms/step - loss: 0.2323 - accuracy: 0.5301 - val_loss: 0.3043 - val_accuracy: 0.5078\n",
            "Epoch 15/30\n",
            "132/132 [==============================] - 5s 37ms/step - loss: 0.2242 - accuracy: 0.5314 - val_loss: 0.3002 - val_accuracy: 0.4922\n",
            "Epoch 16/30\n",
            "132/132 [==============================] - 4s 34ms/step - loss: 0.2181 - accuracy: 0.5324 - val_loss: 0.3152 - val_accuracy: 0.5206\n",
            "Epoch 17/30\n",
            "132/132 [==============================] - 3s 25ms/step - loss: 0.2136 - accuracy: 0.5408 - val_loss: 0.3104 - val_accuracy: 0.4974\n",
            "Epoch 18/30\n",
            "132/132 [==============================] - 4s 27ms/step - loss: 0.2077 - accuracy: 0.5380 - val_loss: 0.3105 - val_accuracy: 0.5259\n",
            "Epoch 19/30\n",
            "132/132 [==============================] - 4s 33ms/step - loss: 0.2041 - accuracy: 0.5409 - val_loss: 0.3167 - val_accuracy: 0.5187\n",
            "Epoch 20/30\n",
            "132/132 [==============================] - 5s 34ms/step - loss: 0.2005 - accuracy: 0.5444 - val_loss: 0.3143 - val_accuracy: 0.5050\n",
            "Epoch 21/30\n",
            "132/132 [==============================] - 4s 27ms/step - loss: 0.1941 - accuracy: 0.5517 - val_loss: 0.3280 - val_accuracy: 0.5045\n",
            "Epoch 22/30\n",
            "132/132 [==============================] - 3s 26ms/step - loss: 0.1919 - accuracy: 0.5435 - val_loss: 0.3195 - val_accuracy: 0.5330\n",
            "Epoch 23/30\n",
            "132/132 [==============================] - 4s 31ms/step - loss: 0.1860 - accuracy: 0.5572 - val_loss: 0.3302 - val_accuracy: 0.5278\n",
            "Epoch 24/30\n",
            "132/132 [==============================] - 4s 32ms/step - loss: 0.1824 - accuracy: 0.5587 - val_loss: 0.3332 - val_accuracy: 0.5467\n",
            "Epoch 25/30\n",
            "132/132 [==============================] - 3s 25ms/step - loss: 0.1815 - accuracy: 0.5472 - val_loss: 0.3352 - val_accuracy: 0.5325\n",
            "Epoch 26/30\n",
            "132/132 [==============================] - 3s 25ms/step - loss: 0.1778 - accuracy: 0.5438 - val_loss: 0.3652 - val_accuracy: 0.4979\n",
            "Epoch 27/30\n",
            "132/132 [==============================] - 4s 30ms/step - loss: 0.1765 - accuracy: 0.5412 - val_loss: 0.3494 - val_accuracy: 0.4950\n",
            "Epoch 28/30\n",
            "132/132 [==============================] - 4s 34ms/step - loss: 0.1728 - accuracy: 0.5432 - val_loss: 0.3485 - val_accuracy: 0.5150\n",
            "Epoch 29/30\n",
            "132/132 [==============================] - 3s 26ms/step - loss: 0.1715 - accuracy: 0.5494 - val_loss: 0.3558 - val_accuracy: 0.5045\n",
            "Epoch 30/30\n",
            "132/132 [==============================] - 3s 25ms/step - loss: 0.1692 - accuracy: 0.5406 - val_loss: 0.3680 - val_accuracy: 0.5107\n",
            "83/83 [==============================] - 3s 8ms/step - loss: 0.3665 - accuracy: 0.5137\n",
            "Test Accuracy: 51.37%\n"
          ]
        }
      ]
    },
    {
      "cell_type": "markdown",
      "source": [
        "8 labels :"
      ],
      "metadata": {
        "id": "h0bWmdlPq8ko"
      }
    },
    {
      "cell_type": "code",
      "source": [
        "import numpy as np\n",
        "import tensorflow as tf\n",
        "# Convert labels to numpy arrays\n",
        "y_train = np.array([labels_HS, labels_Abusive, labels_HS_Individual, labels_HS_Group,\n",
        "                    labels_HS_Religion, labels_HS_Race, labels_HS_Physical, labels_HS_Gender])\n",
        "\n",
        "y_test = np.array([test_labels_HS, test_labels_Abusive, test_labels_HS_Individual, test_labels_HS_Group,\n",
        "                   test_labels_HS_Religion, test_labels_HS_Race, test_labels_HS_Physical, test_labels_HS_Gender])\n",
        "\n",
        "# Tokenize the sentences\n",
        "tokenizer = tf.keras.preprocessing.text.Tokenizer()\n",
        "tokenizer.fit_on_texts(sentences)\n",
        "\n",
        "X_train = tokenizer.texts_to_sequences(sentences)\n",
        "X_test = tokenizer.texts_to_sequences(test_sentences)\n",
        "\n",
        "# Pad sequences to ensure consistent length\n",
        "X_train_padded = tf.keras.preprocessing.sequence.pad_sequences(X_train, padding='post')\n",
        "X_test_padded = tf.keras.preprocessing.sequence.pad_sequences(X_test, padding='post')"
      ],
      "metadata": {
        "id": "mKxYZ5g8q-Xv"
      },
      "execution_count": null,
      "outputs": []
    },
    {
      "cell_type": "markdown",
      "source": [
        "Version 1 test accuracy 87%"
      ],
      "metadata": {
        "id": "tM9VZqaMEJkQ"
      }
    },
    {
      "cell_type": "code",
      "source": [
        "import numpy as np\n",
        "import tensorflow as tf\n",
        "from tensorflow.keras.models import Sequential\n",
        "from tensorflow.keras.layers import Embedding, Bidirectional, LSTM, Dense, Dropout, SpatialDropout1D\n",
        "from tensorflow.keras.optimizers import Adam\n",
        "from tensorflow.keras.callbacks import ModelCheckpoint, EarlyStopping\n",
        "\n",
        "# Define callbacks\n",
        "model_checkpoint = ModelCheckpoint('best_model.h5', save_best_only=True, save_weights_only=False, monitor='val_loss', mode='min', verbose=1)\n",
        "early_stopping = EarlyStopping(monitor='val_loss', patience=5, mode='min', restore_best_weights=True, verbose=1)\n",
        "\n",
        "# Define a more complex model\n",
        "model = Sequential()\n",
        "model.add(Embedding(input_dim=len(tokenizer.word_index) + 1, output_dim=256, input_length=X_train_padded.shape[1]))\n",
        "model.add(SpatialDropout1D(0.6))\n",
        "model.add(Bidirectional(LSTM(128, return_sequences=True)))\n",
        "model.add(SpatialDropout1D(0.6))\n",
        "model.add(Bidirectional(LSTM(64)))\n",
        "model.add(Dense(128, activation='relu'))\n",
        "model.add(Dropout(0.6))\n",
        "model.add(Dense(64, activation='relu'))\n",
        "model.add(Dense(8, activation='sigmoid'))\n",
        "\n",
        "# Compile the model with an adjusted learning rate\n",
        "model.compile(optimizer=Adam(learning_rate=0.00001), loss='binary_crossentropy', metrics=['accuracy'])\n",
        "\n",
        "# Train the model with callbacks\n",
        "history = model.fit(X_train_padded, y_train.T, epochs=30, batch_size=128, validation_split=0.2, callbacks=[model_checkpoint, early_stopping])\n",
        "\n",
        "# Load the best weights from the checkpoint\n",
        "model.load_weights('best_model.h5')\n",
        "\n",
        "# Evaluate the model on the test set\n",
        "loss, accuracy = model.evaluate(X_test_padded, y_test.T)\n",
        "print(f'Test Accuracy: {accuracy * 100:.2f}%')"
      ],
      "metadata": {
        "colab": {
          "base_uri": "https://localhost:8080/"
        },
        "id": "oWoKpM-1q_5o",
        "outputId": "b0233873-54ff-413c-9568-01585056e084"
      },
      "execution_count": null,
      "outputs": [
        {
          "output_type": "stream",
          "name": "stdout",
          "text": [
            "Epoch 1/30\n",
            "66/66 [==============================] - ETA: 0s - loss: 0.6896 - accuracy: 0.1178\n",
            "Epoch 1: val_loss improved from inf to 0.68793, saving model to best_model.h5\n",
            "66/66 [==============================] - 27s 173ms/step - loss: 0.6896 - accuracy: 0.1178 - val_loss: 0.6879 - val_accuracy: 0.1149\n",
            "Epoch 2/30\n",
            " 1/66 [..............................] - ETA: 2s - loss: 0.6867 - accuracy: 0.0938"
          ]
        },
        {
          "output_type": "stream",
          "name": "stderr",
          "text": [
            "/usr/local/lib/python3.10/dist-packages/keras/src/engine/training.py:3079: UserWarning: You are saving your model as an HDF5 file via `model.save()`. This file format is considered legacy. We recommend using instead the native Keras format, e.g. `model.save('my_model.keras')`.\n",
            "  saving_api.save_model(\n"
          ]
        },
        {
          "output_type": "stream",
          "name": "stdout",
          "text": [
            "66/66 [==============================] - ETA: 0s - loss: 0.6820 - accuracy: 0.1175\n",
            "Epoch 2: val_loss improved from 0.68793 to 0.67785, saving model to best_model.h5\n",
            "66/66 [==============================] - 6s 85ms/step - loss: 0.6820 - accuracy: 0.1175 - val_loss: 0.6779 - val_accuracy: 0.1277\n",
            "Epoch 3/30\n",
            "66/66 [==============================] - ETA: 0s - loss: 0.6677 - accuracy: 0.1168\n",
            "Epoch 3: val_loss improved from 0.67785 to 0.65614, saving model to best_model.h5\n",
            "66/66 [==============================] - 7s 102ms/step - loss: 0.6677 - accuracy: 0.1168 - val_loss: 0.6561 - val_accuracy: 0.1277\n",
            "Epoch 4/30\n",
            "66/66 [==============================] - ETA: 0s - loss: 0.6355 - accuracy: 0.1232\n",
            "Epoch 4: val_loss improved from 0.65614 to 0.60304, saving model to best_model.h5\n",
            "66/66 [==============================] - 5s 71ms/step - loss: 0.6355 - accuracy: 0.1232 - val_loss: 0.6030 - val_accuracy: 0.1277\n",
            "Epoch 5/30\n",
            "66/66 [==============================] - ETA: 0s - loss: 0.5680 - accuracy: 0.1323\n",
            "Epoch 5: val_loss improved from 0.60304 to 0.50270, saving model to best_model.h5\n",
            "66/66 [==============================] - 4s 58ms/step - loss: 0.5680 - accuracy: 0.1323 - val_loss: 0.5027 - val_accuracy: 0.1277\n",
            "Epoch 6/30\n",
            "65/66 [============================>.] - ETA: 0s - loss: 0.4959 - accuracy: 0.1530\n",
            "Epoch 6: val_loss improved from 0.50270 to 0.43008, saving model to best_model.h5\n",
            "66/66 [==============================] - 4s 54ms/step - loss: 0.4954 - accuracy: 0.1534 - val_loss: 0.4301 - val_accuracy: 0.1277\n",
            "Epoch 7/30\n",
            "66/66 [==============================] - ETA: 0s - loss: 0.4552 - accuracy: 0.2023\n",
            "Epoch 7: val_loss improved from 0.43008 to 0.40311, saving model to best_model.h5\n",
            "66/66 [==============================] - 3s 52ms/step - loss: 0.4552 - accuracy: 0.2023 - val_loss: 0.4031 - val_accuracy: 0.1277\n",
            "Epoch 8/30\n",
            "66/66 [==============================] - ETA: 0s - loss: 0.4372 - accuracy: 0.2648\n",
            "Epoch 8: val_loss improved from 0.40311 to 0.39320, saving model to best_model.h5\n",
            "66/66 [==============================] - 4s 62ms/step - loss: 0.4372 - accuracy: 0.2648 - val_loss: 0.3932 - val_accuracy: 0.8723\n",
            "Epoch 9/30\n",
            "65/66 [============================>.] - ETA: 0s - loss: 0.4239 - accuracy: 0.3052\n",
            "Epoch 9: val_loss improved from 0.39320 to 0.38900, saving model to best_model.h5\n",
            "66/66 [==============================] - 3s 48ms/step - loss: 0.4239 - accuracy: 0.3055 - val_loss: 0.3890 - val_accuracy: 0.8723\n",
            "Epoch 10/30\n",
            "65/66 [============================>.] - ETA: 0s - loss: 0.4189 - accuracy: 0.3507\n",
            "Epoch 10: val_loss improved from 0.38900 to 0.38726, saving model to best_model.h5\n",
            "66/66 [==============================] - 3s 46ms/step - loss: 0.4187 - accuracy: 0.3500 - val_loss: 0.3873 - val_accuracy: 0.8723\n",
            "Epoch 11/30\n",
            "65/66 [============================>.] - ETA: 0s - loss: 0.4140 - accuracy: 0.3832\n",
            "Epoch 11: val_loss improved from 0.38726 to 0.38629, saving model to best_model.h5\n",
            "66/66 [==============================] - 3s 47ms/step - loss: 0.4140 - accuracy: 0.3823 - val_loss: 0.3863 - val_accuracy: 0.8723\n",
            "Epoch 12/30\n",
            "66/66 [==============================] - ETA: 0s - loss: 0.4119 - accuracy: 0.3894\n",
            "Epoch 12: val_loss improved from 0.38629 to 0.38595, saving model to best_model.h5\n",
            "66/66 [==============================] - 3s 51ms/step - loss: 0.4119 - accuracy: 0.3894 - val_loss: 0.3859 - val_accuracy: 0.8723\n",
            "Epoch 13/30\n",
            "66/66 [==============================] - ETA: 0s - loss: 0.4087 - accuracy: 0.4250\n",
            "Epoch 13: val_loss improved from 0.38595 to 0.38549, saving model to best_model.h5\n",
            "66/66 [==============================] - 3s 45ms/step - loss: 0.4087 - accuracy: 0.4250 - val_loss: 0.3855 - val_accuracy: 0.8723\n",
            "Epoch 14/30\n",
            "66/66 [==============================] - ETA: 0s - loss: 0.4092 - accuracy: 0.4287\n",
            "Epoch 14: val_loss improved from 0.38549 to 0.38511, saving model to best_model.h5\n",
            "66/66 [==============================] - 3s 42ms/step - loss: 0.4092 - accuracy: 0.4287 - val_loss: 0.3851 - val_accuracy: 0.8723\n",
            "Epoch 15/30\n",
            "65/66 [============================>.] - ETA: 0s - loss: 0.4051 - accuracy: 0.4254\n",
            "Epoch 15: val_loss improved from 0.38511 to 0.38473, saving model to best_model.h5\n",
            "66/66 [==============================] - 3s 43ms/step - loss: 0.4055 - accuracy: 0.4249 - val_loss: 0.3847 - val_accuracy: 0.8723\n",
            "Epoch 16/30\n",
            "66/66 [==============================] - ETA: 0s - loss: 0.4066 - accuracy: 0.4343\n",
            "Epoch 16: val_loss improved from 0.38473 to 0.38446, saving model to best_model.h5\n",
            "66/66 [==============================] - 3s 44ms/step - loss: 0.4066 - accuracy: 0.4343 - val_loss: 0.3845 - val_accuracy: 0.8723\n",
            "Epoch 17/30\n",
            "66/66 [==============================] - ETA: 0s - loss: 0.4023 - accuracy: 0.4454\n",
            "Epoch 17: val_loss improved from 0.38446 to 0.38431, saving model to best_model.h5\n",
            "66/66 [==============================] - 3s 50ms/step - loss: 0.4023 - accuracy: 0.4454 - val_loss: 0.3843 - val_accuracy: 0.8723\n",
            "Epoch 18/30\n",
            "66/66 [==============================] - ETA: 0s - loss: 0.4021 - accuracy: 0.4452\n",
            "Epoch 18: val_loss improved from 0.38431 to 0.38385, saving model to best_model.h5\n",
            "66/66 [==============================] - 4s 61ms/step - loss: 0.4021 - accuracy: 0.4452 - val_loss: 0.3838 - val_accuracy: 0.8723\n",
            "Epoch 19/30\n",
            "65/66 [============================>.] - ETA: 0s - loss: 0.4012 - accuracy: 0.4498\n",
            "Epoch 19: val_loss improved from 0.38385 to 0.38367, saving model to best_model.h5\n",
            "66/66 [==============================] - 3s 41ms/step - loss: 0.4017 - accuracy: 0.4503 - val_loss: 0.3837 - val_accuracy: 0.8723\n",
            "Epoch 20/30\n",
            "65/66 [============================>.] - ETA: 0s - loss: 0.4018 - accuracy: 0.4590\n",
            "Epoch 20: val_loss improved from 0.38367 to 0.38330, saving model to best_model.h5\n",
            "66/66 [==============================] - 3s 43ms/step - loss: 0.4012 - accuracy: 0.4592 - val_loss: 0.3833 - val_accuracy: 0.8723\n",
            "Epoch 21/30\n",
            "66/66 [==============================] - ETA: 0s - loss: 0.3997 - accuracy: 0.4557\n",
            "Epoch 21: val_loss improved from 0.38330 to 0.38310, saving model to best_model.h5\n",
            "66/66 [==============================] - 3s 46ms/step - loss: 0.3997 - accuracy: 0.4557 - val_loss: 0.3831 - val_accuracy: 0.8723\n",
            "Epoch 22/30\n",
            "65/66 [============================>.] - ETA: 0s - loss: 0.3987 - accuracy: 0.4570\n",
            "Epoch 22: val_loss improved from 0.38310 to 0.38292, saving model to best_model.h5\n",
            "66/66 [==============================] - 3s 44ms/step - loss: 0.3992 - accuracy: 0.4568 - val_loss: 0.3829 - val_accuracy: 0.8723\n",
            "Epoch 23/30\n",
            "66/66 [==============================] - ETA: 0s - loss: 0.3985 - accuracy: 0.4613\n",
            "Epoch 23: val_loss improved from 0.38292 to 0.38261, saving model to best_model.h5\n",
            "66/66 [==============================] - 3s 51ms/step - loss: 0.3985 - accuracy: 0.4613 - val_loss: 0.3826 - val_accuracy: 0.8723\n",
            "Epoch 24/30\n",
            "66/66 [==============================] - ETA: 0s - loss: 0.3978 - accuracy: 0.4807\n",
            "Epoch 24: val_loss improved from 0.38261 to 0.38231, saving model to best_model.h5\n",
            "66/66 [==============================] - 3s 45ms/step - loss: 0.3978 - accuracy: 0.4807 - val_loss: 0.3823 - val_accuracy: 0.8723\n",
            "Epoch 25/30\n",
            "66/66 [==============================] - ETA: 0s - loss: 0.3969 - accuracy: 0.4715\n",
            "Epoch 25: val_loss improved from 0.38231 to 0.38214, saving model to best_model.h5\n",
            "66/66 [==============================] - 3s 43ms/step - loss: 0.3969 - accuracy: 0.4715 - val_loss: 0.3821 - val_accuracy: 0.8723\n",
            "Epoch 26/30\n",
            "65/66 [============================>.] - ETA: 0s - loss: 0.3961 - accuracy: 0.4784\n",
            "Epoch 26: val_loss improved from 0.38214 to 0.38185, saving model to best_model.h5\n",
            "66/66 [==============================] - 3s 41ms/step - loss: 0.3963 - accuracy: 0.4779 - val_loss: 0.3819 - val_accuracy: 0.8723\n",
            "Epoch 27/30\n",
            "65/66 [============================>.] - ETA: 0s - loss: 0.3957 - accuracy: 0.4888\n",
            "Epoch 27: val_loss improved from 0.38185 to 0.38168, saving model to best_model.h5\n",
            "66/66 [==============================] - 3s 41ms/step - loss: 0.3953 - accuracy: 0.4884 - val_loss: 0.3817 - val_accuracy: 0.8723\n",
            "Epoch 28/30\n",
            "66/66 [==============================] - ETA: 0s - loss: 0.3962 - accuracy: 0.4864\n",
            "Epoch 28: val_loss improved from 0.38168 to 0.38161, saving model to best_model.h5\n",
            "66/66 [==============================] - 3s 52ms/step - loss: 0.3962 - accuracy: 0.4864 - val_loss: 0.3816 - val_accuracy: 0.8723\n",
            "Epoch 29/30\n",
            "66/66 [==============================] - ETA: 0s - loss: 0.3941 - accuracy: 0.4832\n",
            "Epoch 29: val_loss improved from 0.38161 to 0.38154, saving model to best_model.h5\n",
            "66/66 [==============================] - 3s 47ms/step - loss: 0.3941 - accuracy: 0.4832 - val_loss: 0.3815 - val_accuracy: 0.8723\n",
            "Epoch 30/30\n",
            "66/66 [==============================] - ETA: 0s - loss: 0.3941 - accuracy: 0.4894\n",
            "Epoch 30: val_loss improved from 0.38154 to 0.38140, saving model to best_model.h5\n",
            "66/66 [==============================] - 3s 43ms/step - loss: 0.3941 - accuracy: 0.4894 - val_loss: 0.3814 - val_accuracy: 0.8723\n",
            "83/83 [==============================] - 2s 6ms/step - loss: 0.3746 - accuracy: 0.8705\n",
            "Test Accuracy: 87.05%\n"
          ]
        }
      ]
    },
    {
      "cell_type": "markdown",
      "source": [
        "Version 2 coba2"
      ],
      "metadata": {
        "id": "jLvLQENkEPbP"
      }
    },
    {
      "cell_type": "code",
      "source": [
        "import numpy as np\n",
        "import tensorflow as tf\n",
        "from tensorflow.keras.models import Sequential\n",
        "from tensorflow.keras.layers import Embedding, Bidirectional, LSTM, Dense, Dropout, SpatialDropout1D\n",
        "from tensorflow.keras.optimizers import Adam\n",
        "from tensorflow.keras.callbacks import ModelCheckpoint, EarlyStopping\n",
        "\n",
        "# Define callbacks\n",
        "model_checkpoint = ModelCheckpoint('best_model.h5', save_best_only=True, save_weights_only=False, monitor='val_loss', mode='min', verbose=1)\n",
        "early_stopping = EarlyStopping(monitor='val_loss', patience=5, mode='min', restore_best_weights=True, verbose=1)\n",
        "\n",
        "# Define a more complex model\n",
        "model = Sequential()\n",
        "model.add(Embedding(input_dim=len(tokenizer.word_index) + 1, output_dim=256, input_length=X_train_padded.shape[1]))\n",
        "model.add(SpatialDropout1D(0.7))\n",
        "model.add(Bidirectional(LSTM(128, return_sequences=True)))\n",
        "model.add(SpatialDropout1D(0.6))\n",
        "model.add(Bidirectional(LSTM(64)))\n",
        "model.add(Dense(128, activation='relu'))\n",
        "model.add(Dropout(0.7))\n",
        "model.add(Dense(64, activation='relu'))\n",
        "model.add(Dense(8, activation='sigmoid'))\n",
        "\n",
        "# Compile the model with an adjusted learning rate\n",
        "model.compile(optimizer=Adam(learning_rate=0.0003), loss='binary_crossentropy', metrics=['accuracy'])\n",
        "\n",
        "# Train the model with callbacks\n",
        "history = model.fit(X_train_padded, y_train.T, epochs=30, batch_size=64, validation_split=0.2, callbacks=[model_checkpoint, early_stopping])\n",
        "\n",
        "# Load the best weights from the checkpoint\n",
        "model.load_weights('best_model.h5')\n",
        "\n",
        "# Evaluate the model on the test set\n",
        "loss, accuracy = model.evaluate(X_test_padded, y_test.T)\n",
        "print(f'Test Accuracy: {accuracy * 100:.2f}%')"
      ],
      "metadata": {
        "colab": {
          "base_uri": "https://localhost:8080/"
        },
        "id": "dnYAZBvCEPO3",
        "outputId": "d1462c3f-2bad-47f3-81ad-633d6cd6add8"
      },
      "execution_count": null,
      "outputs": [
        {
          "output_type": "stream",
          "name": "stdout",
          "text": [
            "Epoch 1/30\n",
            "132/132 [==============================] - ETA: 0s - loss: 0.4624 - accuracy: 0.4586\n",
            "Epoch 1: val_loss improved from inf to 0.38016, saving model to best_model.h5\n",
            "132/132 [==============================] - 26s 122ms/step - loss: 0.4624 - accuracy: 0.4586 - val_loss: 0.3802 - val_accuracy: 0.8723\n",
            "Epoch 2/30\n",
            "132/132 [==============================] - ETA: 0s - loss: 0.3904 - accuracy: 0.5284\n",
            "Epoch 2: val_loss improved from 0.38016 to 0.37698, saving model to best_model.h5\n",
            "132/132 [==============================] - 6s 48ms/step - loss: 0.3904 - accuracy: 0.5284 - val_loss: 0.3770 - val_accuracy: 0.5700\n",
            "Epoch 3/30\n",
            "132/132 [==============================] - ETA: 0s - loss: 0.3677 - accuracy: 0.5929\n",
            "Epoch 3: val_loss improved from 0.37698 to 0.33904, saving model to best_model.h5\n",
            "132/132 [==============================] - 7s 57ms/step - loss: 0.3677 - accuracy: 0.5929 - val_loss: 0.3390 - val_accuracy: 0.6991\n",
            "Epoch 4/30\n",
            "132/132 [==============================] - ETA: 0s - loss: 0.3143 - accuracy: 0.5696\n",
            "Epoch 4: val_loss improved from 0.33904 to 0.29452, saving model to best_model.h5\n",
            "132/132 [==============================] - 5s 35ms/step - loss: 0.3143 - accuracy: 0.5696 - val_loss: 0.2945 - val_accuracy: 0.7000\n",
            "Epoch 5/30\n",
            "132/132 [==============================] - ETA: 0s - loss: 0.2747 - accuracy: 0.5713\n",
            "Epoch 5: val_loss improved from 0.29452 to 0.27015, saving model to best_model.h5\n",
            "132/132 [==============================] - 5s 37ms/step - loss: 0.2747 - accuracy: 0.5713 - val_loss: 0.2702 - val_accuracy: 0.7375\n",
            "Epoch 6/30\n",
            "132/132 [==============================] - ETA: 0s - loss: 0.2484 - accuracy: 0.5647\n",
            "Epoch 6: val_loss improved from 0.27015 to 0.26328, saving model to best_model.h5\n",
            "132/132 [==============================] - 5s 41ms/step - loss: 0.2484 - accuracy: 0.5647 - val_loss: 0.2633 - val_accuracy: 0.7133\n",
            "Epoch 7/30\n",
            "132/132 [==============================] - ETA: 0s - loss: 0.2298 - accuracy: 0.5933\n",
            "Epoch 7: val_loss improved from 0.26328 to 0.25941, saving model to best_model.h5\n",
            "132/132 [==============================] - 4s 33ms/step - loss: 0.2298 - accuracy: 0.5933 - val_loss: 0.2594 - val_accuracy: 0.7992\n",
            "Epoch 8/30\n",
            "130/132 [============================>.] - ETA: 0s - loss: 0.2157 - accuracy: 0.5910\n",
            "Epoch 8: val_loss did not improve from 0.25941\n",
            "132/132 [==============================] - 4s 30ms/step - loss: 0.2159 - accuracy: 0.5907 - val_loss: 0.2605 - val_accuracy: 0.7769\n",
            "Epoch 9/30\n",
            "132/132 [==============================] - ETA: 0s - loss: 0.2047 - accuracy: 0.6043\n",
            "Epoch 9: val_loss did not improve from 0.25941\n",
            "132/132 [==============================] - 5s 38ms/step - loss: 0.2047 - accuracy: 0.6043 - val_loss: 0.2755 - val_accuracy: 0.7556\n",
            "Epoch 10/30\n",
            "132/132 [==============================] - ETA: 0s - loss: 0.1966 - accuracy: 0.6216\n",
            "Epoch 10: val_loss improved from 0.25941 to 0.25858, saving model to best_model.h5\n",
            "132/132 [==============================] - 4s 31ms/step - loss: 0.1966 - accuracy: 0.6216 - val_loss: 0.2586 - val_accuracy: 0.8030\n",
            "Epoch 11/30\n",
            "131/132 [============================>.] - ETA: 0s - loss: 0.1889 - accuracy: 0.6198\n",
            "Epoch 11: val_loss did not improve from 0.25858\n",
            "132/132 [==============================] - 4s 30ms/step - loss: 0.1887 - accuracy: 0.6189 - val_loss: 0.2640 - val_accuracy: 0.7997\n",
            "Epoch 12/30\n",
            "132/132 [==============================] - ETA: 0s - loss: 0.1787 - accuracy: 0.6112\n",
            "Epoch 12: val_loss did not improve from 0.25858\n",
            "132/132 [==============================] - 4s 32ms/step - loss: 0.1787 - accuracy: 0.6112 - val_loss: 0.2623 - val_accuracy: 0.7684\n",
            "Epoch 13/30\n",
            "132/132 [==============================] - ETA: 0s - loss: 0.1717 - accuracy: 0.5861\n",
            "Epoch 13: val_loss did not improve from 0.25858\n",
            "132/132 [==============================] - 5s 40ms/step - loss: 0.1717 - accuracy: 0.5861 - val_loss: 0.2606 - val_accuracy: 0.7466\n",
            "Epoch 14/30\n",
            "130/132 [============================>.] - ETA: 0s - loss: 0.1639 - accuracy: 0.5838\n",
            "Epoch 14: val_loss did not improve from 0.25858\n",
            "132/132 [==============================] - 3s 26ms/step - loss: 0.1647 - accuracy: 0.5834 - val_loss: 0.2719 - val_accuracy: 0.7708\n",
            "Epoch 15/30\n",
            "132/132 [==============================] - ETA: 0s - loss: 0.1582 - accuracy: 0.5954\n",
            "Epoch 15: val_loss did not improve from 0.25858\n",
            "Restoring model weights from the end of the best epoch: 10.\n",
            "132/132 [==============================] - 4s 28ms/step - loss: 0.1582 - accuracy: 0.5954 - val_loss: 0.2793 - val_accuracy: 0.8083\n",
            "Epoch 15: early stopping\n",
            "83/83 [==============================] - 2s 6ms/step - loss: 0.2602 - accuracy: 0.7916\n",
            "Test Accuracy: 79.16%\n"
          ]
        }
      ]
    },
    {
      "cell_type": "markdown",
      "source": [],
      "metadata": {
        "id": "LqGpxRdRq_Vw"
      }
    },
    {
      "cell_type": "code",
      "source": [
        "import matplotlib.pyplot as plt\n",
        "\n",
        "def show_model_summary(model):\n",
        "    \"\"\"\n",
        "    Display the summary of the model's architecture and parameters.\n",
        "\n",
        "    Args:\n",
        "        model (tf.keras.models.Sequential): Keras sequential model.\n",
        "\n",
        "    Returns:\n",
        "        None\n",
        "    \"\"\"\n",
        "    model.summary()\n",
        "\n",
        "def plot_graphs(history, metric):\n",
        "    plt.plot(history.history[metric])\n",
        "    plt.plot(history.history[f'val_{metric}'])\n",
        "    plt.xlabel(\"Epochs\")\n",
        "    plt.ylabel(metric)\n",
        "    plt.legend([metric, f'val_{metric}'])\n",
        "    plt.show()\n",
        "\n",
        "plot_graphs(history, \"accuracy\")\n",
        "plot_graphs(history, \"loss\")\n",
        "\n",
        "# Call the function with your model\n",
        "show_model_summary(model)"
      ],
      "metadata": {
        "colab": {
          "base_uri": "https://localhost:8080/",
          "height": 1000
        },
        "id": "61mL4TwcvA-x",
        "outputId": "b9de0232-734c-4d3b-fe90-8a21377e4553"
      },
      "execution_count": null,
      "outputs": [
        {
          "output_type": "display_data",
          "data": {
            "text/plain": [
              "<Figure size 640x480 with 1 Axes>"
            ],
            "image/png": "[encoded data removed]"
          },
          "metadata": {}
        },
        {
          "output_type": "display_data",
          "data": {
            "text/plain": [
              "<Figure size 640x480 with 1 Axes>"
            ],
            "image/png": "[encoded data removed]"
          },
          "metadata": {}
        },
        {
          "output_type": "stream",
          "name": "stdout",
          "text": [
            "Model: \"sequential\"\n",
            "_________________________________________________________________\n",
            " Layer (type)                Output Shape              Param #   \n",
            "=================================================================\n",
            " embedding (Embedding)       (None, 106, 256)          3019520   \n",
            "                                                                 \n",
            " spatial_dropout1d (Spatial  (None, 106, 256)          0         \n",
            " Dropout1D)                                                      \n",
            "                                                                 \n",
            " bidirectional (Bidirection  (None, 106, 256)          394240    \n",
            " al)                                                             \n",
            "                                                                 \n",
            " spatial_dropout1d_1 (Spati  (None, 106, 256)          0         \n",
            " alDropout1D)                                                    \n",
            "                                                                 \n",
            " bidirectional_1 (Bidirecti  (None, 128)               164352    \n",
            " onal)                                                           \n",
            "                                                                 \n",
            " dense (Dense)               (None, 128)               16512     \n",
            "                                                                 \n",
            " dropout (Dropout)           (None, 128)               0         \n",
            "                                                                 \n",
            " dense_1 (Dense)             (None, 64)                8256      \n",
            "                                                                 \n",
            " dense_2 (Dense)             (None, 8)                 520       \n",
            "                                                                 \n",
            "=================================================================\n",
            "Total params: 3603400 (13.75 MB)\n",
            "Trainable params: 3603400 (13.75 MB)\n",
            "Non-trainable params: 0 (0.00 Byte)\n",
            "_________________________________________________________________\n"
          ]
        }
      ]
    },
    {
      "cell_type": "code",
      "source": [
        "# Assuming you have already loaded and preprocessed your test data and model as mentioned before\n",
        "training_labels_multi = np.column_stack((labels_HS, labels_Abusive, labels_HS_Individual, labels_HS_Group, labels_HS_Religion, labels_HS_Race, labels_HS_Physical, labels_HS_Gender))\n",
        "testing_labels_multi = np.column_stack((test_labels_HS, test_labels_Abusive, test_labels_HS_Individual, test_labels_HS_Group,test_labels_HS_Religion, test_labels_HS_Race, test_labels_HS_Physical, test_labels_HS_Gender))\n",
        "\n",
        "# Assuming you have already loaded and preprocessed your test data and model as mentioned before\n",
        "\n",
        "# Make predictions\n",
        "predictions = model.predict(X_test_padded)\n",
        "\n",
        "# Convert the predictions to class labels (multi-label classification)\n",
        "threshold = 0.5\n",
        "predicted_labels_multi = (predictions > threshold).astype(int)\n",
        "\n",
        "# Display the first 5 samples\n",
        "for i in range(5):\n",
        "    print(f\"\\nSample {i + 1}\")\n",
        "    print(f\"Sentence: {test_sentences[i]}\")\n",
        "    print(f\"Actual Labels: {testing_labels_multi[i]}\")\n",
        "    print(f\"Predicted Probabilities: {predictions[i]}\")\n",
        "    print(f\"Predicted Labels: {predicted_labels_multi[i]}\")\n",
        "\n",
        "# You can also compare them element-wise\n",
        "for i in range(5):\n",
        "    print(f\"\\nComparison for Sample {i + 1}\")\n",
        "    print(f\"Sentence: {test_sentences[i]}\")\n",
        "    print(f\"Actual Labels: {testing_labels_multi[i]}\")\n",
        "    print(f\"Predicted Labels: {predicted_labels_multi[i]}\")\n",
        "    print(f\"Correct Predictions: {np.array_equal(testing_labels_multi[i], predicted_labels_multi[i])}\")\n",
        "\n"
      ],
      "metadata": {
        "colab": {
          "base_uri": "https://localhost:8080/",
          "height": 650
        },
        "id": "x5vYj7T_wUew",
        "outputId": "356873cd-6c23-4c11-df0f-bb3fa613ec6f"
      },
      "execution_count": null,
      "outputs": [
        {
          "output_type": "error",
          "ename": "ValueError",
          "evalue": "ignored",
          "traceback": [
            "\u001b[0;31m---------------------------------------------------------------------------\u001b[0m",
            "\u001b[0;31mValueError\u001b[0m                                Traceback (most recent call last)",
            "\u001b[0;32m<ipython-input-14-4a867e473059>\u001b[0m in \u001b[0;36m<cell line: 8>\u001b[0;34m()\u001b[0m\n\u001b[1;32m      6\u001b[0m \u001b[0;34m\u001b[0m\u001b[0m\n\u001b[1;32m      7\u001b[0m \u001b[0;31m# Make predictions\u001b[0m\u001b[0;34m\u001b[0m\u001b[0;34m\u001b[0m\u001b[0m\n\u001b[0;32m----> 8\u001b[0;31m \u001b[0mpredictions\u001b[0m \u001b[0;34m=\u001b[0m \u001b[0mmodel\u001b[0m\u001b[0;34m.\u001b[0m\u001b[0mpredict\u001b[0m\u001b[0;34m(\u001b[0m\u001b[0mX_test_padded\u001b[0m\u001b[0;34m)\u001b[0m\u001b[0;34m\u001b[0m\u001b[0;34m\u001b[0m\u001b[0m\n\u001b[0m\u001b[1;32m      9\u001b[0m \u001b[0;34m\u001b[0m\u001b[0m\n\u001b[1;32m     10\u001b[0m \u001b[0;31m# Convert the predictions to class labels (multi-label classification)\u001b[0m\u001b[0;34m\u001b[0m\u001b[0;34m\u001b[0m\u001b[0m\n",
            "\u001b[0;32m/usr/local/lib/python3.10/dist-packages/keras/src/utils/traceback_utils.py\u001b[0m in \u001b[0;36merror_handler\u001b[0;34m(*args, **kwargs)\u001b[0m\n\u001b[1;32m     68\u001b[0m             \u001b[0;31m# To get the full stack trace, call:\u001b[0m\u001b[0;34m\u001b[0m\u001b[0;34m\u001b[0m\u001b[0m\n\u001b[1;32m     69\u001b[0m             \u001b[0;31m# `tf.debugging.disable_traceback_filtering()`\u001b[0m\u001b[0;34m\u001b[0m\u001b[0;34m\u001b[0m\u001b[0m\n\u001b[0;32m---> 70\u001b[0;31m             \u001b[0;32mraise\u001b[0m \u001b[0me\u001b[0m\u001b[0;34m.\u001b[0m\u001b[0mwith_traceback\u001b[0m\u001b[0;34m(\u001b[0m\u001b[0mfiltered_tb\u001b[0m\u001b[0;34m)\u001b[0m \u001b[0;32mfrom\u001b[0m \u001b[0;32mNone\u001b[0m\u001b[0;34m\u001b[0m\u001b[0;34m\u001b[0m\u001b[0m\n\u001b[0m\u001b[1;32m     71\u001b[0m         \u001b[0;32mfinally\u001b[0m\u001b[0;34m:\u001b[0m\u001b[0;34m\u001b[0m\u001b[0;34m\u001b[0m\u001b[0m\n\u001b[1;32m     72\u001b[0m             \u001b[0;32mdel\u001b[0m \u001b[0mfiltered_tb\u001b[0m\u001b[0;34m\u001b[0m\u001b[0;34m\u001b[0m\u001b[0m\n",
            "\u001b[0;32m/usr/local/lib/python3.10/dist-packages/keras/src/engine/training.py\u001b[0m in \u001b[0;36mtf__predict_function\u001b[0;34m(iterator)\u001b[0m\n\u001b[1;32m     13\u001b[0m                 \u001b[0;32mtry\u001b[0m\u001b[0;34m:\u001b[0m\u001b[0;34m\u001b[0m\u001b[0;34m\u001b[0m\u001b[0m\n\u001b[1;32m     14\u001b[0m                     \u001b[0mdo_return\u001b[0m \u001b[0;34m=\u001b[0m \u001b[0;32mTrue\u001b[0m\u001b[0;34m\u001b[0m\u001b[0;34m\u001b[0m\u001b[0m\n\u001b[0;32m---> 15\u001b[0;31m                     \u001b[0mretval_\u001b[0m \u001b[0;34m=\u001b[0m \u001b[0mag__\u001b[0m\u001b[0;34m.\u001b[0m\u001b[0mconverted_call\u001b[0m\u001b[0;34m(\u001b[0m\u001b[0mag__\u001b[0m\u001b[0;34m.\u001b[0m\u001b[0mld\u001b[0m\u001b[0;34m(\u001b[0m\u001b[0mstep_function\u001b[0m\u001b[0;34m)\u001b[0m\u001b[0;34m,\u001b[0m \u001b[0;34m(\u001b[0m\u001b[0mag__\u001b[0m\u001b[0;34m.\u001b[0m\u001b[0mld\u001b[0m\u001b[0;34m(\u001b[0m\u001b[0mself\u001b[0m\u001b[0;34m)\u001b[0m\u001b[0;34m,\u001b[0m \u001b[0mag__\u001b[0m\u001b[0;34m.\u001b[0m\u001b[0mld\u001b[0m\u001b[0;34m(\u001b[0m\u001b[0miterator\u001b[0m\u001b[0;34m)\u001b[0m\u001b[0;34m)\u001b[0m\u001b[0;34m,\u001b[0m \u001b[0;32mNone\u001b[0m\u001b[0;34m,\u001b[0m \u001b[0mfscope\u001b[0m\u001b[0;34m)\u001b[0m\u001b[0;34m\u001b[0m\u001b[0;34m\u001b[0m\u001b[0m\n\u001b[0m\u001b[1;32m     16\u001b[0m                 \u001b[0;32mexcept\u001b[0m\u001b[0;34m:\u001b[0m\u001b[0;34m\u001b[0m\u001b[0;34m\u001b[0m\u001b[0m\n\u001b[1;32m     17\u001b[0m                     \u001b[0mdo_return\u001b[0m \u001b[0;34m=\u001b[0m \u001b[0;32mFalse\u001b[0m\u001b[0;34m\u001b[0m\u001b[0;34m\u001b[0m\u001b[0m\n",
            "\u001b[0;31mValueError\u001b[0m: in user code:\n\n    File \"/usr/local/lib/python3.10/dist-packages/keras/src/engine/training.py\", line 2416, in predict_function  *\n        return step_function(self, iterator)\n    File \"/usr/local/lib/python3.10/dist-packages/keras/src/engine/training.py\", line 2401, in step_function  **\n        outputs = model.distribute_strategy.run(run_step, args=(data,))\n    File \"/usr/local/lib/python3.10/dist-packages/keras/src/engine/training.py\", line 2389, in run_step  **\n        outputs = model.predict_step(data)\n    File \"/usr/local/lib/python3.10/dist-packages/keras/src/engine/training.py\", line 2357, in predict_step\n        return self(x, training=False)\n    File \"/usr/local/lib/python3.10/dist-packages/keras/src/utils/traceback_utils.py\", line 70, in error_handler\n        raise e.with_traceback(filtered_tb) from None\n    File \"/usr/local/lib/python3.10/dist-packages/keras/src/engine/input_spec.py\", line 298, in assert_input_compatibility\n        raise ValueError(\n\n    ValueError: Input 0 of layer \"sequential\" is incompatible with the layer: expected shape=(None, 106), found shape=(None, 49)\n"
          ]
        }
      ]
    },
    {
      "cell_type": "code",
      "source": [
        "model.save('my_model.h5')\n",
        "\n",
        "from google.colab import files\n",
        "\n",
        "files.download('my_model.h5')"
      ],
      "metadata": {
        "colab": {
          "base_uri": "https://localhost:8080/",
          "height": 17
        },
        "id": "be660jk5wtwy",
        "outputId": "634f5560-e3b6-4df6-e23a-50c114ea7631"
      },
      "execution_count": null,
      "outputs": [
        {
          "output_type": "display_data",
          "data": {
            "text/plain": [
              "<IPython.core.display.Javascript object>"
            ],
            "application/javascript": [
              "\n",
              "    async function download(id, filename, size) {\n",
              "      if (!google.colab.kernel.accessAllowed) {\n",
              "        return;\n",
              "      }\n",
              "      const div = document.createElement('div');\n",
              "      const label = document.createElement('label');\n",
              "      label.textContent = `Downloading \"${filename}\": `;\n",
              "      div.appendChild(label);\n",
              "      const progress = document.createElement('progress');\n",
              "      progress.max = size;\n",
              "      div.appendChild(progress);\n",
              "      document.body.appendChild(div);\n",
              "\n",
              "      const buffers = [];\n",
              "      let downloaded = 0;\n",
              "\n",
              "      const channel = await google.colab.kernel.comms.open(id);\n",
              "      // Send a message to notify the kernel that we're ready.\n",
              "      channel.send({})\n",
              "\n",
              "      for await (const message of channel.messages) {\n",
              "        // Send a message to notify the kernel that we're ready.\n",
              "        channel.send({})\n",
              "        if (message.buffers) {\n",
              "          for (const buffer of message.buffers) {\n",
              "            buffers.push(buffer);\n",
              "            downloaded += buffer.byteLength;\n",
              "            progress.value = downloaded;\n",
              "          }\n",
              "        }\n",
              "      }\n",
              "      const blob = new Blob(buffers, {type: 'application/binary'});\n",
              "      const a = document.createElement('a');\n",
              "      a.href = window.URL.createObjectURL(blob);\n",
              "      a.download = filename;\n",
              "      div.appendChild(a);\n",
              "      a.click();\n",
              "      div.remove();\n",
              "    }\n",
              "  "
            ]
          },
          "metadata": {}
        },
        {
          "output_type": "display_data",
          "data": {
            "text/plain": [
              "<IPython.core.display.Javascript object>"
            ],
            "application/javascript": [
              "download(\"download_cdfef62e-a9e9-45e1-8fe3-ed08280247ee\", \"my_model.h5\", 43333464)"
            ]
          },
          "metadata": {}
        }
      ]
    }
  ]
}