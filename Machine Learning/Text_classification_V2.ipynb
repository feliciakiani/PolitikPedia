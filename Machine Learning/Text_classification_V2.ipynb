{
  "cells": [
    {
      "cell_type": "markdown",
      "metadata": {
        "id": "view-in-github",
        "colab_type": "text"
      },
      "source": [
        "<a href=\"https://colab.research.google.com/github/feliciakiani/PolitikPedia/blob/main/Machine%20Learning/Text_classification_V2.ipynb\" target=\"_parent\"><img src=\"https://colab.research.google.com/assets/colab-badge.svg\" alt=\"Open In Colab\"/></a>"
      ]
    },
    {
      "cell_type": "code",
      "execution_count": null,
      "metadata": {
        "colab": {
          "base_uri": "https://localhost:8080/"
        },
        "id": "9kmSXrwXc76z",
        "outputId": "34c87e72-e47e-4341-eb4a-a625ea882702"
      },
      "outputs": [
        {
          "output_type": "stream",
          "name": "stdout",
          "text": [
            "Mounted at /content/drive\n"
          ]
        }
      ],
      "source": [
        "import pandas as pd\n",
        "from sklearn.model_selection import train_test_split\n",
        "from google.colab import drive\n",
        "\n",
        "# Mount Google Drive\n",
        "drive.mount('/content/drive')"
      ]
    },
    {
      "cell_type": "code",
      "execution_count": null,
      "metadata": {
        "colab": {
          "base_uri": "https://localhost:8080/",
          "height": 73
        },
        "id": "Sc5XnE5OdpAY",
        "outputId": "b704bcb5-c80f-4c73-8fff-113abae9a305"
      },
      "outputs": [
        {
          "output_type": "display_data",
          "data": {
            "text/plain": [
              "<IPython.core.display.HTML object>"
            ],
            "text/html": [
              "\n",
              "     <input type=\"file\" id=\"files-e3bf525b-236d-4756-9086-5dda006a8456\" name=\"files[]\" multiple disabled\n",
              "        style=\"border:none\" />\n",
              "     <output id=\"result-e3bf525b-236d-4756-9086-5dda006a8456\">\n",
              "      Upload widget is only available when the cell has been executed in the\n",
              "      current browser session. Please rerun this cell to enable.\n",
              "      </output>\n",
              "      <script>// Copyright 2017 Google LLC\n",
              "//\n",
              "// Licensed under the Apache License, Version 2.0 (the \"License\");\n",
              "// you may not use this file except in compliance with the License.\n",
              "// You may obtain a copy of the License at\n",
              "//\n",
              "//      http://www.apache.org/licenses/LICENSE-2.0\n",
              "//\n",
              "// Unless required by applicable law or agreed to in writing, software\n",
              "// distributed under the License is distributed on an \"AS IS\" BASIS,\n",
              "// WITHOUT WARRANTIES OR CONDITIONS OF ANY KIND, either express or implied.\n",
              "// See the License for the specific language governing permissions and\n",
              "// limitations under the License.\n",
              "\n",
              "/**\n",
              " * @fileoverview Helpers for google.colab Python module.\n",
              " */\n",
              "(function(scope) {\n",
              "function span(text, styleAttributes = {}) {\n",
              "  const element = document.createElement('span');\n",
              "  element.textContent = text;\n",
              "  for (const key of Object.keys(styleAttributes)) {\n",
              "    element.style[key] = styleAttributes[key];\n",
              "  }\n",
              "  return element;\n",
              "}\n",
              "\n",
              "// Max number of bytes which will be uploaded at a time.\n",
              "const MAX_PAYLOAD_SIZE = 100 * 1024;\n",
              "\n",
              "function _uploadFiles(inputId, outputId) {\n",
              "  const steps = uploadFilesStep(inputId, outputId);\n",
              "  const outputElement = document.getElementById(outputId);\n",
              "  // Cache steps on the outputElement to make it available for the next call\n",
              "  // to uploadFilesContinue from Python.\n",
              "  outputElement.steps = steps;\n",
              "\n",
              "  return _uploadFilesContinue(outputId);\n",
              "}\n",
              "\n",
              "// This is roughly an async generator (not supported in the browser yet),\n",
              "// where there are multiple asynchronous steps and the Python side is going\n",
              "// to poll for completion of each step.\n",
              "// This uses a Promise to block the python side on completion of each step,\n",
              "// then passes the result of the previous step as the input to the next step.\n",
              "function _uploadFilesContinue(outputId) {\n",
              "  const outputElement = document.getElementById(outputId);\n",
              "  const steps = outputElement.steps;\n",
              "\n",
              "  const next = steps.next(outputElement.lastPromiseValue);\n",
              "  return Promise.resolve(next.value.promise).then((value) => {\n",
              "    // Cache the last promise value to make it available to the next\n",
              "    // step of the generator.\n",
              "    outputElement.lastPromiseValue = value;\n",
              "    return next.value.response;\n",
              "  });\n",
              "}\n",
              "\n",
              "/**\n",
              " * Generator function which is called between each async step of the upload\n",
              " * process.\n",
              " * @param {string} inputId Element ID of the input file picker element.\n",
              " * @param {string} outputId Element ID of the output display.\n",
              " * @return {!Iterable<!Object>} Iterable of next steps.\n",
              " */\n",
              "function* uploadFilesStep(inputId, outputId) {\n",
              "  const inputElement = document.getElementById(inputId);\n",
              "  inputElement.disabled = false;\n",
              "\n",
              "  const outputElement = document.getElementById(outputId);\n",
              "  outputElement.innerHTML = '';\n",
              "\n",
              "  const pickedPromise = new Promise((resolve) => {\n",
              "    inputElement.addEventListener('change', (e) => {\n",
              "      resolve(e.target.files);\n",
              "    });\n",
              "  });\n",
              "\n",
              "  const cancel = document.createElement('button');\n",
              "  inputElement.parentElement.appendChild(cancel);\n",
              "  cancel.textContent = 'Cancel upload';\n",
              "  const cancelPromise = new Promise((resolve) => {\n",
              "    cancel.onclick = () => {\n",
              "      resolve(null);\n",
              "    };\n",
              "  });\n",
              "\n",
              "  // Wait for the user to pick the files.\n",
              "  const files = yield {\n",
              "    promise: Promise.race([pickedPromise, cancelPromise]),\n",
              "    response: {\n",
              "      action: 'starting',\n",
              "    }\n",
              "  };\n",
              "\n",
              "  cancel.remove();\n",
              "\n",
              "  // Disable the input element since further picks are not allowed.\n",
              "  inputElement.disabled = true;\n",
              "\n",
              "  if (!files) {\n",
              "    return {\n",
              "      response: {\n",
              "        action: 'complete',\n",
              "      }\n",
              "    };\n",
              "  }\n",
              "\n",
              "  for (const file of files) {\n",
              "    const li = document.createElement('li');\n",
              "    li.append(span(file.name, {fontWeight: 'bold'}));\n",
              "    li.append(span(\n",
              "        `(${file.type || 'n/a'}) - ${file.size} bytes, ` +\n",
              "        `last modified: ${\n",
              "            file.lastModifiedDate ? file.lastModifiedDate.toLocaleDateString() :\n",
              "                                    'n/a'} - `));\n",
              "    const percent = span('0% done');\n",
              "    li.appendChild(percent);\n",
              "\n",
              "    outputElement.appendChild(li);\n",
              "\n",
              "    const fileDataPromise = new Promise((resolve) => {\n",
              "      const reader = new FileReader();\n",
              "      reader.onload = (e) => {\n",
              "        resolve(e.target.result);\n",
              "      };\n",
              "      reader.readAsArrayBuffer(file);\n",
              "    });\n",
              "    // Wait for the data to be ready.\n",
              "    let fileData = yield {\n",
              "      promise: fileDataPromise,\n",
              "      response: {\n",
              "        action: 'continue',\n",
              "      }\n",
              "    };\n",
              "\n",
              "    // Use a chunked sending to avoid message size limits. See b/62115660.\n",
              "    let position = 0;\n",
              "    do {\n",
              "      const length = Math.min(fileData.byteLength - position, MAX_PAYLOAD_SIZE);\n",
              "      const chunk = new Uint8Array(fileData, position, length);\n",
              "      position += length;\n",
              "\n",
              "      const base64 = btoa(String.fromCharCode.apply(null, chunk));\n",
              "      yield {\n",
              "        response: {\n",
              "          action: 'append',\n",
              "          file: file.name,\n",
              "          data: base64,\n",
              "        },\n",
              "      };\n",
              "\n",
              "      let percentDone = fileData.byteLength === 0 ?\n",
              "          100 :\n",
              "          Math.round((position / fileData.byteLength) * 100);\n",
              "      percent.textContent = `${percentDone}% done`;\n",
              "\n",
              "    } while (position < fileData.byteLength);\n",
              "  }\n",
              "\n",
              "  // All done.\n",
              "  yield {\n",
              "    response: {\n",
              "      action: 'complete',\n",
              "    }\n",
              "  };\n",
              "}\n",
              "\n",
              "scope.google = scope.google || {};\n",
              "scope.google.colab = scope.google.colab || {};\n",
              "scope.google.colab._files = {\n",
              "  _uploadFiles,\n",
              "  _uploadFilesContinue,\n",
              "};\n",
              "})(self);\n",
              "</script> "
            ]
          },
          "metadata": {}
        },
        {
          "output_type": "stream",
          "name": "stdout",
          "text": [
            "Saving sentences.txt to sentences.txt\n"
          ]
        }
      ],
      "source": [
        "#import dataset\n",
        "from google.colab import files\n",
        "uploaded = files.upload()\n"
      ]
    },
    {
      "cell_type": "code",
      "execution_count": null,
      "metadata": {
        "id": "CPLRgqL8d36n"
      },
      "outputs": [],
      "source": [
        "#splitting data\n",
        "data = pd.read_csv('preprocessed_indonesian_toxic_tweet_fixed.csv')\n",
        "\n",
        "# Assuming the columns are named as per your specification\n",
        "columns = [\n",
        "    'tweet', 'label_HS', 'label_Abusive', 'label_HS_Individual', 'label_HS_Group',\n",
        "    'label_HS_Religion', 'label_HS_Race', 'label_HS_Physical', 'label_HS_Gender',\n",
        "    'label_HS_Other', 'label_HS_Weak', 'label_HS_Moderate', 'label_HS_Strong'\n",
        "]\n",
        "\n",
        "# Rename columns for clarity\n",
        "data.columns = columns\n",
        "\n",
        "# Assuming 'sentence' is the column containing preprocessed sentences\n",
        "X = data['tweet']\n",
        "\n",
        "# Assuming other columns are labels\n",
        "y = data.drop('tweet', axis=1)\n",
        "# Split the data into training and testing sets\n",
        "X_train, X_test, y_train, y_test = train_test_split(X, y, test_size=0.2, random_state=42)\n",
        "\n",
        "# Create new DataFrames for training and testing data\n",
        "train_data = pd.DataFrame({'text': X_train})\n",
        "train_data = pd.concat([train_data, y_train], axis=1)\n",
        "\n",
        "test_data = pd.DataFrame({'text': X_test})\n",
        "test_data = pd.concat([test_data, y_test], axis=1)\n",
        "\n",
        "# Save the training and testing DataFrames to CSV\n",
        "train_data.to_csv('/content/drive/MyDrive/training_data.csv', index=False)\n",
        "test_data.to_csv('/content/drive/MyDrive/test_data.csv', index=False)"
      ]
    },
    {
      "cell_type": "markdown",
      "metadata": {
        "id": "M_m2jMUoWEdW"
      },
      "source": [
        "With cross_validation dataset"
      ]
    },
    {
      "cell_type": "code",
      "execution_count": null,
      "metadata": {
        "colab": {
          "base_uri": "https://localhost:8080/"
        },
        "id": "h9QBctr0WH3Y",
        "outputId": "02f08ca4-4641-478f-991a-82fb462f3c39"
      },
      "outputs": [
        {
          "name": "stdout",
          "output_type": "stream",
          "text": [
            "Drive already mounted at /content/drive; to attempt to forcibly remount, call drive.mount(\"/content/drive\", force_remount=True).\n"
          ]
        }
      ],
      "source": [
        "# Mount Google Drive\n",
        "drive.mount('/content/drive')\n",
        "\n",
        "#splitting data\n",
        "data = pd.read_csv('preprocessed_indonesian_toxic_tweet_fixed.csv')\n",
        "\n",
        "# Assuming the columns are named as per your specification\n",
        "columns = [\n",
        "    'tweet', 'label_HS', 'label_Abusive', 'label_HS_Individual', 'label_HS_Group',\n",
        "    'label_HS_Religion', 'label_HS_Race', 'label_HS_Physical', 'label_HS_Gender',\n",
        "    'label_HS_Other', 'label_HS_Weak', 'label_HS_Moderate', 'label_HS_Strong'\n",
        "]\n",
        "\n",
        "# Rename columns for clarity\n",
        "data.columns = columns\n",
        "\n",
        "# Assuming 'tweet' is the column containing preprocessed sentences\n",
        "X = data['tweet']\n",
        "\n",
        "# Assuming other columns are labels\n",
        "y = data.drop('tweet', axis=1)\n",
        "\n",
        "# Split the data into training, cross-validation, and testing sets\n",
        "X_train, X_temp, y_train, y_temp = train_test_split(X, y, test_size=0.4, random_state=42)\n",
        "X_cv, X_test, y_cv, y_test = train_test_split(X_temp, y_temp, test_size=0.5, random_state=42)\n",
        "\n",
        "# Create new DataFrames for training, cross-validation, and testing data\n",
        "train_data = pd.DataFrame({'text': X_train})\n",
        "train_data = pd.concat([train_data, y_train], axis=1)\n",
        "\n",
        "cv_data = pd.DataFrame({'text': X_cv})\n",
        "cv_data = pd.concat([cv_data, y_cv], axis=1)\n",
        "\n",
        "test_data = pd.DataFrame({'text': X_test})\n",
        "test_data = pd.concat([test_data, y_test], axis=1)\n",
        "\n",
        "# Save the training, cross-validation, and testing DataFrames to CSV\n",
        "train_data.to_csv('/content/drive/MyDrive/training_data_2.csv', index=False)\n",
        "cv_data.to_csv('/content/drive/MyDrive/cv_data.csv', index=False)\n",
        "test_data.to_csv('/content/drive/MyDrive/test_data_2.csv', index=False)\n"
      ]
    },
    {
      "cell_type": "code",
      "execution_count": null,
      "metadata": {
        "colab": {
          "base_uri": "https://localhost:8080/"
        },
        "id": "xR5N1mrFd4NA",
        "outputId": "023908c3-21b5-45d5-9004-2be04e030d87"
      },
      "outputs": [
        {
          "name": "stdout",
          "output_type": "stream",
          "text": [
            "\n",
            "Shape of the training dataset: (10564, 13)\n",
            "Shape of the testing dataset: (2642, 13)\n"
          ]
        }
      ],
      "source": [
        "# Print information about the training and testing datasets\n",
        "print(\"\\nShape of the training dataset:\", train_data.shape)\n",
        "print(\"Shape of the testing dataset:\", test_data.shape)\n",
        "#print(\"Shape of the cross_Validation dataset:\", cv_data.shape)"
      ]
    },
    {
      "cell_type": "code",
      "execution_count": null,
      "metadata": {
        "colab": {
          "base_uri": "https://localhost:8080/"
        },
        "id": "dQ-lgpFSfyFx",
        "outputId": "9bd9f857-3ee1-4896-a5fc-3667da0514ae"
      },
      "outputs": [
        {
          "name": "stdout",
          "output_type": "stream",
          "text": [
            "                                                    text  label_HS  \\\n",
            "2239                    pintar bacot ya lawan nya bu sri         1   \n",
            "11539  eh nurul kuliah jurus bahasa mandarin bera i k...         0   \n",
            "6850                                          edan marah         0   \n",
            "4295        inti dukung prabowo partai komunis indonesia         1   \n",
            "1042     ayat kaji pengga kepala pancung ujung jari 8 12         1   \n",
            "2389                            kocok memek enak kali ya         0   \n",
            "8270          pas lihat goeun kayak asing oh nyata minho         0   \n",
            "1592   mafia wasit milanisti asing juventini senior a...         0   \n",
            "2391   lo kritik kritik solusi surat pemberitahuan co...         0   \n",
            "3592                                               burik         1   \n",
            "4007                                 ya rezim anti islam         1   \n",
            "9750                 hantu kak limah 2 amp munafik 2 hem         0   \n",
            "10632  copy paste nusantara islam freefo newmont indo...         0   \n",
            "12809  kamis malam revisi pakat undang undang anti te...         0   \n",
            "2714                                    seru ulama hanif         0   \n",
            "\n",
            "       label_Abusive  label_HS_Individual  label_HS_Group  label_HS_Religion  \\\n",
            "2239               1                    1               0                  0   \n",
            "11539              0                    0               0                  0   \n",
            "6850               1                    0               0                  0   \n",
            "4295               0                    0               1                  0   \n",
            "1042               0                    0               1                  1   \n",
            "2389               1                    0               0                  0   \n",
            "8270               0                    0               0                  0   \n",
            "1592               0                    0               0                  0   \n",
            "2391               0                    0               0                  0   \n",
            "3592               1                    1               0                  0   \n",
            "4007               0                    1               0                  1   \n",
            "9750               0                    0               0                  0   \n",
            "10632              0                    0               0                  0   \n",
            "12809              0                    0               0                  0   \n",
            "2714               0                    0               0                  0   \n",
            "\n",
            "       label_HS_Race  label_HS_Physical  label_HS_Gender  label_HS_Other  \\\n",
            "2239               0                  0                0               1   \n",
            "11539              0                  0                0               0   \n",
            "6850               0                  0                0               0   \n",
            "4295               1                  0                0               0   \n",
            "1042               0                  0                0               0   \n",
            "2389               0                  0                0               0   \n",
            "8270               0                  0                0               0   \n",
            "1592               0                  0                0               0   \n",
            "2391               0                  0                0               0   \n",
            "3592               0                  0                0               1   \n",
            "4007               0                  0                0               0   \n",
            "9750               0                  0                0               0   \n",
            "10632              0                  0                0               0   \n",
            "12809              0                  0                0               0   \n",
            "2714               0                  0                0               0   \n",
            "\n",
            "       label_HS_Weak  label_HS_Moderate  label_HS_Strong  \n",
            "2239               1                  0                0  \n",
            "11539              0                  0                0  \n",
            "6850               0                  0                0  \n",
            "4295               0                  1                0  \n",
            "1042               0                  1                0  \n",
            "2389               0                  0                0  \n",
            "8270               0                  0                0  \n",
            "1592               0                  0                0  \n",
            "2391               0                  0                0  \n",
            "3592               1                  0                0  \n",
            "4007               1                  0                0  \n",
            "9750               0                  0                0  \n",
            "10632              0                  0                0  \n",
            "12809              0                  0                0  \n",
            "2714               0                  0                0  \n"
          ]
        }
      ],
      "source": [
        "print(train_data.head(15))"
      ]
    },
    {
      "cell_type": "code",
      "execution_count": null,
      "metadata": {
        "colab": {
          "base_uri": "https://localhost:8080/",
          "height": 17
        },
        "id": "QAJQnzhcg87f",
        "outputId": "28fdef42-bb93-454b-e79b-c004289a105c"
      },
      "outputs": [
        {
          "data": {
            "application/javascript": [
              "\n",
              "    async function download(id, filename, size) {\n",
              "      if (!google.colab.kernel.accessAllowed) {\n",
              "        return;\n",
              "      }\n",
              "      const div = document.createElement('div');\n",
              "      const label = document.createElement('label');\n",
              "      label.textContent = `Downloading \"${filename}\": `;\n",
              "      div.appendChild(label);\n",
              "      const progress = document.createElement('progress');\n",
              "      progress.max = size;\n",
              "      div.appendChild(progress);\n",
              "      document.body.appendChild(div);\n",
              "\n",
              "      const buffers = [];\n",
              "      let downloaded = 0;\n",
              "\n",
              "      const channel = await google.colab.kernel.comms.open(id);\n",
              "      // Send a message to notify the kernel that we're ready.\n",
              "      channel.send({})\n",
              "\n",
              "      for await (const message of channel.messages) {\n",
              "        // Send a message to notify the kernel that we're ready.\n",
              "        channel.send({})\n",
              "        if (message.buffers) {\n",
              "          for (const buffer of message.buffers) {\n",
              "            buffers.push(buffer);\n",
              "            downloaded += buffer.byteLength;\n",
              "            progress.value = downloaded;\n",
              "          }\n",
              "        }\n",
              "      }\n",
              "      const blob = new Blob(buffers, {type: 'application/binary'});\n",
              "      const a = document.createElement('a');\n",
              "      a.href = window.URL.createObjectURL(blob);\n",
              "      a.download = filename;\n",
              "      div.appendChild(a);\n",
              "      a.click();\n",
              "      div.remove();\n",
              "    }\n",
              "  "
            ],
            "text/plain": [
              "<IPython.core.display.Javascript object>"
            ]
          },
          "metadata": {},
          "output_type": "display_data"
        },
        {
          "data": {
            "application/javascript": [
              "download(\"download_4000cc29-33ac-43e4-aeac-e2755e010585\", \"training_data.csv\", 986898)"
            ],
            "text/plain": [
              "<IPython.core.display.Javascript object>"
            ]
          },
          "metadata": {},
          "output_type": "display_data"
        },
        {
          "data": {
            "application/javascript": [
              "\n",
              "    async function download(id, filename, size) {\n",
              "      if (!google.colab.kernel.accessAllowed) {\n",
              "        return;\n",
              "      }\n",
              "      const div = document.createElement('div');\n",
              "      const label = document.createElement('label');\n",
              "      label.textContent = `Downloading \"${filename}\": `;\n",
              "      div.appendChild(label);\n",
              "      const progress = document.createElement('progress');\n",
              "      progress.max = size;\n",
              "      div.appendChild(progress);\n",
              "      document.body.appendChild(div);\n",
              "\n",
              "      const buffers = [];\n",
              "      let downloaded = 0;\n",
              "\n",
              "      const channel = await google.colab.kernel.comms.open(id);\n",
              "      // Send a message to notify the kernel that we're ready.\n",
              "      channel.send({})\n",
              "\n",
              "      for await (const message of channel.messages) {\n",
              "        // Send a message to notify the kernel that we're ready.\n",
              "        channel.send({})\n",
              "        if (message.buffers) {\n",
              "          for (const buffer of message.buffers) {\n",
              "            buffers.push(buffer);\n",
              "            downloaded += buffer.byteLength;\n",
              "            progress.value = downloaded;\n",
              "          }\n",
              "        }\n",
              "      }\n",
              "      const blob = new Blob(buffers, {type: 'application/binary'});\n",
              "      const a = document.createElement('a');\n",
              "      a.href = window.URL.createObjectURL(blob);\n",
              "      a.download = filename;\n",
              "      div.appendChild(a);\n",
              "      a.click();\n",
              "      div.remove();\n",
              "    }\n",
              "  "
            ],
            "text/plain": [
              "<IPython.core.display.Javascript object>"
            ]
          },
          "metadata": {},
          "output_type": "display_data"
        },
        {
          "data": {
            "application/javascript": [
              "download(\"download_074fde6b-1bd8-4617-9bc7-3ce890242179\", \"test_data.csv\", 248529)"
            ],
            "text/plain": [
              "<IPython.core.display.Javascript object>"
            ]
          },
          "metadata": {},
          "output_type": "display_data"
        }
      ],
      "source": [
        "#optional if u want to download the data\n",
        "from google.colab import files\n",
        "\n",
        "# Assuming the paths to the training and testing CSV files\n",
        "training_data_path = '/content/drive/MyDrive/training_data.csv'\n",
        "test_data_path = '/content/drive/MyDrive/test_data.csv'\n",
        "\n",
        "# Download the training dataset\n",
        "files.download(training_data_path)\n",
        "\n",
        "# Download the testing dataset\n",
        "files.download(test_data_path)\n"
      ]
    },
    {
      "cell_type": "code",
      "execution_count": null,
      "metadata": {
        "id": "6WayGvDkigbn"
      },
      "outputs": [],
      "source": [
        "import csv\n",
        "\n",
        "def parse_data_from_file(file_path):\n",
        "    sentences = []\n",
        "    labels_HS = []\n",
        "    labels_Abusive = []\n",
        "    labels_HS_Individual = []\n",
        "    labels_HS_Group = []\n",
        "    labels_HS_Religion = []\n",
        "    labels_HS_Race = []\n",
        "    labels_HS_Physical = []\n",
        "    labels_HS_Gender = []\n",
        "    labels_HS_Other = []\n",
        "    labels_HS_Weak = []\n",
        "    labels_HS_Moderate = []\n",
        "    labels_HS_Strong = []\n",
        "\n",
        "    with open(file_path, 'r', encoding='utf-8') as csvfile:\n",
        "        reader = csv.reader(csvfile)\n",
        "        next(reader, None)  # Skip the header\n",
        "\n",
        "        for row in reader:\n",
        "            sentence = row[0]\n",
        "            label_HS = int(row[1])\n",
        "            label_Abusive = int(row[2])\n",
        "            label_HS_Individual = int(row[3])\n",
        "            label_HS_Group = int(row[4])\n",
        "            label_HS_Religion = int(row[5])\n",
        "            label_HS_Race = int(row[6])\n",
        "            label_HS_Physical = int(row[7])\n",
        "            label_HS_Gender = int(row[8])\n",
        "            label_HS_Other = int(row[9])\n",
        "            label_HS_Weak = int(row[10])\n",
        "            label_HS_Moderate = int(row[11])\n",
        "            label_HS_Strong = int(row[12])\n",
        "\n",
        "            # Append data to respective lists\n",
        "            sentences.append(sentence)\n",
        "            labels_HS.append(label_HS)\n",
        "            labels_Abusive.append(label_Abusive)\n",
        "            labels_HS_Individual.append(label_HS_Individual)\n",
        "            labels_HS_Group.append(label_HS_Group)\n",
        "            labels_HS_Religion.append(label_HS_Religion)\n",
        "            labels_HS_Race.append(label_HS_Race)\n",
        "            labels_HS_Physical.append(label_HS_Physical)\n",
        "            labels_HS_Gender.append(label_HS_Gender)\n",
        "            labels_HS_Other.append(label_HS_Other)\n",
        "            labels_HS_Weak.append(label_HS_Weak)\n",
        "            labels_HS_Moderate.append(label_HS_Moderate)\n",
        "            labels_HS_Strong.append(label_HS_Strong)\n",
        "\n",
        "    return (sentences, labels_HS, labels_Abusive, labels_HS_Individual, labels_HS_Group,\n",
        "            labels_HS_Religion, labels_HS_Race, labels_HS_Physical, labels_HS_Gender,\n",
        "            labels_HS_Other, labels_HS_Weak, labels_HS_Moderate, labels_HS_Strong)\n"
      ]
    },
    {
      "cell_type": "code",
      "execution_count": null,
      "metadata": {
        "id": "VV8wUJh4jQQ_"
      },
      "outputs": [],
      "source": [
        "#Training data\n",
        "sentences, labels_HS, labels_Abusive, labels_HS_Individual, labels_HS_Group, labels_HS_Religion, labels_HS_Race, labels_HS_Physical, labels_HS_Gender, labels_HS_Other, labels_HS_Weak, labels_HS_Moderate, labels_HS_Strong = parse_data_from_file('/content/drive/MyDrive/training_data.csv')\n",
        "\n",
        "#test data\n",
        "test_sentences, test_labels_HS, test_labels_Abusive, test_labels_HS_Individual, test_labels_HS_Group,test_labels_HS_Religion, test_labels_HS_Race, test_labels_HS_Physical, test_labels_HS_Gender, test_labels_HS_Other, test_labels_HS_Weak, test_labels_HS_Moderate, test_labels_HS_Strong = parse_data_from_file('/content/drive/MyDrive/test_data.csv')"
      ]
    },
    {
      "cell_type": "code",
      "execution_count": null,
      "metadata": {
        "colab": {
          "base_uri": "https://localhost:8080/"
        },
        "id": "jXHABimFHqcw",
        "outputId": "d2f5c472-8c8c-404c-a1ed-a083af8b8c7f"
      },
      "outputs": [
        {
          "output_type": "stream",
          "name": "stdout",
          "text": [
            "['pintar bacot ya lawan nya bu sri', 'eh nurul kuliah jurus bahasa mandarin bera i kerja komunis saudara gera 30 september partai komunis indonesia', 'edan marah', 'inti dukung prabowo partai komunis indonesia', 'ayat kaji pengga kepala pancung ujung jari 8 12', 'kocok memek enak kali ya', 'pas lihat goeun kayak asing oh nyata minho', 'mafia wasit milanisti asing juventini senior angkat gue', 'lo kritik kritik solusi surat pemberitahuan contoh pimpin kritik bilang terima kasih pimpin kayak indonesia beres', 'burik']\n",
            "pintar bacot ya lawan nya bu sri\n",
            "eh nurul kuliah jurus bahasa mandarin bera i kerja komunis saudara gera 30 september partai komunis indonesia\n",
            "edan marah\n",
            "inti dukung prabowo partai komunis indonesia\n",
            "ayat kaji pengga kepala pancung ujung jari 8 12\n",
            "kocok memek enak kali ya\n",
            "pas lihat goeun kayak asing oh nyata minho\n",
            "mafia wasit milanisti asing juventini senior angkat gue\n",
            "lo kritik kritik solusi surat pemberitahuan contoh pimpin kritik bilang terima kasih pimpin kayak indonesia beres\n",
            "burik\n"
          ]
        }
      ],
      "source": [
        "# Print the first few sentences\n",
        "print(sentences[:10])  # Adjust the number to view a different subset\n",
        "\n",
        "# Or loop through and print all sentences\n",
        "for sentence in sentences[:10]:\n",
        "    print(sentence)"
      ]
    },
    {
      "cell_type": "markdown",
      "metadata": {
        "id": "gPBRhMOYlS8m"
      },
      "source": [
        "Optional dengan Cross validation set\n"
      ]
    },
    {
      "cell_type": "code",
      "execution_count": null,
      "metadata": {
        "id": "-8h66dg7W39W"
      },
      "outputs": [],
      "source": [
        "# Training data.\n",
        "sentences_train, labels_HS_train, labels_Abusive_train, labels_HS_Individual_train, labels_HS_Group_train, labels_HS_Religion_train, labels_HS_Race_train, labels_HS_Physical_train, labels_HS_Gender_train, labels_HS_Other_train, labels_HS_Weak_train, labels_HS_Moderate_train, labels_HS_Strong_train = parse_data_from_file('/content/drive/MyDrive/training_data_2.csv')\n",
        "\n",
        "# Cross-validation data\n",
        "sentences_cv, labels_HS_cv, labels_Abusive_cv, labels_HS_Individual_cv, labels_HS_Group_cv, labels_HS_Religion_cv, labels_HS_Race_cv, labels_HS_Physical_cv, labels_HS_Gender_cv, labels_HS_Other_cv, labels_HS_Weak_cv, labels_HS_Moderate_cv, labels_HS_Strong_cv = parse_data_from_file('/content/drive/MyDrive/cv_data.csv')\n",
        "\n",
        "# Test data\n",
        "sentences_test, labels_HS_test, labels_Abusive_test, labels_HS_Individual_test, labels_HS_Group_test, labels_HS_Religion_test, labels_HS_Race_test, labels_HS_Physical_test, labels_HS_Gender_test, labels_HS_Other_test, labels_HS_Weak_test, labels_HS_Moderate_test, labels_HS_Strong_test = parse_data_from_file('/content/drive/MyDrive/test_data_2.csv')"
      ]
    },
    {
      "cell_type": "markdown",
      "source": [
        "Optional"
      ],
      "metadata": {
        "id": "oZD-nMWtIFgi"
      }
    },
    {
      "cell_type": "code",
      "execution_count": null,
      "metadata": {
        "colab": {
          "base_uri": "https://localhost:8080/",
          "height": 17
        },
        "id": "KDEFiAMsGW3U",
        "outputId": "3d05f60b-b9e7-492c-d6c4-afbbbb0497c4"
      },
      "outputs": [
        {
          "data": {
            "application/javascript": [
              "\n",
              "    async function download(id, filename, size) {\n",
              "      if (!google.colab.kernel.accessAllowed) {\n",
              "        return;\n",
              "      }\n",
              "      const div = document.createElement('div');\n",
              "      const label = document.createElement('label');\n",
              "      label.textContent = `Downloading \"${filename}\": `;\n",
              "      div.appendChild(label);\n",
              "      const progress = document.createElement('progress');\n",
              "      progress.max = size;\n",
              "      div.appendChild(progress);\n",
              "      document.body.appendChild(div);\n",
              "\n",
              "      const buffers = [];\n",
              "      let downloaded = 0;\n",
              "\n",
              "      const channel = await google.colab.kernel.comms.open(id);\n",
              "      // Send a message to notify the kernel that we're ready.\n",
              "      channel.send({})\n",
              "\n",
              "      for await (const message of channel.messages) {\n",
              "        // Send a message to notify the kernel that we're ready.\n",
              "        channel.send({})\n",
              "        if (message.buffers) {\n",
              "          for (const buffer of message.buffers) {\n",
              "            buffers.push(buffer);\n",
              "            downloaded += buffer.byteLength;\n",
              "            progress.value = downloaded;\n",
              "          }\n",
              "        }\n",
              "      }\n",
              "      const blob = new Blob(buffers, {type: 'application/binary'});\n",
              "      const a = document.createElement('a');\n",
              "      a.href = window.URL.createObjectURL(blob);\n",
              "      a.download = filename;\n",
              "      div.appendChild(a);\n",
              "      a.click();\n",
              "      div.remove();\n",
              "    }\n",
              "  "
            ],
            "text/plain": [
              "<IPython.core.display.Javascript object>"
            ]
          },
          "metadata": {},
          "output_type": "display_data"
        },
        {
          "data": {
            "application/javascript": [
              "download(\"download_588e5b99-1f16-46bd-b206-4d714e37c5a9\", \"sentences.txt\", 738153)"
            ],
            "text/plain": [
              "<IPython.core.display.Javascript object>"
            ]
          },
          "metadata": {},
          "output_type": "display_data"
        }
      ],
      "source": [
        "with open('sentences.txt', 'w', encoding='utf-8') as file:\n",
        "    for sentence in sentences:\n",
        "        file.write(sentence + '\\n')\n",
        "\n",
        "from google.colab import files\n",
        "\n",
        "# Save the best model checkpoint to a file\n",
        "files.download('sentences.txt')"
      ]
    },
    {
      "cell_type": "markdown",
      "metadata": {
        "id": "6rtTRaw3ju1A"
      },
      "source": [
        "Optional\n",
        "This is a small model that predict only labels_hs"
      ]
    },
    {
      "cell_type": "code",
      "execution_count": null,
      "metadata": {
        "colab": {
          "base_uri": "https://localhost:8080/"
        },
        "id": "6KcMcIx0_CC2",
        "outputId": "af2cc390-b48d-4513-b67c-7a3067efe325"
      },
      "outputs": [
        {
          "output_type": "stream",
          "name": "stdout",
          "text": [
            "Accuracy: 0.9568508705526116\n",
            "Classification Report:\n",
            "               precision    recall  f1-score   support\n",
            "\n",
            "           0       0.97      0.99      0.98      2503\n",
            "           1       0.63      0.44      0.52       139\n",
            "\n",
            "    accuracy                           0.96      2642\n",
            "   macro avg       0.80      0.71      0.75      2642\n",
            "weighted avg       0.95      0.96      0.95      2642\n",
            "\n"
          ]
        }
      ],
      "source": [
        "from sklearn.feature_extraction.text import CountVectorizer\n",
        "from sklearn.linear_model import LogisticRegression\n",
        "from sklearn.metrics import classification_report, accuracy_score\n",
        "\n",
        "# Step 1: Vectorize the text data\n",
        "vectorizer = CountVectorizer()\n",
        "X_train_vectorized = vectorizer.fit_transform(sentences)\n",
        "X_test_vectorized = vectorizer.transform(test_sentences)\n",
        "\n",
        "# Step 2: Choose and train the classification model\n",
        "model = LogisticRegression()\n",
        "model.fit(X_train_vectorized, labels_HS_Religion)  # Assuming you're training for 'labels_HS'\n",
        "\n",
        "# Step 3: Make predictions on the test data\n",
        "predictions = model.predict(X_test_vectorized)\n",
        "\n",
        "# Step 4: Evaluate the model\n",
        "accuracy = accuracy_score(test_labels_HS_Religion, predictions)\n",
        "report = classification_report(test_labels_HS_Religion, predictions)\n",
        "\n",
        "# Print the evaluation results\n",
        "print(\"Accuracy:\", accuracy)\n",
        "print(\"Classification Report:\\n\", report)"
      ]
    },
    {
      "cell_type": "markdown",
      "source": [
        "optional oversampling the data"
      ],
      "metadata": {
        "id": "NrcdWfxHBh06"
      }
    },
    {
      "cell_type": "code",
      "source": [
        "from sklearn.feature_extraction.text import CountVectorizer\n",
        "from sklearn.linear_model import LogisticRegression\n",
        "from sklearn.metrics import classification_report, accuracy_score\n",
        "from imblearn.over_sampling import SMOTE\n",
        "\n",
        "# Step 1: Vectorize the text data\n",
        "vectorizer = CountVectorizer()\n",
        "X_train_vectorized = vectorizer.fit_transform(sentences)\n",
        "X_test_vectorized = vectorizer.transform(test_sentences)\n",
        "\n",
        "# Step 2: Implement oversampling using SMOTE\n",
        "oversampler = SMOTE(sampling_strategy='auto')\n",
        "X_train_resampled, labels_HS_Religion_resampled = oversampler.fit_resample(X_train_vectorized, labels_HS_Religion)\n",
        "\n",
        "# Step 3: Choose and train the classification model with resampled data\n",
        "model = LogisticRegression()\n",
        "model.fit(X_train_resampled, labels_HS_Religion_resampled)\n",
        "\n",
        "# Step 4: Make predictions on the test data\n",
        "predictions = model.predict(X_test_vectorized)\n",
        "\n",
        "# Step 5: Evaluate the model\n",
        "accuracy = accuracy_score(test_labels_HS_Religion, predictions)\n",
        "report = classification_report(test_labels_HS_Religion, predictions)\n",
        "\n",
        "# Print the evaluation results\n",
        "print(\"Accuracy:\", accuracy)\n",
        "print(\"Classification Report:\\n\", report)\n"
      ],
      "metadata": {
        "colab": {
          "base_uri": "https://localhost:8080/"
        },
        "id": "toMYVbkiBhn5",
        "outputId": "25fc410c-9990-4543-d958-513c1a985c38"
      },
      "execution_count": null,
      "outputs": [
        {
          "output_type": "stream",
          "name": "stdout",
          "text": [
            "Accuracy: 0.9038607115821348\n",
            "Classification Report:\n",
            "               precision    recall  f1-score   support\n",
            "\n",
            "           0       0.98      0.92      0.95      2503\n",
            "           1       0.29      0.59      0.39       139\n",
            "\n",
            "    accuracy                           0.90      2642\n",
            "   macro avg       0.63      0.76      0.67      2642\n",
            "weighted avg       0.94      0.90      0.92      2642\n",
            "\n"
          ]
        }
      ]
    },
    {
      "cell_type": "markdown",
      "metadata": {
        "id": "IOlCx8QsmsXv"
      },
      "source": [
        "training using deep learning method 12 labels\n"
      ]
    },
    {
      "cell_type": "code",
      "execution_count": null,
      "metadata": {
        "id": "jRpi4RnQn8lw"
      },
      "outputs": [],
      "source": [
        "import numpy as np\n",
        "import tensorflow as tf\n",
        "from tensorflow.keras.models import Sequential\n",
        "from tensorflow.keras.layers import Embedding, Bidirectional, LSTM, Dense, Dropout, SpatialDropout1D\n",
        "from tensorflow.keras.optimizers import Adam\n",
        "from tensorflow.keras.callbacks import EarlyStopping\n",
        "from sklearn.metrics import f1_score\n",
        "\n",
        "# Convert labels to numpy arrays\n",
        "y_train = (np.sum([labels_HS, labels_Abusive, labels_HS_Individual, labels_HS_Group,\n",
        "                    labels_HS_Religion, labels_HS_Race, labels_HS_Physical, labels_HS_Gender,\n",
        "                    labels_HS_Other, labels_HS_Weak, labels_HS_Moderate, labels_HS_Strong], axis=0) > 0).astype(int)\n",
        "\n",
        "y_test = (np.sum([test_labels_HS, test_labels_Abusive, test_labels_HS_Individual, test_labels_HS_Group,\n",
        "                   test_labels_HS_Religion, test_labels_HS_Race, test_labels_HS_Physical, test_labels_HS_Gender,\n",
        "                   test_labels_HS_Other, test_labels_HS_Weak, test_labels_HS_Moderate, test_labels_HS_Strong], axis=0) > 0).astype(int)\n",
        "# Convert labels to numpy arrays\n",
        "#y_train = np.array([labels_HS, labels_Abusive, labels_HS_Individual, labels_HS_Group,\n",
        "#                    labels_HS_Religion, labels_HS_Race, labels_HS_Physical, labels_HS_Gender,\n",
        "#                    labels_HS_Other, labels_HS_Weak, labels_HS_Moderate, labels_HS_Strong])\n",
        "\n",
        "#y_test = np.array([test_labels_HS, test_labels_Abusive, test_labels_HS_Individual, test_labels_HS_Group,\n",
        "#                   test_labels_HS_Religion, test_labels_HS_Race, test_labels_HS_Physical, test_labels_HS_Gender,\n",
        "#                   test_labels_HS_Other, test_labels_HS_Weak, test_labels_HS_Moderate, test_labels_HS_Strong])\n",
        "\n",
        "# Tokenize the sentences\n",
        "tokenizer = tf.keras.preprocessing.text.Tokenizer()\n",
        "tokenizer.fit_on_texts(sentences)\n",
        "\n",
        "X_train = tokenizer.texts_to_sequences(sentences)\n",
        "X_test = tokenizer.texts_to_sequences(test_sentences)\n",
        "\n",
        "# Pad sequences to ensure consistent length\n",
        "X_train_padded = tf.keras.preprocessing.sequence.pad_sequences(X_train, padding='post')\n",
        "# Pad sequences to ensure consistent length for test data\n",
        "X_test_padded = tf.keras.preprocessing.sequence.pad_sequences(X_test, padding='post', maxlen=X_train_padded.shape[1])"
      ]
    },
    {
      "cell_type": "code",
      "execution_count": null,
      "metadata": {
        "colab": {
          "base_uri": "https://localhost:8080/"
        },
        "id": "5_-gN4-nlZx4",
        "outputId": "6d385831-68b1-4278-89cf-1a174c08a374"
      },
      "outputs": [
        {
          "output_type": "stream",
          "name": "stdout",
          "text": [
            "Epoch 1/30\n",
            "133/133 [==============================] - ETA: 0s - loss: 0.6702 - accuracy: 0.5745\n",
            "Epoch 1: val_loss improved from inf to 0.65184, saving model to best_model.h5\n"
          ]
        },
        {
          "output_type": "stream",
          "name": "stderr",
          "text": [
            "/usr/local/lib/python3.10/dist-packages/keras/src/engine/training.py:3103: UserWarning: You are saving your model as an HDF5 file via `model.save()`. This file format is considered legacy. We recommend using instead the native Keras format, e.g. `model.save('my_model.keras')`.\n",
            "  saving_api.save_model(\n"
          ]
        },
        {
          "output_type": "stream",
          "name": "stdout",
          "text": [
            "\b\b\b\b\b\b\b\b\b\b\b\b\b\b\b\b\b\b\b\b\b\b\b\b\b\b\b\b\b\b\b\b\b\b\b\b\b\b\b\b\b\b\b\b\b\b\b\b\b\b\b\b\b\b\b\b\b\b\b\b\b\b\b\b\b\b\b\b\b\b\b\b\b\b\b\b\b\b\b\b\b\b\b\b\r133/133 [==============================] - 24s 125ms/step - loss: 0.6702 - accuracy: 0.5745 - val_loss: 0.6518 - val_accuracy: 0.6238\n",
            "Epoch 2/30\n",
            "133/133 [==============================] - ETA: 0s - loss: 0.6150 - accuracy: 0.7230\n",
            "Epoch 2: val_loss improved from 0.65184 to 0.58503, saving model to best_model.h5\n",
            "133/133 [==============================] - 10s 76ms/step - loss: 0.6150 - accuracy: 0.7230 - val_loss: 0.5850 - val_accuracy: 0.7752\n",
            "Epoch 3/30\n",
            "133/133 [==============================] - ETA: 0s - loss: 0.5007 - accuracy: 0.8326\n",
            "Epoch 3: val_loss improved from 0.58503 to 0.46804, saving model to best_model.h5\n",
            "133/133 [==============================] - 5s 37ms/step - loss: 0.5007 - accuracy: 0.8326 - val_loss: 0.4680 - val_accuracy: 0.8102\n",
            "Epoch 4/30\n",
            "130/133 [============================>.] - ETA: 0s - loss: 0.3579 - accuracy: 0.8855\n",
            "Epoch 4: val_loss improved from 0.46804 to 0.37078, saving model to best_model.h5\n",
            "133/133 [==============================] - 5s 38ms/step - loss: 0.3571 - accuracy: 0.8855 - val_loss: 0.3708 - val_accuracy: 0.8457\n",
            "Epoch 5/30\n",
            "133/133 [==============================] - ETA: 0s - loss: 0.2534 - accuracy: 0.9197\n",
            "Epoch 5: val_loss improved from 0.37078 to 0.32457, saving model to best_model.h5\n",
            "133/133 [==============================] - 3s 23ms/step - loss: 0.2534 - accuracy: 0.9197 - val_loss: 0.3246 - val_accuracy: 0.8580\n",
            "Epoch 6/30\n",
            "133/133 [==============================] - ETA: 0s - loss: 0.1931 - accuracy: 0.9372\n",
            "Epoch 6: val_loss improved from 0.32457 to 0.30668, saving model to best_model.h5\n",
            "133/133 [==============================] - 2s 16ms/step - loss: 0.1931 - accuracy: 0.9372 - val_loss: 0.3067 - val_accuracy: 0.8656\n",
            "Epoch 7/30\n",
            "129/133 [============================>.] - ETA: 0s - loss: 0.1524 - accuracy: 0.9546\n",
            "Epoch 7: val_loss improved from 0.30668 to 0.30504, saving model to best_model.h5\n",
            "133/133 [==============================] - 3s 24ms/step - loss: 0.1522 - accuracy: 0.9544 - val_loss: 0.3050 - val_accuracy: 0.8632\n",
            "Epoch 8/30\n",
            "133/133 [==============================] - ETA: 0s - loss: 0.1244 - accuracy: 0.9650\n",
            "Epoch 8: val_loss did not improve from 0.30504\n",
            "133/133 [==============================] - 3s 20ms/step - loss: 0.1244 - accuracy: 0.9650 - val_loss: 0.3066 - val_accuracy: 0.8684\n",
            "Epoch 9/30\n",
            "133/133 [==============================] - ETA: 0s - loss: 0.1018 - accuracy: 0.9730\n",
            "Epoch 9: val_loss did not improve from 0.30504\n",
            "133/133 [==============================] - 2s 16ms/step - loss: 0.1018 - accuracy: 0.9730 - val_loss: 0.3152 - val_accuracy: 0.8680\n",
            "Epoch 10/30\n",
            "133/133 [==============================] - ETA: 0s - loss: 0.0838 - accuracy: 0.9785\n",
            "Epoch 10: val_loss did not improve from 0.30504\n",
            "133/133 [==============================] - 2s 14ms/step - loss: 0.0838 - accuracy: 0.9785 - val_loss: 0.3219 - val_accuracy: 0.8651\n",
            "Epoch 11/30\n",
            "133/133 [==============================] - ETA: 0s - loss: 0.0707 - accuracy: 0.9828\n",
            "Epoch 11: val_loss did not improve from 0.30504\n",
            "133/133 [==============================] - 2s 17ms/step - loss: 0.0707 - accuracy: 0.9828 - val_loss: 0.3318 - val_accuracy: 0.8628\n",
            "Epoch 12/30\n",
            "132/133 [============================>.] - ETA: 0s - loss: 0.0587 - accuracy: 0.9870\n",
            "Epoch 12: val_loss did not improve from 0.30504\n",
            "133/133 [==============================] - 1s 8ms/step - loss: 0.0587 - accuracy: 0.9870 - val_loss: 0.3460 - val_accuracy: 0.8661\n",
            "Epoch 13/30\n",
            "133/133 [==============================] - ETA: 0s - loss: 0.0502 - accuracy: 0.9885\n",
            "Epoch 13: val_loss did not improve from 0.30504\n",
            "133/133 [==============================] - 2s 11ms/step - loss: 0.0502 - accuracy: 0.9885 - val_loss: 0.3588 - val_accuracy: 0.8651\n",
            "Epoch 14/30\n",
            "130/133 [============================>.] - ETA: 0s - loss: 0.0436 - accuracy: 0.9911\n",
            "Epoch 14: val_loss did not improve from 0.30504\n",
            "133/133 [==============================] - 2s 12ms/step - loss: 0.0435 - accuracy: 0.9911 - val_loss: 0.3746 - val_accuracy: 0.8651\n",
            "Epoch 15/30\n",
            "133/133 [==============================] - ETA: 0s - loss: 0.0370 - accuracy: 0.9923\n",
            "Epoch 15: val_loss did not improve from 0.30504\n",
            "Restoring model weights from the end of the best epoch: 7.\n",
            "133/133 [==============================] - 2s 15ms/step - loss: 0.0370 - accuracy: 0.9923 - val_loss: 0.3871 - val_accuracy: 0.8637\n",
            "Epoch 15: early stopping\n",
            "83/83 [==============================] - 0s 4ms/step - loss: 0.3153 - accuracy: 0.8698\n",
            "Test Accuracy: 86.98%\n"
          ]
        }
      ],
      "source": [
        "from tensorflow.keras.models import Sequential\n",
        "from tensorflow.keras.layers import Embedding, Dropout, Conv1D, GlobalMaxPooling1D, Dense\n",
        "from tensorflow.keras.optimizers import Adam\n",
        "from tensorflow.keras.callbacks import ModelCheckpoint, EarlyStopping\n",
        "\n",
        "# Define callbacks\n",
        "model_checkpoint = ModelCheckpoint('best_model.h5', save_best_only=True, save_weights_only=False, monitor='val_loss', mode='min', verbose=1)\n",
        "early_stopping = EarlyStopping(monitor='val_loss', patience=8, mode='min', restore_best_weights=True, verbose=1)\n",
        "\n",
        "model = Sequential()\n",
        "model.add(Embedding(input_dim=len(tokenizer.word_index) + 1, output_dim=1000, input_length=X_train_padded.shape[1]))\n",
        "model.add(Dropout(0.2))\n",
        "model.add(Conv1D(32, 5, activation='relu'))\n",
        "model.add(GlobalMaxPooling1D())\n",
        "model.add(Dense(32, activation='relu'))\n",
        "model.add(Dense(1, activation='sigmoid'))\n",
        "\n",
        "# Compile the model with an adjusted learning rate\n",
        "model.compile(optimizer=Adam(learning_rate=0.0001), loss='binary_crossentropy', metrics=['accuracy'])\n",
        "\n",
        "# Train the model with callbacks and modified validation metric\n",
        "history = model.fit(X_train_padded, y_train, epochs=30, batch_size=64, validation_split=0.2, callbacks=[model_checkpoint, early_stopping])\n",
        "\n",
        "# Load the best weights from the checkpoint\n",
        "model.load_weights('best_model.h5')\n",
        "\n",
        "# Evaluate the model on the test set\n",
        "loss, accuracy = model.evaluate(X_test_padded, y_test)\n",
        "print(f'Test Accuracy: {accuracy * 100:.2f}%')\n"
      ]
    },
    {
      "cell_type": "code",
      "source": [
        "model.summary()"
      ],
      "metadata": {
        "id": "izgXMWDYsbPw",
        "outputId": "a95b226d-102d-4db7-d1f0-0be567f06ffa",
        "colab": {
          "base_uri": "https://localhost:8080/"
        }
      },
      "execution_count": null,
      "outputs": [
        {
          "output_type": "stream",
          "name": "stdout",
          "text": [
            "Model: \"sequential\"\n",
            "_________________________________________________________________\n",
            " Layer (type)                Output Shape              Param #   \n",
            "=================================================================\n",
            " embedding (Embedding)       (None, 56, 1000)          11613000  \n",
            "                                                                 \n",
            " dropout (Dropout)           (None, 56, 1000)          0         \n",
            "                                                                 \n",
            " conv1d (Conv1D)             (None, 52, 32)            160032    \n",
            "                                                                 \n",
            " global_max_pooling1d (Glob  (None, 32)                0         \n",
            " alMaxPooling1D)                                                 \n",
            "                                                                 \n",
            " dense (Dense)               (None, 32)                1056      \n",
            "                                                                 \n",
            " dense_1 (Dense)             (None, 1)                 33        \n",
            "                                                                 \n",
            "=================================================================\n",
            "Total params: 11774121 (44.91 MB)\n",
            "Trainable params: 11774121 (44.91 MB)\n",
            "Non-trainable params: 0 (0.00 Byte)\n",
            "_________________________________________________________________\n"
          ]
        }
      ]
    },
    {
      "cell_type": "code",
      "execution_count": null,
      "metadata": {
        "colab": {
          "base_uri": "https://localhost:8080/"
        },
        "id": "MWhUb2NIb-qk",
        "outputId": "0c6d9216-0fe8-49f7-d88b-4e02aca4242d"
      },
      "outputs": [
        {
          "name": "stdout",
          "output_type": "stream",
          "text": [
            "Epoch 1/30\n",
            "265/265 [==============================] - 41s 106ms/step - loss: 0.4171 - accuracy: 0.4001 - val_loss: 0.3312 - val_accuracy: 0.5286\n",
            "Epoch 2/30\n",
            "265/265 [==============================] - 12s 47ms/step - loss: 0.3187 - accuracy: 0.5273 - val_loss: 0.2979 - val_accuracy: 0.4851\n",
            "Epoch 3/30\n",
            "265/265 [==============================] - 7s 28ms/step - loss: 0.2659 - accuracy: 0.5325 - val_loss: 0.2866 - val_accuracy: 0.5769\n",
            "Epoch 4/30\n",
            "265/265 [==============================] - 9s 35ms/step - loss: 0.2358 - accuracy: 0.5634 - val_loss: 0.2973 - val_accuracy: 0.6062\n",
            "Epoch 5/30\n",
            "265/265 [==============================] - 8s 28ms/step - loss: 0.2174 - accuracy: 0.5758 - val_loss: 0.3103 - val_accuracy: 0.5263\n",
            "Epoch 6/30\n",
            "265/265 [==============================] - 8s 30ms/step - loss: 0.2016 - accuracy: 0.5856 - val_loss: 0.3468 - val_accuracy: 0.5495\n",
            "Epoch 7/30\n",
            "265/265 [==============================] - 6s 24ms/step - loss: 0.1858 - accuracy: 0.5869 - val_loss: 0.3576 - val_accuracy: 0.5239\n",
            "Epoch 8/30\n",
            "265/265 [==============================] - 8s 30ms/step - loss: 0.1746 - accuracy: 0.5690 - val_loss: 0.4221 - val_accuracy: 0.5930\n",
            "83/83 [==============================] - 3s 8ms/step\n",
            "Test F1-Score: 62.81%\n"
          ]
        }
      ],
      "source": [
        "# Define early stopping\n",
        "early_stopping = EarlyStopping(monitor='val_loss', patience=5, restore_best_weights=True)\n",
        "\n",
        "# Compile the model with a different learning rate\n",
        "model.compile(optimizer=Adam(learning_rate=0.001), loss='binary_crossentropy', metrics=['accuracy'])\n",
        "\n",
        "# Train the model\n",
        "model.fit(X_train_padded, y_train.T, epochs=30, batch_size=32, validation_split=0.2, callbacks=[early_stopping])\n",
        "\n",
        "# Evaluate the model on the test set using F1-score\n",
        "y_pred = model.predict(X_test_padded)\n",
        "y_pred_binary = (y_pred > 0.5).astype(int)\n",
        "f1 = f1_score(y_test.T, y_pred_binary, average='micro')\n",
        "print(f'Test F1-Score: {f1 * 100:.2f}%')"
      ]
    },
    {
      "cell_type": "markdown",
      "metadata": {
        "id": "h0bWmdlPq8ko"
      },
      "source": [
        "8 labels :"
      ]
    },
    {
      "cell_type": "code",
      "execution_count": null,
      "metadata": {
        "id": "mKxYZ5g8q-Xv"
      },
      "outputs": [],
      "source": [
        "import numpy as np\n",
        "import tensorflow as tf\n",
        "# Convert labels to numpy arrays\n",
        "y_train = np.array([labels_HS, labels_Abusive, labels_HS_Individual, labels_HS_Group,\n",
        "                    labels_HS_Religion, labels_HS_Race, labels_HS_Physical, labels_HS_Gender])\n",
        "\n",
        "y_test = np.array([test_labels_HS, test_labels_Abusive, test_labels_HS_Individual, test_labels_HS_Group,\n",
        "                   test_labels_HS_Religion, test_labels_HS_Race, test_labels_HS_Physical, test_labels_HS_Gender])\n",
        "\n",
        "# Tokenize the sentences\n",
        "tokenizer = tf.keras.preprocessing.text.Tokenizer()\n",
        "tokenizer.fit_on_texts(sentences)\n",
        "\n",
        "X_train = tokenizer.texts_to_sequences(sentences)\n",
        "X_test = tokenizer.texts_to_sequences(test_sentences)\n",
        "\n",
        "# Pad sequences to ensure consistent length\n",
        "X_train_padded = tf.keras.preprocessing.sequence.pad_sequences(X_train, padding='post')\n",
        "X_test_padded = tf.keras.preprocessing.sequence.pad_sequences(X_test, padding='post')"
      ]
    },
    {
      "cell_type": "markdown",
      "metadata": {
        "id": "tM9VZqaMEJkQ"
      },
      "source": [
        "Version 1 test accuracy 87%"
      ]
    },
    {
      "cell_type": "code",
      "execution_count": null,
      "metadata": {
        "id": "oWoKpM-1q_5o"
      },
      "outputs": [],
      "source": [
        "import numpy as np\n",
        "import tensorflow as tf\n",
        "from tensorflow.keras.models import Sequential\n",
        "from tensorflow.keras.layers import Embedding, Bidirectional, LSTM, Dense, Dropout, SpatialDropout1D\n",
        "from tensorflow.keras.optimizers import Adam\n",
        "from tensorflow.keras.callbacks import ModelCheckpoint, EarlyStopping\n",
        "\n",
        "\n",
        "\n",
        "# Define a more complex model\n",
        "model = Sequential()\n",
        "model.add(Embedding(input_dim=len(tokenizer.word_index) + 1, output_dim=256, input_length=X_train_padded.shape[1]))\n",
        "model.add(SpatialDropout1D(0.6))\n",
        "model.add(Bidirectional(LSTM(128, return_sequences=True)))\n",
        "model.add(SpatialDropout1D(0.6))\n",
        "model.add(Bidirectional(LSTM(64)))\n",
        "model.add(Dense(128, activation='relu'))\n",
        "model.add(Dropout(0.6))\n",
        "model.add(Dense(64, activation='relu'))\n",
        "model.add(Dense(8, activation='sigmoid'))\n",
        "\n"
      ]
    },
    {
      "cell_type": "markdown",
      "metadata": {
        "id": "mLzh_rgUt5c-"
      },
      "source": [
        "another complexity"
      ]
    },
    {
      "cell_type": "code",
      "execution_count": null,
      "metadata": {
        "colab": {
          "base_uri": "https://localhost:8080/"
        },
        "id": "bCyy217_ttX1",
        "outputId": "96fc806c-0c30-4098-a4c0-2649d31a0887"
      },
      "outputs": [
        {
          "name": "stdout",
          "output_type": "stream",
          "text": [
            "Model: \"sequential_28\"\n",
            "_________________________________________________________________\n",
            " Layer (type)                Output Shape              Param #   \n",
            "=================================================================\n",
            " embedding_28 (Embedding)    (None, 56, 500)           5806500   \n",
            "                                                                 \n",
            " spatial_dropout1d_66 (Spat  (None, 56, 500)           0         \n",
            " ialDropout1D)                                                   \n",
            "                                                                 \n",
            " bidirectional_68 (Bidirect  (None, 56, 256)           644096    \n",
            " ional)                                                          \n",
            "                                                                 \n",
            " spatial_dropout1d_67 (Spat  (None, 56, 256)           0         \n",
            " ialDropout1D)                                                   \n",
            "                                                                 \n",
            " bidirectional_69 (Bidirect  (None, 128)               164352    \n",
            " ional)                                                          \n",
            "                                                                 \n",
            " dense_96 (Dense)            (None, 1024)              132096    \n",
            "                                                                 \n",
            " dropout_66 (Dropout)        (None, 1024)              0         \n",
            "                                                                 \n",
            " dense_97 (Dense)            (None, 512)               524800    \n",
            "                                                                 \n",
            " dropout_67 (Dropout)        (None, 512)               0         \n",
            "                                                                 \n",
            " dense_98 (Dense)            (None, 64)                32832     \n",
            "                                                                 \n",
            " dropout_68 (Dropout)        (None, 64)                0         \n",
            "                                                                 \n",
            " dense_99 (Dense)            (None, 8)                 520       \n",
            "                                                                 \n",
            "=================================================================\n",
            "Total params: 7305196 (27.87 MB)\n",
            "Trainable params: 7305196 (27.87 MB)\n",
            "Non-trainable params: 0 (0.00 Byte)\n",
            "_________________________________________________________________\n"
          ]
        }
      ],
      "source": [
        "from tensorflow.keras.callbacks import ModelCheckpoint, EarlyStopping\n",
        "# Define a more complex model\n",
        "model = Sequential()\n",
        "model.add(Embedding(input_dim=len(tokenizer.word_index) + 1, output_dim=500, input_length=X_train_padded.shape[1]))\n",
        "model.add(SpatialDropout1D(0.5))\n",
        "model.add(Bidirectional(LSTM(128, return_sequences=True)))\n",
        "model.add(SpatialDropout1D(0.5))\n",
        "model.add(Bidirectional(LSTM(64)))\n",
        "model.add(Dense(1024, activation='relu'))\n",
        "model.add(Dropout(0.5))\n",
        "model.add(Dense(512, activation='relu'))\n",
        "model.add(Dropout(0.5))\n",
        "model.add(Dense(64, activation='relu'))\n",
        "model.add(Dropout(0.5))\n",
        "model.add(Dense(8, activation='sigmoid'))\n",
        "\n",
        "model.summary()"
      ]
    },
    {
      "cell_type": "code",
      "execution_count": null,
      "metadata": {
        "colab": {
          "base_uri": "https://localhost:8080/"
        },
        "id": "l_inQrwniXg0",
        "outputId": "c9d13856-66e6-4d83-8e24-ed313300008b"
      },
      "outputs": [
        {
          "name": "stdout",
          "output_type": "stream",
          "text": [
            "Epoch 1/30\n",
            "67/67 [==============================] - ETA: 0s - loss: 0.6890 - accuracy: 0.0807\n",
            "Epoch 1: val_loss improved from inf to 0.68266, saving model to best_model.h5\n",
            "67/67 [==============================] - 22s 137ms/step - loss: 0.6890 - accuracy: 0.0807 - val_loss: 0.6827 - val_accuracy: 0.1259\n",
            "Epoch 2/30\n",
            "67/67 [==============================] - ETA: 0s - loss: 0.6665 - accuracy: 0.1179\n",
            "Epoch 2: val_loss improved from 0.68266 to 0.63626, saving model to best_model.h5\n",
            "67/67 [==============================] - 8s 118ms/step - loss: 0.6665 - accuracy: 0.1179 - val_loss: 0.6363 - val_accuracy: 0.1259\n",
            "Epoch 3/30\n",
            "67/67 [==============================] - ETA: 0s - loss: 0.5873 - accuracy: 0.1648\n",
            "Epoch 3: val_loss improved from 0.63626 to 0.48911, saving model to best_model.h5\n",
            "67/67 [==============================] - 5s 76ms/step - loss: 0.5873 - accuracy: 0.1648 - val_loss: 0.4891 - val_accuracy: 0.1259\n",
            "Epoch 4/30\n",
            "67/67 [==============================] - ETA: 0s - loss: 0.4840 - accuracy: 0.2257\n",
            "Epoch 4: val_loss improved from 0.48911 to 0.40023, saving model to best_model.h5\n",
            "67/67 [==============================] - 4s 55ms/step - loss: 0.4840 - accuracy: 0.2257 - val_loss: 0.4002 - val_accuracy: 0.1259\n",
            "Epoch 5/30\n",
            "67/67 [==============================] - ETA: 0s - loss: 0.4567 - accuracy: 0.2997\n",
            "Epoch 5: val_loss improved from 0.40023 to 0.38833, saving model to best_model.h5\n",
            "67/67 [==============================] - 5s 74ms/step - loss: 0.4567 - accuracy: 0.2997 - val_loss: 0.3883 - val_accuracy: 0.1259\n",
            "Epoch 6/30\n",
            "67/67 [==============================] - ETA: 0s - loss: 0.4518 - accuracy: 0.3284\n",
            "Epoch 6: val_loss improved from 0.38833 to 0.38658, saving model to best_model.h5\n",
            "67/67 [==============================] - 4s 66ms/step - loss: 0.4518 - accuracy: 0.3284 - val_loss: 0.3866 - val_accuracy: 0.1259\n",
            "Epoch 7/30\n",
            "67/67 [==============================] - ETA: 0s - loss: 0.4515 - accuracy: 0.3378\n",
            "Epoch 7: val_loss improved from 0.38658 to 0.38644, saving model to best_model.h5\n",
            "67/67 [==============================] - 2s 37ms/step - loss: 0.4515 - accuracy: 0.3378 - val_loss: 0.3864 - val_accuracy: 0.1259\n",
            "Epoch 8/30\n",
            "67/67 [==============================] - ETA: 0s - loss: 0.4504 - accuracy: 0.3401\n",
            "Epoch 8: val_loss improved from 0.38644 to 0.38491, saving model to best_model.h5\n",
            "67/67 [==============================] - 3s 43ms/step - loss: 0.4504 - accuracy: 0.3401 - val_loss: 0.3849 - val_accuracy: 0.1259\n",
            "Epoch 9/30\n",
            "67/67 [==============================] - ETA: 0s - loss: 0.4445 - accuracy: 0.3531\n",
            "Epoch 9: val_loss improved from 0.38491 to 0.38435, saving model to best_model.h5\n",
            "67/67 [==============================] - 5s 73ms/step - loss: 0.4445 - accuracy: 0.3531 - val_loss: 0.3843 - val_accuracy: 0.1259\n",
            "Epoch 10/30\n",
            "67/67 [==============================] - ETA: 0s - loss: 0.4439 - accuracy: 0.3524\n",
            "Epoch 10: val_loss improved from 0.38435 to 0.38379, saving model to best_model.h5\n",
            "67/67 [==============================] - 3s 44ms/step - loss: 0.4439 - accuracy: 0.3524 - val_loss: 0.3838 - val_accuracy: 0.1259\n",
            "Epoch 11/30\n",
            "67/67 [==============================] - ETA: 0s - loss: 0.4418 - accuracy: 0.3582\n",
            "Epoch 11: val_loss improved from 0.38379 to 0.38361, saving model to best_model.h5\n",
            "67/67 [==============================] - 3s 39ms/step - loss: 0.4418 - accuracy: 0.3582 - val_loss: 0.3836 - val_accuracy: 0.1259\n",
            "Epoch 12/30\n",
            "67/67 [==============================] - ETA: 0s - loss: 0.4421 - accuracy: 0.3563\n",
            "Epoch 12: val_loss did not improve from 0.38361\n",
            "67/67 [==============================] - 2s 34ms/step - loss: 0.4421 - accuracy: 0.3563 - val_loss: 0.3837 - val_accuracy: 0.1259\n",
            "Epoch 13/30\n",
            "67/67 [==============================] - ETA: 0s - loss: 0.4389 - accuracy: 0.3521\n",
            "Epoch 13: val_loss improved from 0.38361 to 0.38262, saving model to best_model.h5\n",
            "67/67 [==============================] - 3s 38ms/step - loss: 0.4389 - accuracy: 0.3521 - val_loss: 0.3826 - val_accuracy: 0.1259\n",
            "Epoch 14/30\n",
            "67/67 [==============================] - ETA: 0s - loss: 0.4391 - accuracy: 0.3746\n",
            "Epoch 14: val_loss did not improve from 0.38262\n",
            "67/67 [==============================] - 3s 38ms/step - loss: 0.4391 - accuracy: 0.3746 - val_loss: 0.3828 - val_accuracy: 0.1259\n",
            "Epoch 15/30\n",
            "67/67 [==============================] - ETA: 0s - loss: 0.4370 - accuracy: 0.3652\n",
            "Epoch 15: val_loss improved from 0.38262 to 0.38195, saving model to best_model.h5\n",
            "67/67 [==============================] - 3s 47ms/step - loss: 0.4370 - accuracy: 0.3652 - val_loss: 0.3819 - val_accuracy: 0.1259\n",
            "Epoch 16/30\n",
            "67/67 [==============================] - ETA: 0s - loss: 0.4382 - accuracy: 0.3707\n",
            "Epoch 16: val_loss did not improve from 0.38195\n",
            "67/67 [==============================] - 2s 35ms/step - loss: 0.4382 - accuracy: 0.3707 - val_loss: 0.3823 - val_accuracy: 0.1278\n",
            "Epoch 17/30\n",
            "67/67 [==============================] - ETA: 0s - loss: 0.4360 - accuracy: 0.3823\n",
            "Epoch 17: val_loss improved from 0.38195 to 0.38105, saving model to best_model.h5\n",
            "67/67 [==============================] - 2s 36ms/step - loss: 0.4360 - accuracy: 0.3823 - val_loss: 0.3810 - val_accuracy: 0.1633\n",
            "Epoch 18/30\n",
            "67/67 [==============================] - ETA: 0s - loss: 0.4355 - accuracy: 0.3808\n",
            "Epoch 18: val_loss did not improve from 0.38105\n",
            "67/67 [==============================] - 2s 31ms/step - loss: 0.4355 - accuracy: 0.3808 - val_loss: 0.3815 - val_accuracy: 0.2305\n",
            "Epoch 19/30\n",
            "67/67 [==============================] - ETA: 0s - loss: 0.4340 - accuracy: 0.3970\n",
            "Epoch 19: val_loss improved from 0.38105 to 0.38048, saving model to best_model.h5\n",
            "67/67 [==============================] - 3s 42ms/step - loss: 0.4340 - accuracy: 0.3970 - val_loss: 0.3805 - val_accuracy: 0.2186\n",
            "Epoch 20/30\n",
            "67/67 [==============================] - ETA: 0s - loss: 0.4336 - accuracy: 0.3815\n",
            "Epoch 20: val_loss improved from 0.38048 to 0.38013, saving model to best_model.h5\n",
            "67/67 [==============================] - 3s 47ms/step - loss: 0.4336 - accuracy: 0.3815 - val_loss: 0.3801 - val_accuracy: 0.2934\n",
            "Epoch 21/30\n",
            "67/67 [==============================] - ETA: 0s - loss: 0.4333 - accuracy: 0.3949\n",
            "Epoch 21: val_loss did not improve from 0.38013\n",
            "67/67 [==============================] - 3s 43ms/step - loss: 0.4333 - accuracy: 0.3949 - val_loss: 0.3805 - val_accuracy: 0.4184\n",
            "Epoch 22/30\n",
            "67/67 [==============================] - ETA: 0s - loss: 0.4298 - accuracy: 0.3966\n",
            "Epoch 22: val_loss improved from 0.38013 to 0.37962, saving model to best_model.h5\n",
            "67/67 [==============================] - 2s 36ms/step - loss: 0.4298 - accuracy: 0.3966 - val_loss: 0.3796 - val_accuracy: 0.4255\n",
            "Epoch 23/30\n",
            "66/67 [============================>.] - ETA: 0s - loss: 0.4313 - accuracy: 0.3875\n",
            "Epoch 23: val_loss did not improve from 0.37962\n",
            "67/67 [==============================] - 2s 28ms/step - loss: 0.4313 - accuracy: 0.3878 - val_loss: 0.3796 - val_accuracy: 0.3654\n",
            "Epoch 24/30\n",
            "67/67 [==============================] - ETA: 0s - loss: 0.4323 - accuracy: 0.3914\n",
            "Epoch 24: val_loss did not improve from 0.37962\n",
            "67/67 [==============================] - 2s 29ms/step - loss: 0.4323 - accuracy: 0.3914 - val_loss: 0.3797 - val_accuracy: 0.4297\n",
            "Epoch 25/30\n",
            "66/67 [============================>.] - ETA: 0s - loss: 0.4298 - accuracy: 0.4028\n",
            "Epoch 25: val_loss did not improve from 0.37962\n",
            "67/67 [==============================] - 2s 32ms/step - loss: 0.4299 - accuracy: 0.4028 - val_loss: 0.3796 - val_accuracy: 0.4458\n",
            "Epoch 26/30\n",
            "66/67 [============================>.] - ETA: 0s - loss: 0.4292 - accuracy: 0.4012\n",
            "Epoch 26: val_loss improved from 0.37962 to 0.37929, saving model to best_model.h5\n",
            "67/67 [==============================] - 3s 40ms/step - loss: 0.4292 - accuracy: 0.4013 - val_loss: 0.3793 - val_accuracy: 0.4709\n",
            "Epoch 27/30\n",
            "66/67 [============================>.] - ETA: 0s - loss: 0.4294 - accuracy: 0.4004\n",
            "Epoch 27: val_loss improved from 0.37929 to 0.37889, saving model to best_model.h5\n",
            "67/67 [==============================] - 3s 47ms/step - loss: 0.4294 - accuracy: 0.4005 - val_loss: 0.3789 - val_accuracy: 0.4936\n",
            "Epoch 28/30\n",
            "66/67 [============================>.] - ETA: 0s - loss: 0.4281 - accuracy: 0.4055\n",
            "Epoch 28: val_loss improved from 0.37889 to 0.37872, saving model to best_model.h5\n",
            "67/67 [==============================] - 2s 36ms/step - loss: 0.4282 - accuracy: 0.4054 - val_loss: 0.3787 - val_accuracy: 0.5007\n",
            "Epoch 29/30\n",
            "67/67 [==============================] - ETA: 0s - loss: 0.4256 - accuracy: 0.4080\n",
            "Epoch 29: val_loss improved from 0.37872 to 0.37786, saving model to best_model.h5\n",
            "67/67 [==============================] - 2s 35ms/step - loss: 0.4256 - accuracy: 0.4080 - val_loss: 0.3779 - val_accuracy: 0.5835\n",
            "Epoch 30/30\n",
            "67/67 [==============================] - ETA: 0s - loss: 0.4265 - accuracy: 0.4175\n",
            "Epoch 30: val_loss improved from 0.37786 to 0.37768, saving model to best_model.h5\n",
            "67/67 [==============================] - 5s 72ms/step - loss: 0.4265 - accuracy: 0.4175 - val_loss: 0.3777 - val_accuracy: 0.6294\n",
            "83/83 [==============================] - 2s 8ms/step - loss: 0.3689 - accuracy: 0.6170\n",
            "Test Accuracy: 61.70%\n"
          ]
        }
      ],
      "source": [
        "# Define callbacks\n",
        "model_checkpoint = ModelCheckpoint('best_model.h5', save_best_only=True, save_weights_only=False, monitor='val_loss', mode='min', verbose=1)\n",
        "early_stopping = EarlyStopping(monitor='val_loss', patience=5, mode='min', restore_best_weights=True, verbose=1)\n",
        "\n",
        "# Compile the model with an adjusted learning rate\n",
        "model.compile(optimizer=Adam(learning_rate=0.00001), loss='binary_crossentropy', metrics=['accuracy'])\n",
        "\n",
        "# Train the model with callbacks\n",
        "history = model.fit(X_train_padded, y_train.T, epochs=30, batch_size=128, validation_split=0.2, callbacks=[model_checkpoint, early_stopping])\n",
        "\n",
        "# Load the best weights from the checkpoint\n",
        "model.load_weights('best_model.h5')\n",
        "\n",
        "# Evaluate the model on the test set\n",
        "loss, accuracy = model.evaluate(X_test_padded, y_test.T)\n",
        "print(f'Test Accuracy: {accuracy * 100:.2f}%')"
      ]
    },
    {
      "cell_type": "markdown",
      "metadata": {
        "id": "jLvLQENkEPbP"
      },
      "source": [
        "Version 2 coba2 menggunakan pretrained embeddings Optional"
      ]
    },
    {
      "cell_type": "code",
      "execution_count": null,
      "metadata": {
        "colab": {
          "base_uri": "https://localhost:8080/"
        },
        "id": "SV7L0i8o0cpr",
        "outputId": "45d04004-5270-461c-e059-25aa676b6f88"
      },
      "outputs": [
        {
          "name": "stderr",
          "output_type": "stream",
          "text": [
            "Asking to truncate to max_length but no maximum length is provided and the model has no predefined maximum length. Default to no truncation.\n"
          ]
        }
      ],
      "source": [
        "# Define a tokenizer\n",
        "tokenizer = AutoTokenizer.from_pretrained(\"sarahlintang/IndoBERT\")\n",
        "\n",
        "# Convert labels to numpy arrays\n",
        "y_train = np.array([labels_HS, labels_Abusive, labels_HS_Individual, labels_HS_Group,\n",
        "                    labels_HS_Religion, labels_HS_Race, labels_HS_Physical, labels_HS_Gender])\n",
        "\n",
        "y_test = np.array([test_labels_HS, test_labels_Abusive, test_labels_HS_Individual, test_labels_HS_Group,\n",
        "                   test_labels_HS_Religion, test_labels_HS_Race, test_labels_HS_Physical, test_labels_HS_Gender])\n",
        "\n",
        "# Tokenize the sentences\n",
        "X_train = tokenizer(sentences, return_tensors=\"tf\", padding=True, truncation=True)\n",
        "X_test = tokenizer(test_sentences, return_tensors=\"tf\", padding=True, truncation=True)\n",
        "\n",
        "# Extract the input IDs from the tokenizer output\n",
        "X_train_padded = X_train[\"input_ids\"]\n",
        "X_test_padded = X_test[\"input_ids\"]"
      ]
    },
    {
      "cell_type": "code",
      "execution_count": null,
      "metadata": {
        "colab": {
          "base_uri": "https://localhost:8080/",
          "height": 245
        },
        "id": "dnYAZBvCEPO3",
        "outputId": "443fe18f-26ce-420e-973a-8a3123d11bef"
      },
      "outputs": [
        {
          "ename": "NameError",
          "evalue": "ignored",
          "output_type": "error",
          "traceback": [
            "\u001b[0;31m---------------------------------------------------------------------------\u001b[0m",
            "\u001b[0;31mNameError\u001b[0m                                 Traceback (most recent call last)",
            "\u001b[0;32m<ipython-input-12-14f46e3c9082>\u001b[0m in \u001b[0;36m<cell line: 2>\u001b[0;34m()\u001b[0m\n\u001b[1;32m      1\u001b[0m \u001b[0;31m# Define callbacks\u001b[0m\u001b[0;34m\u001b[0m\u001b[0;34m\u001b[0m\u001b[0m\n\u001b[0;32m----> 2\u001b[0;31m \u001b[0mmodel_checkpoint\u001b[0m \u001b[0;34m=\u001b[0m \u001b[0mModelCheckpoint\u001b[0m\u001b[0;34m(\u001b[0m\u001b[0;34m'best_model.h5'\u001b[0m\u001b[0;34m,\u001b[0m \u001b[0msave_best_only\u001b[0m\u001b[0;34m=\u001b[0m\u001b[0;32mTrue\u001b[0m\u001b[0;34m,\u001b[0m \u001b[0msave_weights_only\u001b[0m\u001b[0;34m=\u001b[0m\u001b[0;32mFalse\u001b[0m\u001b[0;34m,\u001b[0m \u001b[0mmonitor\u001b[0m\u001b[0;34m=\u001b[0m\u001b[0;34m'val_loss'\u001b[0m\u001b[0;34m,\u001b[0m \u001b[0mmode\u001b[0m\u001b[0;34m=\u001b[0m\u001b[0;34m'min'\u001b[0m\u001b[0;34m,\u001b[0m \u001b[0mverbose\u001b[0m\u001b[0;34m=\u001b[0m\u001b[0;36m1\u001b[0m\u001b[0;34m)\u001b[0m\u001b[0;34m\u001b[0m\u001b[0;34m\u001b[0m\u001b[0m\n\u001b[0m\u001b[1;32m      3\u001b[0m \u001b[0mearly_stopping\u001b[0m \u001b[0;34m=\u001b[0m \u001b[0mEarlyStopping\u001b[0m\u001b[0;34m(\u001b[0m\u001b[0mmonitor\u001b[0m\u001b[0;34m=\u001b[0m\u001b[0;34m'val_loss'\u001b[0m\u001b[0;34m,\u001b[0m \u001b[0mpatience\u001b[0m\u001b[0;34m=\u001b[0m\u001b[0;36m5\u001b[0m\u001b[0;34m,\u001b[0m \u001b[0mmode\u001b[0m\u001b[0;34m=\u001b[0m\u001b[0;34m'min'\u001b[0m\u001b[0;34m,\u001b[0m \u001b[0mrestore_best_weights\u001b[0m\u001b[0;34m=\u001b[0m\u001b[0;32mTrue\u001b[0m\u001b[0;34m,\u001b[0m \u001b[0mverbose\u001b[0m\u001b[0;34m=\u001b[0m\u001b[0;36m1\u001b[0m\u001b[0;34m)\u001b[0m\u001b[0;34m\u001b[0m\u001b[0;34m\u001b[0m\u001b[0m\n\u001b[1;32m      4\u001b[0m \u001b[0;34m\u001b[0m\u001b[0m\n\u001b[1;32m      5\u001b[0m \u001b[0;31m# Define a more complex model\u001b[0m\u001b[0;34m\u001b[0m\u001b[0;34m\u001b[0m\u001b[0m\n",
            "\u001b[0;31mNameError\u001b[0m: name 'ModelCheckpoint' is not defined"
          ]
        }
      ],
      "source": [
        "# Define callbacks\n",
        "model_checkpoint = ModelCheckpoint('best_model.h5', save_best_only=True, save_weights_only=False, monitor='val_loss', mode='min', verbose=1)\n",
        "early_stopping = EarlyStopping(monitor='val_loss', patience=5, mode='min', restore_best_weights=True, verbose=1)\n",
        "\n",
        "# Define a more complex model\n",
        "model = Sequential()\n",
        "model.add(Embedding(input_dim=len(tokenizer.get_vocab()) + 1, output_dim=256, input_length=X_train_padded.shape[1]))\n",
        "model.add(SpatialDropout1D(0.6))\n",
        "model.add(Bidirectional(LSTM(128, return_sequences=True)))\n",
        "model.add(SpatialDropout1D(0.6))\n",
        "model.add(Bidirectional(LSTM(64)))\n",
        "model.add(Dense(128, activation='relu'))\n",
        "model.add(Dropout(0.6))\n",
        "model.add(Dense(64, activation='relu'))\n",
        "model.add(Dense(8, activation='sigmoid'))\n",
        "\n",
        "# Compile the model with an adjusted learning rate\n",
        "model.compile(optimizer=Adam(learning_rate=0.00001), loss='binary_crossentropy', metrics=['accuracy'])\n",
        "\n",
        "# Train the model with callbacks\n",
        "history = model.fit(X_train_padded, y_train.T, epochs=30, batch_size=128, validation_split=0.2, callbacks=[model_checkpoint, early_stopping])\n",
        "\n",
        "# Load the best weights from the checkpoint\n",
        "model.load_weights('best_model.h5')\n",
        "\n",
        "# Evaluate the model on the test set\n",
        "loss, accuracy = model.evaluate(X_test_padded, y_test.T)\n",
        "print(f'Test Accuracy: {accuracy * 100:.2f}%')"
      ]
    },
    {
      "cell_type": "markdown",
      "metadata": {
        "id": "LqGpxRdRq_Vw"
      },
      "source": [
        "Version 3 just make it sentiment analysis"
      ]
    },
    {
      "cell_type": "code",
      "execution_count": null,
      "metadata": {
        "id": "zlPfIzGmTeWk"
      },
      "outputs": [],
      "source": [
        "import numpy as np\n",
        "import tensorflow as tf\n",
        "from tensorflow.keras.models import Sequential\n",
        "from tensorflow.keras.layers import Embedding, Bidirectional, LSTM, Dense, Dropout, SpatialDropout1D, GlobalMaxPooling1D\n",
        "from tensorflow.keras.optimizers import Adam\n",
        "from tensorflow.keras.callbacks import ModelCheckpoint, EarlyStopping\n",
        "\n",
        "# Convert labels to binary classification (positive or not)\n",
        "y_train_binary = (np.sum([labels_HS, labels_Abusive, labels_HS_Individual, labels_HS_Group,\n",
        "                          labels_HS_Religion, labels_HS_Race, labels_HS_Physical, labels_HS_Gender], axis=0) > 0).astype(int)\n",
        "\n",
        "y_test_binary = (np.sum([test_labels_HS, test_labels_Abusive, test_labels_HS_Individual, test_labels_HS_Group,\n",
        "                         test_labels_HS_Religion, test_labels_HS_Race, test_labels_HS_Physical, test_labels_HS_Gender], axis=0) > 0).astype(int)\n",
        "\n",
        "# Tokenize the sentences\n",
        "tokenizer = tf.keras.preprocessing.text.Tokenizer()\n",
        "tokenizer.fit_on_texts(sentences)\n",
        "\n",
        "X_train = tokenizer.texts_to_sequences(sentences)\n",
        "X_test = tokenizer.texts_to_sequences(test_sentences)\n",
        "\n",
        "# Pad sequences to ensure consistent length\n",
        "X_train_padded = tf.keras.preprocessing.sequence.pad_sequences(X_train, padding='post')\n",
        "X_test_padded = tf.keras.preprocessing.sequence.pad_sequences(X_test, padding='post')"
      ]
    },
    {
      "cell_type": "code",
      "execution_count": null,
      "metadata": {
        "colab": {
          "base_uri": "https://localhost:8080/"
        },
        "id": "K8udkj_AGAce",
        "outputId": "f7a885f0-7dd8-494b-e60d-f11a00c7e206"
      },
      "outputs": [
        {
          "output_type": "stream",
          "name": "stdout",
          "text": [
            "Epoch 1/30\n",
            "133/133 [==============================] - ETA: 0s - loss: 0.6838 - accuracy: 0.5584\n",
            "Epoch 1: val_loss improved from inf to 0.66801, saving model to best_model.h5\n"
          ]
        },
        {
          "output_type": "stream",
          "name": "stderr",
          "text": [
            "/usr/local/lib/python3.10/dist-packages/keras/src/engine/training.py:3103: UserWarning: You are saving your model as an HDF5 file via `model.save()`. This file format is considered legacy. We recommend using instead the native Keras format, e.g. `model.save('my_model.keras')`.\n",
            "  saving_api.save_model(\n"
          ]
        },
        {
          "output_type": "stream",
          "name": "stdout",
          "text": [
            "\b\b\b\b\b\b\b\b\b\b\b\b\b\b\b\b\b\b\b\b\b\b\b\b\b\b\b\b\b\b\b\b\b\b\b\b\b\b\b\b\b\b\b\b\b\b\b\b\b\b\b\b\b\b\b\b\b\b\b\b\b\b\b\b\b\b\b\b\b\b\b\b\b\b\b\b\b\b\b\b\b\b\b\b\r133/133 [==============================] - 24s 133ms/step - loss: 0.6838 - accuracy: 0.5584 - val_loss: 0.6680 - val_accuracy: 0.5745\n",
            "Epoch 2/30\n",
            "133/133 [==============================] - ETA: 0s - loss: 0.6400 - accuracy: 0.6744\n",
            "Epoch 2: val_loss improved from 0.66801 to 0.58509, saving model to best_model.h5\n",
            "133/133 [==============================] - 10s 77ms/step - loss: 0.6400 - accuracy: 0.6744 - val_loss: 0.5851 - val_accuracy: 0.7440\n",
            "Epoch 3/30\n",
            "133/133 [==============================] - ETA: 0s - loss: 0.4826 - accuracy: 0.7973\n",
            "Epoch 3: val_loss improved from 0.58509 to 0.42773, saving model to best_model.h5\n",
            "133/133 [==============================] - 5s 37ms/step - loss: 0.4826 - accuracy: 0.7973 - val_loss: 0.4277 - val_accuracy: 0.7918\n",
            "Epoch 4/30\n",
            "133/133 [==============================] - ETA: 0s - loss: 0.3362 - accuracy: 0.8684\n",
            "Epoch 4: val_loss improved from 0.42773 to 0.36217, saving model to best_model.h5\n",
            "133/133 [==============================] - 5s 36ms/step - loss: 0.3362 - accuracy: 0.8684 - val_loss: 0.3622 - val_accuracy: 0.8396\n",
            "Epoch 5/30\n",
            "133/133 [==============================] - ETA: 0s - loss: 0.2587 - accuracy: 0.9000\n",
            "Epoch 5: val_loss improved from 0.36217 to 0.35056, saving model to best_model.h5\n",
            "133/133 [==============================] - 5s 36ms/step - loss: 0.2587 - accuracy: 0.9000 - val_loss: 0.3506 - val_accuracy: 0.8533\n",
            "Epoch 6/30\n",
            "133/133 [==============================] - ETA: 0s - loss: 0.2102 - accuracy: 0.9213\n",
            "Epoch 6: val_loss improved from 0.35056 to 0.34268, saving model to best_model.h5\n",
            "133/133 [==============================] - 4s 28ms/step - loss: 0.2102 - accuracy: 0.9213 - val_loss: 0.3427 - val_accuracy: 0.8609\n",
            "Epoch 7/30\n",
            "133/133 [==============================] - ETA: 0s - loss: 0.1787 - accuracy: 0.9363\n",
            "Epoch 7: val_loss did not improve from 0.34268\n",
            "133/133 [==============================] - 4s 28ms/step - loss: 0.1787 - accuracy: 0.9363 - val_loss: 0.3499 - val_accuracy: 0.8628\n",
            "Epoch 8/30\n",
            "131/133 [============================>.] - ETA: 0s - loss: 0.1468 - accuracy: 0.9480\n",
            "Epoch 8: val_loss did not improve from 0.34268\n",
            "133/133 [==============================] - 3s 25ms/step - loss: 0.1463 - accuracy: 0.9481 - val_loss: 0.3688 - val_accuracy: 0.8623\n",
            "Epoch 9/30\n",
            "133/133 [==============================] - ETA: 0s - loss: 0.1201 - accuracy: 0.9604\n",
            "Epoch 9: val_loss did not improve from 0.34268\n",
            "133/133 [==============================] - 2s 19ms/step - loss: 0.1201 - accuracy: 0.9604 - val_loss: 0.3917 - val_accuracy: 0.8618\n",
            "Epoch 10/30\n",
            "133/133 [==============================] - ETA: 0s - loss: 0.1137 - accuracy: 0.9627\n",
            "Epoch 10: val_loss did not improve from 0.34268\n",
            "133/133 [==============================] - 2s 17ms/step - loss: 0.1137 - accuracy: 0.9627 - val_loss: 0.4129 - val_accuracy: 0.8609\n",
            "Epoch 11/30\n",
            "133/133 [==============================] - ETA: 0s - loss: 0.0989 - accuracy: 0.9657\n",
            "Epoch 11: val_loss did not improve from 0.34268\n",
            "133/133 [==============================] - 3s 21ms/step - loss: 0.0989 - accuracy: 0.9657 - val_loss: 0.4345 - val_accuracy: 0.8604\n",
            "Epoch 12/30\n",
            "133/133 [==============================] - ETA: 0s - loss: 0.0865 - accuracy: 0.9709\n",
            "Epoch 12: val_loss did not improve from 0.34268\n",
            "133/133 [==============================] - 2s 18ms/step - loss: 0.0865 - accuracy: 0.9709 - val_loss: 0.4687 - val_accuracy: 0.8561\n",
            "Epoch 13/30\n",
            "132/133 [============================>.] - ETA: 0s - loss: 0.0836 - accuracy: 0.9734\n",
            "Epoch 13: val_loss did not improve from 0.34268\n",
            "133/133 [==============================] - 2s 18ms/step - loss: 0.0836 - accuracy: 0.9734 - val_loss: 0.4791 - val_accuracy: 0.8561\n",
            "Epoch 14/30\n",
            "133/133 [==============================] - ETA: 0s - loss: 0.0716 - accuracy: 0.9766\n",
            "Epoch 14: val_loss did not improve from 0.34268\n",
            "Restoring model weights from the end of the best epoch: 6.\n",
            "133/133 [==============================] - 2s 18ms/step - loss: 0.0716 - accuracy: 0.9766 - val_loss: 0.5137 - val_accuracy: 0.8490\n",
            "Epoch 14: early stopping\n",
            "83/83 [==============================] - 1s 4ms/step - loss: 0.3458 - accuracy: 0.8562\n",
            "Test Accuracy: 85.62%\n"
          ]
        }
      ],
      "source": [
        "# Define callbacks\n",
        "model_checkpoint = ModelCheckpoint('best_model.h5', save_best_only=True, save_weights_only=False, monitor='val_loss', mode='min', verbose=1)\n",
        "early_stopping = EarlyStopping(monitor='val_loss', patience=8, mode='min', restore_best_weights=True, verbose=1)\n",
        "\n",
        "model = Sequential()\n",
        "model.add(Embedding(input_dim=len(tokenizer.word_index) + 1, output_dim=1000, input_length=X_train_padded.shape[1]))\n",
        "model.add(SpatialDropout1D(0.5))  # Increase dropout rate\n",
        "model.add(Bidirectional(LSTM(64, return_sequences=True)))  # Reduce LSTM units\n",
        "model.add(GlobalMaxPooling1D())\n",
        "model.add(Dense(64, activation='relu'))\n",
        "model.add(Dropout(0.5))  # Increase dropout rate\n",
        "model.add(Dense(1, activation='sigmoid'))\n",
        "\n",
        "# Compile the model with an adjusted learning rate\n",
        "model.compile(optimizer=Adam(learning_rate=0.0001), loss='binary_crossentropy', metrics=['accuracy'])\n",
        "\n",
        "# Train the model with callbacks and modified validation metric\n",
        "history = model.fit(X_train_padded, y_train_binary, epochs=30, batch_size=64, validation_split=0.2, callbacks=[model_checkpoint, early_stopping])\n",
        "\n",
        "# Load the best weights from the checkpoint\n",
        "model.load_weights('best_model.h5')\n",
        "\n",
        "# Evaluate the model on the test set\n",
        "loss, accuracy = model.evaluate(X_test_padded, y_test_binary)\n",
        "print(f'Test Accuracy: {accuracy * 100:.2f}%')"
      ]
    },
    {
      "cell_type": "markdown",
      "source": [
        "using transfer learning CNN"
      ],
      "metadata": {
        "id": "OUgx2Nh55SDg"
      }
    },
    {
      "cell_type": "code",
      "execution_count": null,
      "metadata": {
        "colab": {
          "base_uri": "https://localhost:8080/"
        },
        "id": "tBMAwP0aXrtO",
        "outputId": "40d89e48-fbd4-4273-d511-3fa74b5eb703"
      },
      "outputs": [
        {
          "output_type": "stream",
          "name": "stdout",
          "text": [
            "Epoch 1/30\n",
            "133/133 [==============================] - ETA: 0s - loss: 0.6749 - accuracy: 0.5763\n",
            "Epoch 1: val_loss improved from inf to 0.65762, saving model to best_model.h5\n",
            "133/133 [==============================] - 13s 86ms/step - loss: 0.6749 - accuracy: 0.5763 - val_loss: 0.6576 - val_accuracy: 0.6309\n",
            "Epoch 2/30\n",
            "133/133 [==============================] - ETA: 0s - loss: 0.6235 - accuracy: 0.7177\n",
            "Epoch 2: val_loss improved from 0.65762 to 0.59247, saving model to best_model.h5\n",
            "133/133 [==============================] - 6s 44ms/step - loss: 0.6235 - accuracy: 0.7177 - val_loss: 0.5925 - val_accuracy: 0.7567\n",
            "Epoch 3/30\n",
            "133/133 [==============================] - ETA: 0s - loss: 0.5101 - accuracy: 0.8335\n",
            "Epoch 3: val_loss improved from 0.59247 to 0.47770, saving model to best_model.h5\n",
            "133/133 [==============================] - 4s 27ms/step - loss: 0.5101 - accuracy: 0.8335 - val_loss: 0.4777 - val_accuracy: 0.8069\n",
            "Epoch 4/30\n",
            "133/133 [==============================] - ETA: 0s - loss: 0.3670 - accuracy: 0.8821\n",
            "Epoch 4: val_loss improved from 0.47770 to 0.38049, saving model to best_model.h5\n",
            "133/133 [==============================] - 4s 30ms/step - loss: 0.3670 - accuracy: 0.8821 - val_loss: 0.3805 - val_accuracy: 0.8381\n",
            "Epoch 5/30\n",
            "133/133 [==============================] - ETA: 0s - loss: 0.2626 - accuracy: 0.9126\n",
            "Epoch 5: val_loss improved from 0.38049 to 0.33351, saving model to best_model.h5\n",
            "133/133 [==============================] - 3s 23ms/step - loss: 0.2626 - accuracy: 0.9126 - val_loss: 0.3335 - val_accuracy: 0.8542\n",
            "Epoch 6/30\n",
            "132/133 [============================>.] - ETA: 0s - loss: 0.2005 - accuracy: 0.9379\n",
            "Epoch 6: val_loss improved from 0.33351 to 0.31491, saving model to best_model.h5\n",
            "133/133 [==============================] - 2s 17ms/step - loss: 0.2005 - accuracy: 0.9379 - val_loss: 0.3149 - val_accuracy: 0.8590\n",
            "Epoch 7/30\n",
            "133/133 [==============================] - ETA: 0s - loss: 0.1595 - accuracy: 0.9520\n",
            "Epoch 7: val_loss improved from 0.31491 to 0.31266, saving model to best_model.h5\n",
            "133/133 [==============================] - 2s 16ms/step - loss: 0.1595 - accuracy: 0.9520 - val_loss: 0.3127 - val_accuracy: 0.8618\n",
            "Epoch 8/30\n",
            "133/133 [==============================] - ETA: 0s - loss: 0.1303 - accuracy: 0.9636\n",
            "Epoch 8: val_loss improved from 0.31266 to 0.31234, saving model to best_model.h5\n",
            "133/133 [==============================] - 2s 16ms/step - loss: 0.1303 - accuracy: 0.9636 - val_loss: 0.3123 - val_accuracy: 0.8632\n",
            "Epoch 9/30\n",
            "133/133 [==============================] - ETA: 0s - loss: 0.1067 - accuracy: 0.9705\n",
            "Epoch 9: val_loss did not improve from 0.31234\n",
            "133/133 [==============================] - 2s 17ms/step - loss: 0.1067 - accuracy: 0.9705 - val_loss: 0.3176 - val_accuracy: 0.8646\n",
            "Epoch 10/30\n",
            "132/133 [============================>.] - ETA: 0s - loss: 0.0895 - accuracy: 0.9760\n",
            "Epoch 10: val_loss did not improve from 0.31234\n",
            "133/133 [==============================] - 2s 13ms/step - loss: 0.0895 - accuracy: 0.9760 - val_loss: 0.3265 - val_accuracy: 0.8651\n",
            "Epoch 11/30\n",
            "133/133 [==============================] - ETA: 0s - loss: 0.0745 - accuracy: 0.9809\n",
            "Epoch 11: val_loss did not improve from 0.31234\n",
            "133/133 [==============================] - 2s 15ms/step - loss: 0.0745 - accuracy: 0.9809 - val_loss: 0.3368 - val_accuracy: 0.8623\n",
            "Epoch 12/30\n",
            "133/133 [==============================] - ETA: 0s - loss: 0.0629 - accuracy: 0.9845\n",
            "Epoch 12: val_loss did not improve from 0.31234\n",
            "133/133 [==============================] - 2s 14ms/step - loss: 0.0629 - accuracy: 0.9845 - val_loss: 0.3471 - val_accuracy: 0.8656\n",
            "Epoch 13/30\n",
            "133/133 [==============================] - ETA: 0s - loss: 0.0538 - accuracy: 0.9883\n",
            "Epoch 13: val_loss did not improve from 0.31234\n",
            "133/133 [==============================] - 2s 13ms/step - loss: 0.0538 - accuracy: 0.9883 - val_loss: 0.3598 - val_accuracy: 0.8675\n",
            "Epoch 14/30\n",
            "133/133 [==============================] - ETA: 0s - loss: 0.0461 - accuracy: 0.9905\n",
            "Epoch 14: val_loss did not improve from 0.31234\n",
            "133/133 [==============================] - 1s 11ms/step - loss: 0.0461 - accuracy: 0.9905 - val_loss: 0.3762 - val_accuracy: 0.8599\n",
            "Epoch 15/30\n",
            "133/133 [==============================] - ETA: 0s - loss: 0.0401 - accuracy: 0.9912\n",
            "Epoch 15: val_loss did not improve from 0.31234\n",
            "133/133 [==============================] - 2s 12ms/step - loss: 0.0401 - accuracy: 0.9912 - val_loss: 0.3855 - val_accuracy: 0.8637\n",
            "Epoch 16/30\n",
            "129/133 [============================>.] - ETA: 0s - loss: 0.0339 - accuracy: 0.9929\n",
            "Epoch 16: val_loss did not improve from 0.31234\n",
            "Restoring model weights from the end of the best epoch: 8.\n",
            "133/133 [==============================] - 1s 10ms/step - loss: 0.0346 - accuracy: 0.9928 - val_loss: 0.4010 - val_accuracy: 0.8604\n",
            "Epoch 16: early stopping\n",
            "83/83 [==============================] - 0s 3ms/step - loss: 0.3199 - accuracy: 0.8671\n",
            "Test Accuracy: 86.71%\n"
          ]
        }
      ],
      "source": [
        "from tensorflow.keras.models import Sequential\n",
        "from tensorflow.keras.layers import Embedding, Dropout, Conv1D, GlobalMaxPooling1D, Dense\n",
        "from tensorflow.keras.optimizers import Adam\n",
        "from tensorflow.keras.callbacks import ModelCheckpoint, EarlyStopping\n",
        "\n",
        "# Define callbacks\n",
        "model_checkpoint = ModelCheckpoint('best_model.h5', save_best_only=True, save_weights_only=False, monitor='val_loss', mode='min', verbose=1)\n",
        "early_stopping = EarlyStopping(monitor='val_loss', patience=8, mode='min', restore_best_weights=True, verbose=1)\n",
        "\n",
        "model = Sequential()\n",
        "model.add(Embedding(input_dim=len(tokenizer.word_index) + 1, output_dim=1000, input_length=X_train_padded.shape[1]))\n",
        "model.add(Dropout(0.2))\n",
        "model.add(Conv1D(32, 5, activation='relu'))\n",
        "model.add(GlobalMaxPooling1D())\n",
        "model.add(Dense(32, activation='relu'))\n",
        "model.add(Dense(1, activation='sigmoid'))\n",
        "\n",
        "# Compile the model with an adjusted learning rate\n",
        "model.compile(optimizer=Adam(learning_rate=0.0001), loss='binary_crossentropy', metrics=['accuracy'])\n",
        "\n",
        "# Train the model with callbacks and modified validation metric\n",
        "history = model.fit(X_train_padded, y_train_binary, epochs=30, batch_size=64, validation_split=0.2, callbacks=[model_checkpoint, early_stopping])\n",
        "\n",
        "# Load the best weights from the checkpoint\n",
        "model.load_weights('best_model.h5')\n",
        "\n",
        "# Evaluate the model on the test set\n",
        "loss, accuracy = model.evaluate(X_test_padded, y_test_binary)\n",
        "print(f'Test Accuracy: {accuracy * 100:.2f}%')\n"
      ]
    },
    {
      "cell_type": "code",
      "execution_count": null,
      "metadata": {
        "colab": {
          "base_uri": "https://localhost:8080/",
          "height": 1000
        },
        "id": "61mL4TwcvA-x",
        "outputId": "de6ca19b-afb8-41ce-8229-cbad9c9b6b9c"
      },
      "outputs": [
        {
          "output_type": "display_data",
          "data": {
            "text/plain": [
              "<Figure size 640x480 with 1 Axes>"
            ],
            "image/png": "[encoded data removed]"
          },
          "metadata": {}
        },
        {
          "output_type": "display_data",
          "data": {
            "text/plain": [
              "<Figure size 640x480 with 1 Axes>"
            ],
            "image/png": "[encoded data removed]"
          },
          "metadata": {}
        },
        {
          "output_type": "stream",
          "name": "stdout",
          "text": [
            "Model: \"sequential\"\n",
            "_________________________________________________________________\n",
            " Layer (type)                Output Shape              Param #   \n",
            "=================================================================\n",
            " embedding (Embedding)       (None, 56, 1000)          11613000  \n",
            "                                                                 \n",
            " spatial_dropout1d (Spatial  (None, 56, 1000)          0         \n",
            " Dropout1D)                                                      \n",
            "                                                                 \n",
            " bidirectional (Bidirection  (None, 56, 128)           545280    \n",
            " al)                                                             \n",
            "                                                                 \n",
            " global_max_pooling1d (Glob  (None, 128)               0         \n",
            " alMaxPooling1D)                                                 \n",
            "                                                                 \n",
            " dense (Dense)               (None, 64)                8256      \n",
            "                                                                 \n",
            " dropout (Dropout)           (None, 64)                0         \n",
            "                                                                 \n",
            " dense_1 (Dense)             (None, 1)                 65        \n",
            "                                                                 \n",
            "=================================================================\n",
            "Total params: 12166601 (46.41 MB)\n",
            "Trainable params: 12166601 (46.41 MB)\n",
            "Non-trainable params: 0 (0.00 Byte)\n",
            "_________________________________________________________________\n"
          ]
        }
      ],
      "source": [
        "import matplotlib.pyplot as plt\n",
        "\n",
        "def show_model_summary(model):\n",
        "    \"\"\"\n",
        "    Display the summary of the model's architecture and parameters.\n",
        "\n",
        "    Args:\n",
        "        model (tf.keras.models.Sequential): Keras sequential model.\n",
        "\n",
        "    Returns:\n",
        "        None\n",
        "    \"\"\"\n",
        "    model.summary()\n",
        "\n",
        "def plot_graphs(history, metric):\n",
        "    plt.plot(history.history[metric])\n",
        "    plt.plot(history.history[f'val_{metric}'])\n",
        "    plt.xlabel(\"Epochs\")\n",
        "    plt.ylabel(metric)\n",
        "    plt.legend([metric, f'val_{metric}'])\n",
        "    plt.show()\n",
        "\n",
        "plot_graphs(history, \"accuracy\")\n",
        "plot_graphs(history, \"loss\")\n",
        "\n",
        "# Call the function with your model\n",
        "show_model_summary(model)"
      ]
    },
    {
      "cell_type": "markdown",
      "metadata": {
        "id": "YXcDWb_9Xyn5"
      },
      "source": [
        "Dengan Cross_validation set"
      ]
    },
    {
      "cell_type": "code",
      "execution_count": null,
      "metadata": {
        "colab": {
          "base_uri": "https://localhost:8080/",
          "height": 1000
        },
        "id": "PkmYflquX0nJ",
        "outputId": "93f22016-489b-44d0-82e3-eee3e947a793"
      },
      "outputs": [
        {
          "data": {
            "image/png": "[encoded data removed]",
            "text/plain": [
              "<Figure size 640x480 with 1 Axes>"
            ]
          },
          "metadata": {},
          "output_type": "display_data"
        },
        {
          "data": {
            "image/png": "[encoded data removed]",
            "text/plain": [
              "<Figure size 640x480 with 1 Axes>"
            ]
          },
          "metadata": {},
          "output_type": "display_data"
        },
        {
          "data": {
            "image/png": "[encoded data removed]",
            "text/plain": [
              "<Figure size 640x480 with 1 Axes>"
            ]
          },
          "metadata": {},
          "output_type": "display_data"
        },
        {
          "name": "stdout",
          "output_type": "stream",
          "text": [
            "Model: \"sequential_7\"\n",
            "_________________________________________________________________\n",
            " Layer (type)                Output Shape              Param #   \n",
            "=================================================================\n",
            " embedding_7 (Embedding)     (None, 50, 1000)          10060000  \n",
            "                                                                 \n",
            " spatial_dropout1d_7 (Spati  (None, 50, 1000)          0         \n",
            " alDropout1D)                                                    \n",
            "                                                                 \n",
            " bidirectional_7 (Bidirecti  (None, 50, 256)           1156096   \n",
            " onal)                                                           \n",
            "                                                                 \n",
            " global_max_pooling1d_7 (Gl  (None, 256)               0         \n",
            " obalMaxPooling1D)                                               \n",
            "                                                                 \n",
            " dense_14 (Dense)            (None, 64)                16448     \n",
            "                                                                 \n",
            " dropout_7 (Dropout)         (None, 64)                0         \n",
            "                                                                 \n",
            " dense_15 (Dense)            (None, 1)                 65        \n",
            "                                                                 \n",
            "=================================================================\n",
            "Total params: 11232609 (42.85 MB)\n",
            "Trainable params: 11232609 (42.85 MB)\n",
            "Non-trainable params: 0 (0.00 Byte)\n",
            "_________________________________________________________________\n"
          ]
        }
      ],
      "source": [
        "import matplotlib.pyplot as plt\n",
        "\n",
        "\n",
        "# Plot training and validation loss\n",
        "plt.plot(history.history['loss'], label='Training Loss')\n",
        "plt.plot(history.history['val_loss'], label='Validation Loss')\n",
        "plt.title('Training and Cross-Validation Loss')\n",
        "plt.xlabel('Epoch')\n",
        "plt.ylabel('Loss')\n",
        "plt.legend()\n",
        "plt.show()\n",
        "\n",
        "\n",
        "import matplotlib.pyplot as plt\n",
        "\n",
        "def show_model_summary(model):\n",
        "    \"\"\"\n",
        "    Display the summary of the model's architecture and parameters.\n",
        "\n",
        "    Args:\n",
        "        model (tf.keras.models.Sequential): Keras sequential model.\n",
        "\n",
        "    Returns:\n",
        "        None\n",
        "    \"\"\"\n",
        "    model.summary()\n",
        "\n",
        "def plot_graphs(history, metric):\n",
        "    plt.plot(history.history[metric])\n",
        "    plt.plot(history.history[f'val_{metric}'])\n",
        "    plt.xlabel(\"Epochs\")\n",
        "    plt.ylabel(metric)\n",
        "    plt.legend([metric, f'val_{metric}'])\n",
        "    plt.show()\n",
        "\n",
        "plot_graphs(history, \"accuracy\")\n",
        "plot_graphs(history, \"loss\")\n",
        "\n",
        "# Call the function with your model\n",
        "show_model_summary(model)\n"
      ]
    },
    {
      "cell_type": "code",
      "execution_count": null,
      "metadata": {
        "colab": {
          "base_uri": "https://localhost:8080/"
        },
        "id": "x5vYj7T_wUew",
        "outputId": "e14f1f0a-8a3f-4df5-9246-34e033e6c521"
      },
      "outputs": [
        {
          "name": "stdout",
          "output_type": "stream",
          "text": [
            "Drive already mounted at /content/drive; to attempt to forcibly remount, call drive.mount(\"/content/drive\", force_remount=True).\n",
            "Max Length: 56\n"
          ]
        },
        {
          "name": "stderr",
          "output_type": "stream",
          "text": [
            "WARNING:tensorflow:6 out of the last 6 calls to <function Model.make_predict_function.<locals>.predict_function at 0x7f0136ff6c20> triggered tf.function retracing. Tracing is expensive and the excessive number of tracings could be due to (1) creating @tf.function repeatedly in a loop, (2) passing tensors with different shapes, (3) passing Python objects instead of tensors. For (1), please define your @tf.function outside of the loop. For (2), @tf.function has reduce_retracing=True option that can avoid unnecessary retracing. For (3), please refer to https://www.tensorflow.org/guide/function#controlling_retracing and https://www.tensorflow.org/api_docs/python/tf/function for  more details.\n"
          ]
        },
        {
          "name": "stdout",
          "output_type": "stream",
          "text": [
            "1/1 [==============================] - 2s 2s/step\n",
            "Predicted Class: 1 (Confidence: 0.9449)\n"
          ]
        }
      ],
      "source": [
        "from google.colab import drive\n",
        "from keras.preprocessing.sequence import pad_sequences\n",
        "import tensorflow as tf\n",
        "drive.mount('/content/drive')\n",
        "\n",
        "# Tokenize the sentences\n",
        "tokenizer = tf.keras.preprocessing.text.Tokenizer()\n",
        "# Read the content of 'sentences.txt' and split it into lines\n",
        "\n",
        "with open('sentences.txt', 'r', encoding='utf-8') as file:\n",
        "    tokenizer_sentences = file.read().splitlines()\n",
        "tokenizer.fit_on_texts(tokenizer_sentences)\n",
        "\n",
        "\n",
        "from keras.models import load_model\n",
        "# Load the best-performing model\n",
        "model_path = '/content/drive/MyDrive/sentimen_analysis3.0.h5'\n",
        "model = load_model(model_path)\n",
        "\n",
        "# Load the best weights from the checkpoint\n",
        "#model.load_weights('best_model.h5')\n",
        "\n",
        "# Now, for prediction on new text:\n",
        "new_text = \"kontol\"\n",
        "max_length = 56\n",
        "print(\"Max Length:\", max_length)\n",
        "\n",
        "# Tokenize and pad the new text\n",
        "new_sequence = tokenizer.texts_to_sequences([new_text])\n",
        "new_padded_sequence = pad_sequences(new_sequence, maxlen=max_length, padding='post')\n",
        "\n",
        "# Make predictions\n",
        "prediction = model.predict(new_padded_sequence)\n",
        "\n",
        "# Extract the scalar value from the NumPy array\n",
        "confidence = prediction[0, 0]\n",
        "\n",
        "# Threshold for considering a label as positive\n",
        "threshold = 0.5\n",
        "\n",
        "# Interpret prediction\n",
        "predicted_class = 1 if confidence >= threshold else 0\n",
        "\n",
        "# Convert confidence to a format that can be handled by format method\n",
        "confidence_str = '{:.4f}'.format(confidence)\n",
        "\n",
        "print(f\"Predicted Class: {predicted_class} (Confidence: {confidence_str})\")\n",
        "\n",
        "#multi text-classification\n",
        "# Interpret predictions for each label\n",
        "#labels = [\"labels_HS\", \"labels_Abusive\", \"labels_HS_Individual\", \"labels_HS_Group\",\n",
        "#          \"labels_HS_Religion\", \"labels_HS_Race\", \"labels_HS_Physical\", \"labels_HS_Gender\"]\n",
        "\n",
        "#for label, prediction in zip(labels, predictions[0]):\n",
        "#    predicted_class = 1 if prediction >= threshold else 0\n",
        "#    print(f\"{label}: {predicted_class} (Confidence: {prediction:.4f})\")\n"
      ]
    },
    {
      "cell_type": "code",
      "source": [
        "import seaborn as sns\n",
        "from sklearn.metrics import confusion_matrix, classification_report\n",
        "import matplotlib.pyplot as plt\n",
        "\n",
        "\n",
        "# Assuming 'model' is your trained model\n",
        "# 'X_test_padded' is your padded test data\n",
        "\n",
        "# Make predictions on the test data\n",
        "y_pred_probs = model.predict(X_test_padded)\n",
        "\n",
        "# Convert probabilities to binary predictions based on a threshold (e.g., 0.5)\n",
        "threshold = 0.5\n",
        "y_pred_binary = (y_pred_probs > threshold).astype(int)\n",
        "\n",
        "# Calculate confusion matrix\n",
        "cm = confusion_matrix(y_test_binary, y_pred_binary)\n",
        "\n",
        "# Print confusion matrix\n",
        "print(\"Confusion Matrix:\")\n",
        "print(cm)\n",
        "\n",
        "# Plot confusion matrix\n",
        "plt.figure(figsize=(8, 6))\n",
        "sns.heatmap(cm, annot=True, fmt=\"d\", cmap=\"Blues\", xticklabels=[\"Not Positive\", \"Positive\"], yticklabels=[\"Not Positive\", \"Positive\"])\n",
        "plt.xlabel(\"Predicted\")\n",
        "plt.ylabel(\"Actual\")\n",
        "plt.title(\"Confusion Matrix\")\n",
        "plt.show()\n",
        "\n",
        "# Calculate and print precision, recall, and F1-score for each class\n",
        "print(\"\\nClassification Report:\")\n",
        "print(classification_report(y_test_binary, y_pred_binary))\n"
      ],
      "metadata": {
        "colab": {
          "base_uri": "https://localhost:8080/",
          "height": 824
        },
        "id": "gDvU-EfU3IDC",
        "outputId": "7b6ddfb1-3337-4946-b028-05d8d3a5cd82"
      },
      "execution_count": null,
      "outputs": [
        {
          "output_type": "stream",
          "name": "stdout",
          "text": [
            "83/83 [==============================] - 0s 3ms/step\n",
            "Confusion Matrix:\n",
            "[[1050  152]\n",
            " [ 189 1251]]\n"
          ]
        },
        {
          "output_type": "display_data",
          "data": {
            "text/plain": [
              "<Figure size 800x600 with 2 Axes>"
            ],
            "image/png": "[encoded data removed]"
          },
          "metadata": {}
        },
        {
          "output_type": "stream",
          "name": "stdout",
          "text": [
            "\n",
            "Classification Report:\n",
            "              precision    recall  f1-score   support\n",
            "\n",
            "           0       0.85      0.87      0.86      1202\n",
            "           1       0.89      0.87      0.88      1440\n",
            "\n",
            "    accuracy                           0.87      2642\n",
            "   macro avg       0.87      0.87      0.87      2642\n",
            "weighted avg       0.87      0.87      0.87      2642\n",
            "\n"
          ]
        }
      ]
    },
    {
      "cell_type": "markdown",
      "source": [
        "unsupervised machine learning"
      ],
      "metadata": {
        "id": "e6H3f_5wGU7b"
      }
    },
    {
      "cell_type": "code",
      "source": [
        "import numpy as np\n",
        "import tensorflow as tf\n",
        "from sklearn.ensemble import RandomForestClassifier\n",
        "from sklearn.svm import OneClassSVM\n",
        "from sklearn.metrics import classification_report, accuracy_score\n",
        "from sklearn.linear_model import LogisticRegression\n",
        "from sklearn.model_selection import cross_val_score\n",
        "from sklearn.model_selection import StratifiedKFold\n",
        "from sklearn.utils import class_weight\n",
        "# Convert labels to binary classification (positive or not)\n",
        "y_train_binary = (np.sum([labels_HS, labels_Abusive, labels_HS_Individual, labels_HS_Group,\n",
        "                          labels_HS_Religion, labels_HS_Race, labels_HS_Physical, labels_HS_Gender], axis=0) > 0).astype(int)\n",
        "\n",
        "y_test_binary = (np.sum([test_labels_HS, test_labels_Abusive, test_labels_HS_Individual, test_labels_HS_Group,\n",
        "                         test_labels_HS_Religion, test_labels_HS_Race, test_labels_HS_Physical, test_labels_HS_Gender], axis=0) > 0).astype(int)\n",
        "\n",
        "# Tokenize the sentences\n",
        "tokenizer = tf.keras.preprocessing.text.Tokenizer()\n",
        "tokenizer.fit_on_texts(sentences)\n",
        "\n",
        "X_train = tokenizer.texts_to_sequences(sentences)\n",
        "X_test = tokenizer.texts_to_sequences(test_sentences)\n",
        "\n",
        "# Pad sequences to ensure consistent length\n",
        "max_length = 56  # Adjust based on your data\n",
        "X_train_padded = tf.keras.preprocessing.sequence.pad_sequences(X_train, padding='post', maxlen=max_length)\n",
        "X_test_padded = tf.keras.preprocessing.sequence.pad_sequences(X_test, padding='post', maxlen=max_length)\n"
      ],
      "metadata": {
        "id": "dKuGA3SFGcvQ"
      },
      "execution_count": null,
      "outputs": []
    },
    {
      "cell_type": "code",
      "source": [
        "# Method 1: Ensemble Methods (Random Forest)\n",
        "rf_model = RandomForestClassifier(n_estimators=100, random_state=42)\n",
        "rf_model.fit(X_train_padded, y_train_binary)\n",
        "rf_predictions = rf_model.predict(X_test_padded)\n",
        "rf_accuracy = accuracy_score(y_test_binary, rf_predictions)\n",
        "rf_report = classification_report(y_test_binary, rf_predictions)\n",
        "print(\"Random Forest Model:\")\n",
        "print(\"Accuracy:\", rf_accuracy)\n",
        "print(\"Classification Report:\\n\", rf_report)"
      ],
      "metadata": {
        "colab": {
          "base_uri": "https://localhost:8080/"
        },
        "id": "1ecuRvgBHhzB",
        "outputId": "d09b527a-4034-4203-f07b-f339fa7d6376"
      },
      "execution_count": null,
      "outputs": [
        {
          "output_type": "stream",
          "name": "stdout",
          "text": [
            "Random Forest Model:\n",
            "Accuracy: 0.6589704769114307\n",
            "Classification Report:\n",
            "               precision    recall  f1-score   support\n",
            "\n",
            "           0       0.67      0.49      0.57      1202\n",
            "           1       0.65      0.80      0.72      1440\n",
            "\n",
            "    accuracy                           0.66      2642\n",
            "   macro avg       0.66      0.65      0.64      2642\n",
            "weighted avg       0.66      0.66      0.65      2642\n",
            "\n"
          ]
        }
      ]
    },
    {
      "cell_type": "code",
      "source": [
        "# Method 2: Cost-Sensitive Learning (Logistic Regression with class_weight)\n",
        "lr_model = LogisticRegression(class_weight='balanced', random_state=42)\n",
        "lr_model.fit(X_train_padded, y_train_binary)\n",
        "lr_predictions = lr_model.predict(X_test_padded)\n",
        "lr_accuracy = accuracy_score(y_test_binary, lr_predictions)\n",
        "lr_report = classification_report(y_test_binary, lr_predictions)\n",
        "print(\"\\nLogistic Regression with Class Weight:\")\n",
        "print(\"Accuracy:\", lr_accuracy)\n",
        "print(\"Classification Report:\\n\", lr_report)"
      ],
      "metadata": {
        "colab": {
          "base_uri": "https://localhost:8080/"
        },
        "id": "F9hPekkkGkM5",
        "outputId": "3b551b4d-4a54-4733-c49b-45764b9c8b95"
      },
      "execution_count": null,
      "outputs": [
        {
          "output_type": "stream",
          "name": "stdout",
          "text": [
            "\n",
            "Logistic Regression with Class Weight:\n",
            "Accuracy: 0.560560181680545\n",
            "Classification Report:\n",
            "               precision    recall  f1-score   support\n",
            "\n",
            "           0       0.51      0.62      0.56      1202\n",
            "           1       0.62      0.51      0.56      1440\n",
            "\n",
            "    accuracy                           0.56      2642\n",
            "   macro avg       0.57      0.57      0.56      2642\n",
            "weighted avg       0.57      0.56      0.56      2642\n",
            "\n"
          ]
        },
        {
          "output_type": "stream",
          "name": "stderr",
          "text": [
            "/usr/local/lib/python3.10/dist-packages/sklearn/linear_model/_logistic.py:458: ConvergenceWarning: lbfgs failed to converge (status=1):\n",
            "STOP: TOTAL NO. of ITERATIONS REACHED LIMIT.\n",
            "\n",
            "Increase the number of iterations (max_iter) or scale the data as shown in:\n",
            "    https://scikit-learn.org/stable/modules/preprocessing.html\n",
            "Please also refer to the documentation for alternative solver options:\n",
            "    https://scikit-learn.org/stable/modules/linear_model.html#logistic-regression\n",
            "  n_iter_i = _check_optimize_result(\n"
          ]
        }
      ]
    },
    {
      "cell_type": "markdown",
      "source": [
        "Anomaly detection"
      ],
      "metadata": {
        "id": "xTd9bYVOHD1Z"
      }
    },
    {
      "cell_type": "code",
      "source": [
        "# Method 3: Anomaly Detection (One-Class SVM)\n",
        "# We train the model only on the majority class (negative class)\n",
        "svm_model = OneClassSVM(kernel='linear', nu=0.01)  # Adjust nu based on your problem\n",
        "svm_model.fit(X_train_padded[y_train_binary == 0])\n",
        "svm_predictions = svm_model.predict(X_test_padded)\n",
        "svm_predictions[svm_predictions == 1] = 0  # Map predicted positives to 0 (majority class)\n",
        "svm_predictions[svm_predictions == -1] = 1  # Map predicted anomalies to 1 (minority class)\n",
        "svm_accuracy = accuracy_score(y_test_binary, svm_predictions)\n",
        "svm_report = classification_report(y_test_binary, svm_predictions)\n",
        "print(\"\\nOne-Class SVM (Anomaly Detection):\")\n",
        "print(\"Accuracy:\", svm_accuracy)\n",
        "print(\"Classification Report:\\n\", svm_report)"
      ],
      "metadata": {
        "colab": {
          "base_uri": "https://localhost:8080/"
        },
        "id": "fmnWG8MpHDiJ",
        "outputId": "0ab5d8c0-013c-4e51-9e2b-88d8f92367b8"
      },
      "execution_count": null,
      "outputs": [
        {
          "output_type": "stream",
          "name": "stdout",
          "text": [
            "\n",
            "One-Class SVM (Anomaly Detection):\n",
            "Accuracy: 0.45155185465556397\n",
            "Classification Report:\n",
            "               precision    recall  f1-score   support\n",
            "\n",
            "           0       0.45      0.99      0.62      1202\n",
            "           1       0.24      0.00      0.01      1440\n",
            "\n",
            "    accuracy                           0.45      2642\n",
            "   macro avg       0.34      0.50      0.31      2642\n",
            "weighted avg       0.33      0.45      0.29      2642\n",
            "\n"
          ]
        }
      ]
    },
    {
      "cell_type": "code",
      "execution_count": null,
      "metadata": {
        "colab": {
          "base_uri": "https://localhost:8080/",
          "height": 17
        },
        "id": "be660jk5wtwy",
        "outputId": "225de301-d221-4371-940a-eeba43a46bcc"
      },
      "outputs": [
        {
          "output_type": "display_data",
          "data": {
            "text/plain": [
              "<IPython.core.display.Javascript object>"
            ],
            "application/javascript": [
              "\n",
              "    async function download(id, filename, size) {\n",
              "      if (!google.colab.kernel.accessAllowed) {\n",
              "        return;\n",
              "      }\n",
              "      const div = document.createElement('div');\n",
              "      const label = document.createElement('label');\n",
              "      label.textContent = `Downloading \"${filename}\": `;\n",
              "      div.appendChild(label);\n",
              "      const progress = document.createElement('progress');\n",
              "      progress.max = size;\n",
              "      div.appendChild(progress);\n",
              "      document.body.appendChild(div);\n",
              "\n",
              "      const buffers = [];\n",
              "      let downloaded = 0;\n",
              "\n",
              "      const channel = await google.colab.kernel.comms.open(id);\n",
              "      // Send a message to notify the kernel that we're ready.\n",
              "      channel.send({})\n",
              "\n",
              "      for await (const message of channel.messages) {\n",
              "        // Send a message to notify the kernel that we're ready.\n",
              "        channel.send({})\n",
              "        if (message.buffers) {\n",
              "          for (const buffer of message.buffers) {\n",
              "            buffers.push(buffer);\n",
              "            downloaded += buffer.byteLength;\n",
              "            progress.value = downloaded;\n",
              "          }\n",
              "        }\n",
              "      }\n",
              "      const blob = new Blob(buffers, {type: 'application/binary'});\n",
              "      const a = document.createElement('a');\n",
              "      a.href = window.URL.createObjectURL(blob);\n",
              "      a.download = filename;\n",
              "      div.appendChild(a);\n",
              "      a.click();\n",
              "      div.remove();\n",
              "    }\n",
              "  "
            ]
          },
          "metadata": {}
        },
        {
          "output_type": "display_data",
          "data": {
            "text/plain": [
              "<IPython.core.display.Javascript object>"
            ],
            "application/javascript": [
              "download(\"download_d602e15c-936c-44a2-b66e-bb4710c655af\", \"best_model.h5\", 141331496)"
            ]
          },
          "metadata": {}
        }
      ],
      "source": [
        "from google.colab import files\n",
        "\n",
        "# Save the best model checkpoint to a file\n",
        "files.download('best_model.h5')"
      ]
    },
    {
      "cell_type": "code",
      "execution_count": null,
      "metadata": {
        "id": "mSB8UQQBwhmJ"
      },
      "outputs": [],
      "source": [
        "# Install TensorFlow.js converter\n",
        "!pip install tensorflowjs\n",
        "\n",
        "# Convert the Keras model to TensorFlow.js format\n",
        "!tensorflowjs_converter --input_format=keras best_model.h5 tfjs_model\n",
        "\n",
        "# Zip the converted model for easy download\n",
        "!zip -r tfjs_model.zip tfjs_model\n",
        "\n",
        "# Download the zipped model\n",
        "from google.colab import files\n",
        "files.download('tfjs_model.zip')\n"
      ]
    }
  ],
  "metadata": {
    "accelerator": "GPU",
    "colab": {
      "provenance": [],
      "authorship_tag": "ABX9TyPVAYYp6CwErBKHJjJoRaHM",
      "include_colab_link": true
    },
    "kernelspec": {
      "display_name": "Python 3",
      "name": "python3"
    },
    "language_info": {
      "name": "python"
    }
  },
  "nbformat": 4,
  "nbformat_minor": 0
}