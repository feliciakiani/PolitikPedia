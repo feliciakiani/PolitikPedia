{
  "cells": [
    {
      "cell_type": "markdown",
      "metadata": {
        "colab_type": "text",
        "id": "view-in-github"
      },
      "source": [
        "<a href=\"https://colab.research.google.com/github/feliciakiani/PolitikPedia/blob/main/Machine%20Learning/ETL_Spam.ipynb\" target=\"_parent\"><img src=\"https://colab.research.google.com/assets/colab-badge.svg\" alt=\"Open In Colab\"/></a>"
      ]
    },
    {
      "cell_type": "code",
      "execution_count": null,
      "metadata": {
        "colab": {
          "base_uri": "https://localhost:8080/"
        },
        "id": "LrETue2CZA00",
        "outputId": "8a8845b0-c327-4d4a-bb77-a667fc1a0e0d"
      },
      "outputs": [],
      "source": [
        "!pip install PySastrawi\n",
        "!pip install flask\n",
        "!pip install mysql.connector\n",
        "!pip install textblob"
      ]
    },
    {
      "cell_type": "code",
      "execution_count": 32,
      "metadata": {
        "colab": {
          "base_uri": "https://localhost:8080/",
          "height": 73
        },
        "id": "yoFu5NGqZH11",
        "outputId": "1eca1c75-198a-4545-8664-832b733d4947"
      },
      "outputs": [],
      "source": [
        "import numpy as np\n",
        "import pandas as pd\n",
        "# from google.colab import files\n",
        "# uploaded = files.upload()\n",
        "\n",
        "import re\n",
        "from Sastrawi.Stemmer.StemmerFactory import StemmerFactory\n",
        "\n",
        "import mysql.connector\n",
        "from textblob import TextBlob\n",
        "from keras.preprocessing.sequence import pad_sequences\n",
        "import tensorflow as tf\n",
        "import os\n",
        "\n",
        "from keras.models import load_model"
      ]
    },
    {
      "cell_type": "code",
      "execution_count": 33,
      "metadata": {
        "id": "AI5VN4WsgWF6"
      },
      "outputs": [],
      "source": [
        "def filters(text):\n",
        "  filters = '!\"#$%&()*+,-./:;<=>?@[\\\\]^_`{|}~\\t\\n'\n",
        "  regex_pattern = '[' + re.escape(filters) + ']'\n",
        "\n",
        "  filtered_text = re.sub(regex_pattern, '', text)\n",
        "\n",
        "  return filtered_text\n",
        "\n",
        "\n",
        "factory = StemmerFactory()\n",
        "stemmer = factory.create_stemmer()\n",
        "\n",
        "def stemming(text):\n",
        "    return stemmer.stem(text)\n",
        "\n",
        "def preprocessedText(text):\n",
        "  text = filters(text)\n",
        "  text = stemming(text)\n",
        "\n",
        "  return text"
      ]
    },
    {
      "cell_type": "markdown",
      "metadata": {
        "id": "CV-trKpDtC4Y"
      },
      "source": []
    },
    {
      "cell_type": "code",
      "execution_count": 34,
      "metadata": {
        "id": "nv5SqDRBbA94"
      },
      "outputs": [],
      "source": [
        "# #gk perlu\n",
        "# with open('sentences_spam.txt', 'w', encoding='utf-8') as file:\n",
        "#     for sentences_spam in X:\n",
        "#         file.write(sentences_spam + '\\n')\n",
        "\n",
        "# from google.colab import files\n",
        "\n",
        "# # Save the best model checkpoint to a file\n",
        "# files.download('sentences_spam.txt')"
      ]
    },
    {
      "cell_type": "code",
      "execution_count": 35,
      "metadata": {
        "colab": {
          "base_uri": "https://localhost:8080/",
          "height": 383
        },
        "id": "SVnWbnbyboXS",
        "outputId": "981798bc-249a-4198-e542-a678862568d4"
      },
      "outputs": [],
      "source": [
        "model = load_model(\"spamDetection.h5\")\n",
        "\n",
        "def spam_detection(user_id):\n",
        "  # Koneksi ke database Cloud SQL\n",
        "  conn = mysql.connector.connect(\n",
        "          host=os.getenv(\"DB_HOST\"),\n",
        "          user=os.getenv(\"DB_USERNAME\"),\n",
        "          password=os.getenv(\"DB_PASSWORD\"),\n",
        "          database=os.getenv(\"DB_NAME\")\n",
        "  )\n",
        "\n",
        "  # Buat kursor\n",
        "  cursor = conn.cursor()\n",
        "\n",
        "  #-------------------------------------------------spam_Classification-------------------------------------------#\n",
        "  # Hyperparameter, jangan diganti\n",
        "  max_words = 100\n",
        "\n",
        "  query_comments = f\"SELECT ID as comment_id, Komentar as komentar_text FROM komentar WHERE IDUser = {user_id} ORDER BY TglKomentar DESC LIMIT 1\"\n",
        "  cursor.execute(query_comments)\n",
        "  comments = cursor.fetchall()\n",
        "\n",
        "  if comments:\n",
        "    for row in comments:\n",
        "      comment_id, komentar_text = row  # Extracting comment_id and Komentar\n",
        "      print(f\"Comment ID: {comment_id}, Komentar: {komentar_text}\")\n",
        "\n",
        "   # Apply preprocessing\n",
        "    preprocessed_text = preprocessedText(komentar_text)\n",
        "\n",
        "    # # Tokenize the sentences\n",
        "    # tokenizer = tf.keras.preprocessing.text.Tokenizer()\n",
        "    # # Read the content of 'sentences.txt' and split it into lines\n",
        "    # with open('sentences.txt', 'r', encoding='utf-8') as file:\n",
        "    #     tokenizer_sentences = file.read().splitlines()\n",
        "    # tokenizer.fit_on_texts(tokenizer_sentences)\n",
        "\n",
        "    # Tokenize the text data\n",
        "    Tokenizer = tf.keras.preprocessing.text.Tokenizer()\n",
        "    tokenizer = Tokenizer(num_words=max_words, filters='!\"#$%&()*+,-./:;<=>?@[\\\\]^_`{|}~\\t\\n', lower=True)\n",
        "    # Read the content of 'sentences.txt' and split it into lines\n",
        "\n",
        "    with open('sentences_spam.txt', 'r', encoding='utf-8') as file:\n",
        "      tokenizer_sentences = file.read().splitlines()\n",
        "    tokenizer.fit_on_texts(tokenizer_sentences)\n",
        "\n",
        "    # Tokenize and pad the new text\n",
        "    new_sequence = tokenizer.texts_to_sequences([preprocessed_text])\n",
        "    new_padded_sequence = pad_sequences(new_sequence, maxlen=max_words, padding='post')\n",
        "\n",
        "    # Make predictions\n",
        "    prediction = model.predict(new_padded_sequence)\n",
        "\n",
        "    # Extract the scalar value from the NumPy array\n",
        "    confidence = prediction[0, 0]\n",
        "\n",
        "    # Threshold for considering a label as positive\n",
        "    threshold = 0.5\n",
        "\n",
        "    # Interpret prediction\n",
        "    predicted_class = 1 if confidence >= threshold else 0\n",
        "\n",
        "    # Convert confidence to a format that can be handled by format method\n",
        "    confidence_str = '{:.4f}'.format(confidence)\n",
        "\n",
        "    print(f\"User ID: {user_id}, Comment ID: {comment_id}, Predicted Class: {predicted_class} (Confidence: {confidence_str})\")\n",
        "\n",
        "    # Return the results\n",
        "    result = {\n",
        "        \"comment_id\": comment_id,\n",
        "        \"predicted_class\": predicted_class,\n",
        "        \"confidence\": confidence_str\n",
        "    }\n",
        "  else:\n",
        "    result = {\"error\": f\"Comment with ID {user_id} not found.\"}\n",
        "  \n",
        "  # Close the database connection\n",
        "  cursor.close()\n",
        "  conn.close()\n",
        "\n",
        "  return result"
      ]
    },
    {
      "cell_type": "code",
      "execution_count": 36,
      "metadata": {},
      "outputs": [
        {
          "name": "stdout",
          "output_type": "stream",
          "text": [
            " * Serving Flask app '__main__'\n",
            " * Debug mode: off\n"
          ]
        },
        {
          "name": "stderr",
          "output_type": "stream",
          "text": [
            "WARNING: This is a development server. Do not use it in a production deployment. Use a production WSGI server instead.\n",
            " * Running on all addresses (0.0.0.0)\n",
            " * Running on http://127.0.0.1:8888\n",
            " * Running on http://192.168.1.56:8888\n",
            "Press CTRL+C to quit\n"
          ]
        },
        {
          "name": "stdout",
          "output_type": "stream",
          "text": [
            "Comment ID: 36, Komentar: Selamat! 200 IMPoin dri isi ulang pulsa BERHASIL msk ke akunmu. Poin hangus pd 31-12-2023. Terus kumpulkan Poin & tukar dgn reward menarik di *999# atau bit.ly/imnm3\n"
          ]
        },
        {
          "name": "stderr",
          "output_type": "stream",
          "text": [
            "[2023-12-19 18:18:54,598] ERROR in app: Exception on /spam_detection/14 [GET]\n",
            "Traceback (most recent call last):\n",
            "  File \"c:\\Users\\Felicia\\AppData\\Local\\Programs\\Python\\Python310\\lib\\site-packages\\flask\\app.py\", line 1455, in wsgi_app\n",
            "    response = self.full_dispatch_request()\n",
            "  File \"c:\\Users\\Felicia\\AppData\\Local\\Programs\\Python\\Python310\\lib\\site-packages\\flask\\app.py\", line 869, in full_dispatch_request\n",
            "    rv = self.handle_user_exception(e)\n",
            "  File \"c:\\Users\\Felicia\\AppData\\Local\\Programs\\Python\\Python310\\lib\\site-packages\\flask\\app.py\", line 867, in full_dispatch_request\n",
            "    rv = self.dispatch_request()\n",
            "  File \"c:\\Users\\Felicia\\AppData\\Local\\Programs\\Python\\Python310\\lib\\site-packages\\flask\\app.py\", line 852, in dispatch_request\n",
            "    return self.ensure_sync(self.view_functions[rule.endpoint])(**view_args)\n",
            "  File \"C:\\Users\\Felicia\\AppData\\Local\\Temp\\ipykernel_28044\\2098730259.py\", line 9, in spam_detection_endpoint\n",
            "    result = spam_detection(userId)\n",
            "  File \"C:\\Users\\Felicia\\AppData\\Local\\Temp\\ipykernel_28044\\2406128796.py\", line 52, in spam_detection\n",
            "    prediction = model.predict(new_padded_sequence)\n",
            "  File \"c:\\Users\\Felicia\\AppData\\Local\\Programs\\Python\\Python310\\lib\\site-packages\\keras\\src\\utils\\traceback_utils.py\", line 70, in error_handler\n",
            "    raise e.with_traceback(filtered_tb) from None\n",
            "  File \"C:\\Users\\Felicia\\AppData\\Local\\Temp\\__autograph_generated_file9n77iaax.py\", line 15, in tf__predict_function\n",
            "    retval_ = ag__.converted_call(ag__.ld(step_function), (ag__.ld(self), ag__.ld(iterator)), None, fscope)\n",
            "ValueError: in user code:\n",
            "\n",
            "    File \"c:\\Users\\Felicia\\AppData\\Local\\Programs\\Python\\Python310\\lib\\site-packages\\keras\\src\\engine\\training.py\", line 2440, in predict_function  *\n",
            "        return step_function(self, iterator)\n",
            "    File \"c:\\Users\\Felicia\\AppData\\Local\\Programs\\Python\\Python310\\lib\\site-packages\\keras\\src\\engine\\training.py\", line 2425, in step_function  **\n",
            "        outputs = model.distribute_strategy.run(run_step, args=(data,))\n",
            "    File \"c:\\Users\\Felicia\\AppData\\Local\\Programs\\Python\\Python310\\lib\\site-packages\\keras\\src\\engine\\training.py\", line 2413, in run_step  **\n",
            "        outputs = model.predict_step(data)\n",
            "    File \"c:\\Users\\Felicia\\AppData\\Local\\Programs\\Python\\Python310\\lib\\site-packages\\keras\\src\\engine\\training.py\", line 2381, in predict_step\n",
            "        return self(x, training=False)\n",
            "    File \"c:\\Users\\Felicia\\AppData\\Local\\Programs\\Python\\Python310\\lib\\site-packages\\keras\\src\\utils\\traceback_utils.py\", line 70, in error_handler\n",
            "        raise e.with_traceback(filtered_tb) from None\n",
            "    File \"c:\\Users\\Felicia\\AppData\\Local\\Programs\\Python\\Python310\\lib\\site-packages\\keras\\src\\engine\\input_spec.py\", line 298, in assert_input_compatibility\n",
            "        raise ValueError(\n",
            "\n",
            "    ValueError: Input 0 of layer \"sequential_20\" is incompatible with the layer: expected shape=(None, 34), found shape=(None, 100)\n",
            "\n",
            "192.168.1.56 - - [19/Dec/2023 18:18:54] \"GET /spam_detection/14 HTTP/1.1\" 500 -\n"
          ]
        }
      ],
      "source": [
        "# flask\n",
        "from flask import Flask, jsonify, request\n",
        "\n",
        "app = Flask(__name__)\n",
        "\n",
        "@app.route('/spam_detection/<string:userId>', methods=['GET'])\n",
        "def spam_detection_endpoint(userId):\n",
        "\n",
        "    result = spam_detection(userId)\n",
        "    print(result)\n",
        "    return jsonify(result)\n",
        "\n",
        "if __name__ == '__main__':\n",
        "    app.run(host='0.0.0.0', port=8888)\n"
      ]
    }
  ],
  "metadata": {
    "colab": {
      "authorship_tag": "ABX9TyO8STlmBXG3dGzfx+dgsZTJ",
      "include_colab_link": true,
      "provenance": []
    },
    "kernelspec": {
      "display_name": "Python 3",
      "name": "python3"
    },
    "language_info": {
      "codemirror_mode": {
        "name": "ipython",
        "version": 3
      },
      "file_extension": ".py",
      "mimetype": "text/x-python",
      "name": "python",
      "nbconvert_exporter": "python",
      "pygments_lexer": "ipython3",
      "version": "3.10.7"
    }
  },
  "nbformat": 4,
  "nbformat_minor": 0
}
